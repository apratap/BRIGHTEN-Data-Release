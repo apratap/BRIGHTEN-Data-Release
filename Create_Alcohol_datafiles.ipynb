{
 "cells": [
  {
   "cell_type": "markdown",
   "metadata": {},
   "source": [
    "# Alchohol Use Final Data Prep"
   ]
  },
  {
   "cell_type": "code",
   "execution_count": null,
   "metadata": {
    "ExecuteTime": {
     "end_time": "2018-11-01T17:55:29.788810Z",
     "start_time": "2018-11-01T17:55:26.228571Z"
    }
   },
   "outputs": [],
   "source": [
    "import datetime as dt\n",
    "import pandas as pd\n",
    "\n",
    "from IPython.core.interactiveshell import InteractiveShell\n",
    "import synapseclient\n",
    "from synapseclient import Activity, Schema, Table, as_table_columns\n",
    "\n",
    "InteractiveShell.ast_node_interactivity = 'all'\n",
    "syn = synapseclient.Synapse()\n",
    "syn.login()"
   ]
  },
  {
   "cell_type": "code",
   "execution_count": null,
   "metadata": {
    "ExecuteTime": {
     "end_time": "2018-11-01T19:28:59.806382Z",
     "start_time": "2018-11-01T19:28:58.610318Z"
    }
   },
   "outputs": [],
   "source": [
    "v1sid, v2sid =  'syn10250481', 'syn9974011'\n",
    "\n",
    "v1 = pd.read_excel(syn.get(v1sid).path, parse_dates=['response_local'])\n",
    "v2 = pd.read_csv(syn.get(v2sid).path, parse_dates=['createdAt'])\n",
    "\n",
    "v1.head()\n",
    "v2.head()"
   ]
  },
  {
   "cell_type": "markdown",
   "metadata": {},
   "source": [
    "### Process V1 data"
   ]
  },
  {
   "cell_type": "code",
   "execution_count": null,
   "metadata": {
    "ExecuteTime": {
     "end_time": "2018-11-01T19:29:02.199301Z",
     "start_time": "2018-11-01T19:29:02.133817Z"
    }
   },
   "outputs": [],
   "source": [
    "# drop the uneeded columns\n",
    "v1 = v1.drop(columns=[\n",
    "    'sent_time_local', 'sent_time_utc', 'response_utc', 'response_id', 'user_id', 'audit'\n",
    "]).rename(columns={\n",
    "    'brightenid': 'participant_id',\n",
    "    'audit1':'alc_1',\n",
    "    'audit2':'alc_2',\n",
    "    'audit3':'alc_3',\n",
    "    'response_local':'dt_response'\n",
    "})\n",
    "\n",
    "# add qsum\n",
    "v1['alc_sum'] = [t.alc_1 + t.alc_2 + t.alc_3 for t in v1.itertuples()]\n",
    "\n",
    "v1.head()"
   ]
  },
  {
   "cell_type": "markdown",
   "metadata": {},
   "source": [
    "### Process V2 data"
   ]
  },
  {
   "cell_type": "code",
   "execution_count": null,
   "metadata": {
    "ExecuteTime": {
     "end_time": "2018-11-01T19:29:03.908488Z",
     "start_time": "2018-11-01T19:29:03.819505Z"
    }
   },
   "outputs": [],
   "source": [
    "v2 = v2.drop(columns=['day'])\\\n",
    "     .rename(columns={\n",
    "        'How often did you have a drink containing alcohol in the past year?':'alc_1',\n",
    "        'How many drinks did you have on a typical day when you were drinking in the past year?':'alc_2',\n",
    "        'How often did you have six or more drinks on one occasion in the past year?':'alc_3',\n",
    "        'username':'participant_id',\n",
    "        'createdAt': 'dt_response'\n",
    "})\n",
    "\n",
    "# add qsum\n",
    "v2['alc_sum'] = [t.alc_1 + t.alc_2 + t.alc_3 for t in v2.itertuples()]\n",
    "\n",
    "v2.head()"
   ]
  },
  {
   "cell_type": "markdown",
   "metadata": {
    "ExecuteTime": {
     "end_time": "2018-11-01T19:26:25.708447Z",
     "start_time": "2018-11-01T19:26:25.674402Z"
    }
   },
   "source": [
    "### Combine the DataFrames"
   ]
  },
  {
   "cell_type": "code",
   "execution_count": null,
   "metadata": {
    "ExecuteTime": {
     "end_time": "2018-11-01T19:29:33.677544Z",
     "start_time": "2018-11-01T19:29:33.640342Z"
    }
   },
   "outputs": [],
   "source": [
    "combined = pd.concat([v1, v2], sort=False)\n",
    "\n",
    "# order the columns\n",
    "combined = combined.loc[:,\n",
    "    ['participant_id', 'dt_response', 'alc_1', 'alc_2', 'alc_3', 'alc_sum']\n",
    "]\n",
    "\n",
    "combined.head()"
   ]
  },
  {
   "cell_type": "markdown",
   "metadata": {},
   "source": [
    "### Set provenance and upload to Synapse"
   ]
  },
  {
   "cell_type": "code",
   "execution_count": null,
   "metadata": {
    "ExecuteTime": {
     "end_time": "2018-11-01T19:31:27.032646Z",
     "start_time": "2018-11-01T19:31:18.538658Z"
    }
   },
   "outputs": [],
   "source": [
    "alc_final = syn.store(Table(\n",
    "    Schema(\n",
    "            name='Alcohol Consumption Survey',\n",
    "            columns=as_table_columns(combined), \n",
    "            parent='syn10848316'),\n",
    "        combined\n",
    "    )\n",
    ")"
   ]
  },
  {
   "cell_type": "code",
   "execution_count": null,
   "metadata": {
    "ExecuteTime": {
     "end_time": "2018-11-01T19:32:36.288740Z",
     "start_time": "2018-11-01T19:32:34.034473Z"
    }
   },
   "outputs": [],
   "source": [
    "phq2_final = syn.setProvenance(\n",
    "    'syn17021280',\n",
    "    activity=Activity(\n",
    "        name='Combine V1 and V2 data',\n",
    "        description='Process and combine the data collected during study 1 and study 2',\n",
    "        used=[v1sid, v2sid],\n",
    "        executed=[\n",
    "            dict(\n",
    "                name='IPython Notebook',\n",
    "                url='https://github.com/apratap/BRIGHTEN-Data-Release/blob/master/Create_Alcohol_datafiles.ipynb'\n",
    "            )\n",
    "        ]\n",
    "    )\n",
    ")"
   ]
  }
 ],
 "metadata": {
  "kernelspec": {
   "display_name": "Python [conda env:bright]",
   "language": "python",
   "name": "conda-env-bright-py"
  },
  "language_info": {
   "codemirror_mode": {
    "name": "ipython",
    "version": 3
   },
   "file_extension": ".py",
   "mimetype": "text/x-python",
   "name": "python",
   "nbconvert_exporter": "python",
   "pygments_lexer": "ipython3",
   "version": "3.6.6"
  }
 },
 "nbformat": 4,
 "nbformat_minor": 2
}
