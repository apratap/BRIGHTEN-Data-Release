{
 "cells": [
  {
   "cell_type": "markdown",
   "metadata": {},
   "source": [
    "# Final Mood DataFile Prep"
   ]
  },
  {
   "cell_type": "code",
   "execution_count": null,
   "metadata": {
    "ExecuteTime": {
     "end_time": "2018-12-26T23:06:43.792982Z",
     "start_time": "2018-12-26T23:06:40.388607Z"
    }
   },
   "outputs": [],
   "source": [
    "import datetime as dt\n",
    "import itertools\n",
    "import numpy as np\n",
    "import pandas as pd\n",
    "\n",
    "import matplotlib.pyplot as plt\n",
    "from IPython.core.interactiveshell import InteractiveShell\n",
    "import synapseclient\n",
    "from synapseclient import Activity, File, Schema, Table, as_table_columns\n",
    "from tqdm import tqdm\n",
    "\n",
    "InteractiveShell.ast_node_interactivity = 'all'\n",
    "syn = synapseclient.Synapse()\n",
    "syn.login()\n",
    "\n",
    "tqdm.pandas()\n",
    "\n",
    "def isnum(x):\n",
    "    if x is None:\n",
    "        return False\n",
    "    try:\n",
    "        float(x)\n",
    "        return True\n",
    "    except ValueError:\n",
    "        return False"
   ]
  },
  {
   "cell_type": "markdown",
   "metadata": {},
   "source": [
    "### Prep V2 data for public release"
   ]
  },
  {
   "cell_type": "code",
   "execution_count": null,
   "metadata": {
    "ExecuteTime": {
     "end_time": "2018-12-26T23:06:44.117996Z",
     "start_time": "2018-12-26T23:06:43.796438Z"
    }
   },
   "outputs": [],
   "source": [
    "v2sid = 'syn9974019'\n",
    "\n",
    "v2r = pd.read_csv(syn.get(v2sid).path, parse_dates=['createdAt'])\n",
    "v2r.columns = ['username', 'mood_1', 'day', 'timestamp']\n",
    "v2r = v2r.loc[:, ['username', 'timestamp', 'day', 'mood_1']]\n",
    "\n",
    "v2r.head()"
   ]
  },
  {
   "cell_type": "markdown",
   "metadata": {},
   "source": [
    "This survey must have been distributed and completed within the first week. Unsure of how the question applies, \"Since starting this...how has your mood changed?\""
   ]
  },
  {
   "cell_type": "code",
   "execution_count": null,
   "metadata": {
    "ExecuteTime": {
     "end_time": "2018-12-26T23:06:44.341271Z",
     "start_time": "2018-12-26T23:06:44.120332Z"
    }
   },
   "outputs": [],
   "source": [
    "v2r.day.hist()"
   ]
  },
  {
   "cell_type": "markdown",
   "metadata": {},
   "source": [
    "All mood categories are represented."
   ]
  },
  {
   "cell_type": "code",
   "execution_count": null,
   "metadata": {
    "ExecuteTime": {
     "end_time": "2018-12-26T23:06:44.586287Z",
     "start_time": "2018-12-26T23:06:44.343012Z"
    }
   },
   "outputs": [],
   "source": [
    "v2r.mood_1.hist(bins=7)"
   ]
  },
  {
   "cell_type": "code",
   "execution_count": null,
   "metadata": {
    "ExecuteTime": {
     "end_time": "2018-12-26T23:06:44.600661Z",
     "start_time": "2018-12-26T23:06:44.588951Z"
    }
   },
   "outputs": [],
   "source": [
    "v2r.reindex(['day', 'mood_1'], axis=1).corr()"
   ]
  },
  {
   "cell_type": "markdown",
   "metadata": {},
   "source": [
    "### Upload to Synapse"
   ]
  },
  {
   "cell_type": "code",
   "execution_count": null,
   "metadata": {
    "ExecuteTime": {
     "end_time": "2018-12-26T23:06:44.621780Z",
     "start_time": "2018-12-26T23:06:44.603394Z"
    }
   },
   "outputs": [],
   "source": [
    "# name = 'V2_MoodAssessment.csv'\n",
    "# v2r.to_csv(name, index=None)\n",
    "\n",
    "# t = syn.setProvenance(\n",
    "#     syn.store(File(name=name, path=name, parent='')),\n",
    "#     activity=Activity(\n",
    "#         name='Public Release',\n",
    "#         description='Prepare data for public release',\n",
    "#         used=[v2sid],\n",
    "#         executed=[\n",
    "#             dict(\n",
    "#                 name='IPython Notebook',\n",
    "#                 url='https://github.com/apratap/BRIGHTEN-Data-Release/blob/master/Create_Mood_datafiles.ipynb'\n",
    "#             )\n",
    "#         ]\n",
    "#     )\n",
    "# ); del t"
   ]
  },
  {
   "cell_type": "markdown",
   "metadata": {},
   "source": [
    "### Prepare Data"
   ]
  },
  {
   "cell_type": "code",
   "execution_count": null,
   "metadata": {
    "ExecuteTime": {
     "end_time": "2018-12-26T23:06:45.080100Z",
     "start_time": "2018-12-26T23:06:44.628425Z"
    }
   },
   "outputs": [],
   "source": [
    "v1sid, v2sid = 'syn12181335', 'syn17023109'\n",
    "\n",
    "v1r = pd.read_csv(syn.get(v1sid).path, parse_dates=['timestamp'])\n",
    "v2r = pd.read_csv(syn.get(v2sid).path, parse_dates=['timestamp'])\n",
    "\n",
    "v1r.head()\n",
    "v2r.head()"
   ]
  },
  {
   "cell_type": "markdown",
   "metadata": {},
   "source": [
    "### Process V1 Data"
   ]
  },
  {
   "cell_type": "code",
   "execution_count": null,
   "metadata": {
    "ExecuteTime": {
     "end_time": "2018-12-26T23:06:45.089299Z",
     "start_time": "2018-12-26T23:06:45.082566Z"
    }
   },
   "outputs": [],
   "source": [
    "v1r.mood_1.value_counts()"
   ]
  },
  {
   "cell_type": "code",
   "execution_count": null,
   "metadata": {
    "ExecuteTime": {
     "end_time": "2018-12-26T23:06:45.123308Z",
     "start_time": "2018-12-26T23:06:45.091773Z"
    }
   },
   "outputs": [],
   "source": [
    "v1 = v1r.drop(columns=[\n",
    "    'userid', 'timestampUTC'\n",
    "]).rename(columns={\n",
    "    'brightenid':'participant_id',\n",
    "    'timestamp':'dt_response'\n",
    "})\n",
    "\n",
    "# encode the mood response to match v2\n",
    "def fx(x):\n",
    "    if x == 'No change':\n",
    "        return 1\n",
    "    elif x == 'Almost the same':\n",
    "        return 2\n",
    "    elif x == 'A little better':\n",
    "        return 3\n",
    "    elif x == 'Somewhat better':\n",
    "        return 4\n",
    "    elif x == 'Moderately better':\n",
    "        return 5\n",
    "    elif x == 'Better':\n",
    "        return 6\n",
    "    elif x == 'A great deal better':\n",
    "        return 7\n",
    "    else:\n",
    "        raise ValueError(f'encoding not mapped: {x}')\n",
    "    \n",
    "v1.mood_1 = v1.mood_1.apply(fx)"
   ]
  },
  {
   "cell_type": "markdown",
   "metadata": {},
   "source": [
    "### Process V2 Data"
   ]
  },
  {
   "cell_type": "code",
   "execution_count": null,
   "metadata": {
    "ExecuteTime": {
     "end_time": "2018-12-26T23:06:45.159130Z",
     "start_time": "2018-12-26T23:06:45.125633Z"
    }
   },
   "outputs": [],
   "source": [
    "v2 = v2r.drop(columns=['day']).rename(columns={\n",
    "    'username':'participant_id',\n",
    "    'timestamp':'dt_response'\n",
    "})"
   ]
  },
  {
   "cell_type": "markdown",
   "metadata": {},
   "source": [
    "### Combine"
   ]
  },
  {
   "cell_type": "code",
   "execution_count": null,
   "metadata": {
    "ExecuteTime": {
     "end_time": "2018-12-26T23:06:45.205262Z",
     "start_time": "2018-12-26T23:06:45.162407Z"
    }
   },
   "outputs": [],
   "source": [
    "combined = pd.concat([v1, v2], sort=False)\n",
    "combined.head()"
   ]
  },
  {
   "cell_type": "markdown",
   "metadata": {},
   "source": [
    "### Add week into study"
   ]
  },
  {
   "cell_type": "code",
   "execution_count": null,
   "metadata": {
    "ExecuteTime": {
     "end_time": "2018-12-26T23:06:45.678340Z",
     "start_time": "2018-12-26T23:06:45.209750Z"
    }
   },
   "outputs": [],
   "source": [
    "metasid = 'syn17023349'\n",
    "metadata = syn.tableQuery(f'SELECT participant_id, startdate FROM {metasid}').asDataFrame(convert_to_datetime=True)\n",
    "metadata.startdate = pd.to_datetime(metadata.startdate)\n",
    "\n",
    "# add in the participants start date as a new column\n",
    "combined = pd.merge(combined, metadata, on='participant_id', how='left')\n",
    "\n",
    "# get the time difference in weeks as a float\n",
    "combined['week'] = [\n",
    "    d.days/7 for d in (\n",
    "        combined.dt_response.apply(\n",
    "            lambda x: dt.datetime(year=x.year, month=x.month, day=x.day))-combined.startdate\n",
    "    )\n",
    "]\n",
    "\n",
    "# convert the week number to an int by taking the floor\n",
    "combined.week = combined.week.progress_apply(lambda x: np.int16(np.floor(x))+1)# if not pd.isnull(x) else np.nan)\n",
    "\n",
    "# remove the start date\n",
    "combined = combined.drop(columns=['startdate'], errors='ignore')\n",
    "\n",
    "# reorder the columns\n",
    "cols = list(combined.columns)\n",
    "cols = cols[0:2] + ['week'] + cols[2:-1]\n",
    "combined = combined.reindex(columns=cols)\n",
    "\n",
    "combined.head()"
   ]
  },
  {
   "cell_type": "markdown",
   "metadata": {},
   "source": [
    "### Set provenance and upload to Synapse"
   ]
  },
  {
   "cell_type": "code",
   "execution_count": null,
   "metadata": {
    "ExecuteTime": {
     "end_time": "2018-12-26T23:06:55.332696Z",
     "start_time": "2018-12-26T23:06:45.682966Z"
    }
   },
   "outputs": [],
   "source": [
    "t = syn.delete(\n",
    "    syn.tableQuery('select * from syn17023313')\n",
    ")"
   ]
  },
  {
   "cell_type": "code",
   "execution_count": null,
   "metadata": {
    "ExecuteTime": {
     "end_time": "2018-12-26T23:07:06.465575Z",
     "start_time": "2018-12-26T23:06:55.340192Z"
    }
   },
   "outputs": [],
   "source": [
    "final = syn.store(Table(\n",
    "    Schema(\n",
    "            name='Mood Assessment',\n",
    "            columns=as_table_columns(combined), \n",
    "            parent='syn10848316'),\n",
    "        combined\n",
    "    )\n",
    ")"
   ]
  },
  {
   "cell_type": "code",
   "execution_count": null,
   "metadata": {
    "ExecuteTime": {
     "end_time": "2018-12-26T23:07:06.945629Z",
     "start_time": "2018-12-26T23:07:06.468330Z"
    }
   },
   "outputs": [],
   "source": [
    "final = syn.setProvenance(\n",
    "    'syn17023313',\n",
    "    activity=Activity(\n",
    "        name='Combine V1 and V2 data',\n",
    "        description='Process and combine the data collected during study 1 and study 2',\n",
    "        used=[v1sid, v2sid],\n",
    "        executed=[\n",
    "            dict(\n",
    "                name='IPython Notebook',\n",
    "                url='https://github.com/apratap/BRIGHTEN-Data-Release/blob/master/Create_ImpactMHS_datafiles.ipynb'\n",
    "            )\n",
    "        ]\n",
    "    )\n",
    ")"
   ]
  }
 ],
 "metadata": {
  "kernelspec": {
   "display_name": "Python [conda env:bright]",
   "language": "python",
   "name": "conda-env-bright-py"
  },
  "language_info": {
   "codemirror_mode": {
    "name": "ipython",
    "version": 3
   },
   "file_extension": ".py",
   "mimetype": "text/x-python",
   "name": "python",
   "nbconvert_exporter": "python",
   "pygments_lexer": "ipython3",
   "version": "3.6.6"
  },
  "varInspector": {
   "cols": {
    "lenName": 16,
    "lenType": 16,
    "lenVar": 40
   },
   "kernels_config": {
    "python": {
     "delete_cmd_postfix": "",
     "delete_cmd_prefix": "del ",
     "library": "var_list.py",
     "varRefreshCmd": "print(var_dic_list())"
    },
    "r": {
     "delete_cmd_postfix": ") ",
     "delete_cmd_prefix": "rm(",
     "library": "var_list.r",
     "varRefreshCmd": "cat(var_dic_list()) "
    }
   },
   "types_to_exclude": [
    "module",
    "function",
    "builtin_function_or_method",
    "instance",
    "_Feature"
   ],
   "window_display": false
  }
 },
 "nbformat": 4,
 "nbformat_minor": 2
}
