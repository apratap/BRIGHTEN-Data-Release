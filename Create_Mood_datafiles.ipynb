{
 "cells": [
  {
   "cell_type": "markdown",
   "metadata": {},
   "source": [
    "# Final Mood DataFile Prep"
   ]
  },
  {
   "cell_type": "code",
   "execution_count": null,
   "metadata": {
    "ExecuteTime": {
     "end_time": "2018-11-08T20:32:43.708785Z",
     "start_time": "2018-11-08T20:32:34.734785Z"
    }
   },
   "outputs": [],
   "source": [
    "import datetime as dt\n",
    "import itertools\n",
    "import pandas as pd\n",
    "\n",
    "import matplotlib.pyplot as plt\n",
    "from IPython.core.interactiveshell import InteractiveShell\n",
    "import synapseclient\n",
    "from synapseclient import Activity, File, Schema, Table, as_table_columns\n",
    "\n",
    "InteractiveShell.ast_node_interactivity = 'all'\n",
    "syn = synapseclient.Synapse()\n",
    "syn.login()\n",
    "\n",
    "def isnum(x):\n",
    "    if x is None:\n",
    "        return False\n",
    "    try:\n",
    "        float(x)\n",
    "        return True\n",
    "    except ValueError:\n",
    "        return False"
   ]
  },
  {
   "cell_type": "markdown",
   "metadata": {},
   "source": [
    "### Prep V2 data for public release"
   ]
  },
  {
   "cell_type": "code",
   "execution_count": null,
   "metadata": {
    "ExecuteTime": {
     "end_time": "2018-11-05T19:14:16.087978Z",
     "start_time": "2018-11-05T19:14:15.765998Z"
    }
   },
   "outputs": [],
   "source": [
    "v2sid = 'syn9974019'\n",
    "\n",
    "v2r = pd.read_csv(syn.get(v2sid).path, parse_dates=['createdAt'])\n",
    "v2r.columns = ['username', 'mood_1', 'day', 'timestamp']\n",
    "v2r = v2r.loc[:, ['username', 'timestamp', 'day', 'mood_1']]\n",
    "\n",
    "v2r.head()"
   ]
  },
  {
   "cell_type": "markdown",
   "metadata": {},
   "source": [
    "This survey must have been distributed and completed within the first week. Unsure of how the question applies, \"Since starting this...how has your mood changed?\""
   ]
  },
  {
   "cell_type": "code",
   "execution_count": null,
   "metadata": {
    "ExecuteTime": {
     "end_time": "2018-11-05T19:14:29.701984Z",
     "start_time": "2018-11-05T19:14:29.479981Z"
    }
   },
   "outputs": [],
   "source": [
    "v2r.day.hist()"
   ]
  },
  {
   "cell_type": "markdown",
   "metadata": {},
   "source": [
    "All mood categories are represented."
   ]
  },
  {
   "cell_type": "code",
   "execution_count": null,
   "metadata": {
    "ExecuteTime": {
     "end_time": "2018-11-05T19:20:49.869106Z",
     "start_time": "2018-11-05T19:20:49.675140Z"
    }
   },
   "outputs": [],
   "source": [
    "v2r.mood_1.hist(bins=7)"
   ]
  },
  {
   "cell_type": "code",
   "execution_count": null,
   "metadata": {
    "ExecuteTime": {
     "end_time": "2018-11-05T19:26:56.498436Z",
     "start_time": "2018-11-05T19:26:56.486447Z"
    }
   },
   "outputs": [],
   "source": [
    "v2r.reindex(['day', 'mood_1'], axis=1).corr()"
   ]
  },
  {
   "cell_type": "markdown",
   "metadata": {},
   "source": [
    "### Upload to Synapse"
   ]
  },
  {
   "cell_type": "code",
   "execution_count": null,
   "metadata": {
    "ExecuteTime": {
     "end_time": "2018-11-05T19:32:12.420488Z",
     "start_time": "2018-11-05T19:32:10.008430Z"
    }
   },
   "outputs": [],
   "source": [
    "name = 'V2_MoodAssessment.csv'\n",
    "v2r.to_csv(name, index=None)\n",
    "\n",
    "t = syn.setProvenance(\n",
    "    syn.store(File(name=name, path=name, parent='')),\n",
    "    activity=Activity(\n",
    "        name='Public Release',\n",
    "        description='Prepare data for public release',\n",
    "        used=[v2sid],\n",
    "        executed=[\n",
    "            dict(\n",
    "                name='IPython Notebook',\n",
    "                url='https://github.com/apratap/BRIGHTEN-Data-Release/blob/master/Create_Mood_datafiles.ipynb'\n",
    "            )\n",
    "        ]\n",
    "    )\n",
    "); del t"
   ]
  },
  {
   "cell_type": "markdown",
   "metadata": {},
   "source": [
    "### Prepare Data"
   ]
  },
  {
   "cell_type": "code",
   "execution_count": null,
   "metadata": {
    "ExecuteTime": {
     "end_time": "2018-11-08T20:32:47.139904Z",
     "start_time": "2018-11-08T20:32:46.630930Z"
    }
   },
   "outputs": [],
   "source": [
    "v1sid, v2sid = 'syn12181335', 'syn17023109'\n",
    "\n",
    "v1r = pd.read_csv(syn.get(v1sid).path, parse_dates=['timestamp'])\n",
    "v2r = pd.read_csv(syn.get(v2sid).path, parse_dates=['timestamp'])\n",
    "\n",
    "v1r.head()\n",
    "v2r.head()"
   ]
  },
  {
   "cell_type": "markdown",
   "metadata": {},
   "source": [
    "### Process V1 Data"
   ]
  },
  {
   "cell_type": "code",
   "execution_count": 4,
   "metadata": {
    "ExecuteTime": {
     "end_time": "2018-11-08T20:32:51.871901Z",
     "start_time": "2018-11-08T20:32:51.861899Z"
    }
   },
   "outputs": [
    {
     "data": {
      "text/plain": [
       "A little better        510\n",
       "Almost the same        491\n",
       "No change              288\n",
       "Somewhat better        182\n",
       "Moderately better      110\n",
       "Better                  41\n",
       "A great deal better     14\n",
       "Name: mood_1, dtype: int64"
      ]
     },
     "execution_count": 4,
     "metadata": {},
     "output_type": "execute_result"
    }
   ],
   "source": [
    "v1r.mood_1.value_counts()"
   ]
  },
  {
   "cell_type": "code",
   "execution_count": null,
   "metadata": {
    "ExecuteTime": {
     "end_time": "2018-11-05T23:15:29.163885Z",
     "start_time": "2018-11-05T23:15:29.144856Z"
    }
   },
   "outputs": [],
   "source": [
    "v1 = v1r.drop(columns=[\n",
    "    'userid', 'timestampUTC'\n",
    "]).rename(columns={\n",
    "    'brightenid':'participant_id',\n",
    "    'timestamp':'dt_response'\n",
    "})\n",
    "\n",
    "# encode the mood response to match v2\n",
    "def fx(x):\n",
    "    if x == 'No change':\n",
    "        return 1\n",
    "    elif x == 'Almost the same':\n",
    "        return 2\n",
    "    elif x == 'A little better':\n",
    "        return 3\n",
    "    elif x == 'Somewhat better':\n",
    "        return 4\n",
    "    elif x == 'Moderately better':\n",
    "        return 5\n",
    "    elif x == 'Better':\n",
    "        return 6\n",
    "    elif x == 'A great deal better':\n",
    "        return 7\n",
    "    else:\n",
    "        raise ValueError(f'encoding not mapped: {x}')\n",
    "    \n",
    "v1.mood_1 = v1.mood_1.apply(fx)"
   ]
  },
  {
   "cell_type": "markdown",
   "metadata": {},
   "source": [
    "### Process V2 Data"
   ]
  },
  {
   "cell_type": "code",
   "execution_count": null,
   "metadata": {
    "ExecuteTime": {
     "end_time": "2018-11-05T23:17:07.787109Z",
     "start_time": "2018-11-05T23:17:07.782103Z"
    }
   },
   "outputs": [],
   "source": [
    "v2 = v2r.drop(columns=['day']).rename(columns={\n",
    "    'username':'participant_id',\n",
    "    'timestamp':'dt_response'\n",
    "})"
   ]
  },
  {
   "cell_type": "markdown",
   "metadata": {},
   "source": [
    "### Combine"
   ]
  },
  {
   "cell_type": "code",
   "execution_count": null,
   "metadata": {
    "ExecuteTime": {
     "end_time": "2018-11-05T23:17:09.411024Z",
     "start_time": "2018-11-05T23:17:09.396024Z"
    }
   },
   "outputs": [],
   "source": [
    "combined = pd.concat([v1, v2], sort=False)\n",
    "combined.head()"
   ]
  },
  {
   "cell_type": "markdown",
   "metadata": {},
   "source": [
    "### Set provenance and upload to Synapse"
   ]
  },
  {
   "cell_type": "code",
   "execution_count": null,
   "metadata": {
    "ExecuteTime": {
     "end_time": "2018-11-05T23:18:19.620652Z",
     "start_time": "2018-11-05T23:18:11.447799Z"
    }
   },
   "outputs": [],
   "source": [
    "final = syn.store(Table(\n",
    "    Schema(\n",
    "            name='Mood Assessment',\n",
    "            columns=as_table_columns(combined), \n",
    "            parent='syn10848316'),\n",
    "        combined\n",
    "    )\n",
    ")"
   ]
  },
  {
   "cell_type": "code",
   "execution_count": null,
   "metadata": {
    "ExecuteTime": {
     "end_time": "2018-11-05T23:18:55.433051Z",
     "start_time": "2018-11-05T23:18:54.809987Z"
    }
   },
   "outputs": [],
   "source": [
    "final = syn.setProvenance(\n",
    "    'syn17023313',\n",
    "    activity=Activity(\n",
    "        name='Combine V1 and V2 data',\n",
    "        description='Process and combine the data collected during study 1 and study 2',\n",
    "        used=[v1sid, v2sid],\n",
    "        executed=[\n",
    "            dict(\n",
    "                name='IPython Notebook',\n",
    "                url='https://github.com/apratap/BRIGHTEN-Data-Release/blob/master/Create_ImpactMHS_datafiles.ipynb'\n",
    "            )\n",
    "        ]\n",
    "    )\n",
    ")"
   ]
  }
 ],
 "metadata": {
  "kernelspec": {
   "display_name": "Python [conda env:bright]",
   "language": "python",
   "name": "conda-env-bright-py"
  },
  "language_info": {
   "codemirror_mode": {
    "name": "ipython",
    "version": 3
   },
   "file_extension": ".py",
   "mimetype": "text/x-python",
   "name": "python",
   "nbconvert_exporter": "python",
   "pygments_lexer": "ipython3",
   "version": "3.6.6"
  },
  "varInspector": {
   "cols": {
    "lenName": 16,
    "lenType": 16,
    "lenVar": 40
   },
   "kernels_config": {
    "python": {
     "delete_cmd_postfix": "",
     "delete_cmd_prefix": "del ",
     "library": "var_list.py",
     "varRefreshCmd": "print(var_dic_list())"
    },
    "r": {
     "delete_cmd_postfix": ") ",
     "delete_cmd_prefix": "rm(",
     "library": "var_list.r",
     "varRefreshCmd": "cat(var_dic_list()) "
    }
   },
   "types_to_exclude": [
    "module",
    "function",
    "builtin_function_or_method",
    "instance",
    "_Feature"
   ],
   "window_display": false
  }
 },
 "nbformat": 4,
 "nbformat_minor": 2
}
