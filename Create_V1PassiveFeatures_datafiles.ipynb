{
 "cells": [
  {
   "cell_type": "code",
   "execution_count": null,
   "metadata": {
    "ExecuteTime": {
     "end_time": "2018-11-21T19:48:01.470418Z",
     "start_time": "2018-11-21T19:47:57.962502Z"
    }
   },
   "outputs": [],
   "source": [
    "%matplotlib inline\n",
    "\n",
    "import datetime as dt\n",
    "import itertools as it\n",
    "\n",
    "from IPython.core.interactiveshell import InteractiveShell\n",
    "import matplotlib.pyplot as plt\n",
    "import numpy as np\n",
    "import pandas as pd\n",
    "import synapseclient\n",
    "from synapseclient import Activity, Schema, Table, as_table_columns\n",
    "\n",
    "InteractiveShell.ast_node_interactivity = 'all'\n",
    "syn = synapseclient.Synapse()\n",
    "syn.login()\n",
    "\n",
    "def isnum(x):\n",
    "    if x is None:\n",
    "        return False\n",
    "    try:\n",
    "        float(x)\n",
    "        return True\n",
    "    except ValueError:\n",
    "        return False\n",
    "\n",
    "def safe_round(x):\n",
    "    if not pd.isnull(x) and isnum(x):\n",
    "        return np.round(x, 3)\n",
    "    else:\n",
    "        return x"
   ]
  },
  {
   "cell_type": "markdown",
   "metadata": {},
   "source": [
    "### Prepare V1 data"
   ]
  },
  {
   "cell_type": "code",
   "execution_count": null,
   "metadata": {
    "ExecuteTime": {
     "end_time": "2018-11-21T19:48:02.926227Z",
     "start_time": "2018-11-21T19:48:02.501297Z"
    }
   },
   "outputs": [],
   "source": [
    "v1sid = 'syn10236538'\n",
    "v1r = pd.read_csv(syn.get(v1sid).path, sep='\\t')\n",
    "v1r.head()"
   ]
  },
  {
   "cell_type": "code",
   "execution_count": null,
   "metadata": {
    "ExecuteTime": {
     "end_time": "2018-11-21T19:48:05.492246Z",
     "start_time": "2018-11-21T19:48:05.420451Z"
    }
   },
   "outputs": [],
   "source": [
    "v1 = v1r.drop(columns=[\n",
    "    'user_id', 'study_arm', 'start'\n",
    "]).rename(columns={\n",
    "    'brightenid':'participant_id',\n",
    "    'passive_date_pacific':'dt_passive'\n",
    "})\n",
    "\n",
    "v1.columns = [c.lower() for c in v1.columns]\n",
    "\n",
    "v1.head()"
   ]
  },
  {
   "cell_type": "code",
   "execution_count": null,
   "metadata": {
    "ExecuteTime": {
     "end_time": "2018-11-21T19:48:15.667137Z",
     "start_time": "2018-11-21T19:48:13.457051Z"
    }
   },
   "outputs": [],
   "source": [
    "toround = list(set(v1.columns) - {'dt_response', 'user_phone_type', 'cohort', 'participant_id', 'day', 'week'})\n",
    "for c in toround:\n",
    "    v1[c] =v1[c].apply(safe_round)\n",
    "\n",
    "v1.head()"
   ]
  },
  {
   "cell_type": "code",
   "execution_count": null,
   "metadata": {
    "ExecuteTime": {
     "end_time": "2018-11-21T19:48:39.815735Z",
     "start_time": "2018-11-21T19:48:39.776075Z"
    }
   },
   "outputs": [],
   "source": [
    "colorder = ['participant_id', 'dt_passive', 'day', 'week', 'cohort', 'user_phone_type']\n",
    "colorder = colorder + sorted(list(set(v1.columns) - set(colorder)))\n",
    "v1 = v1[colorder]\n",
    "\n",
    "v1.head()"
   ]
  },
  {
   "cell_type": "code",
   "execution_count": null,
   "metadata": {
    "ExecuteTime": {
     "end_time": "2018-11-21T20:03:09.502351Z",
     "start_time": "2018-11-21T20:03:09.215450Z"
    }
   },
   "outputs": [],
   "source": [
    "v1.mobility.hist()\n",
    "v1.mobility.describe()"
   ]
  },
  {
   "cell_type": "code",
   "execution_count": null,
   "metadata": {
    "ExecuteTime": {
     "end_time": "2018-11-21T19:59:02.421014Z",
     "start_time": "2018-11-21T19:59:02.396236Z"
    }
   },
   "outputs": [],
   "source": [
    "'an element $$\\(\\in\\)$$ {' + ', '.join([f'_{c}_' for c in v1.user_phone_type.unique() if str(c) != 'nan']) + '}'"
   ]
  },
  {
   "cell_type": "code",
   "execution_count": null,
   "metadata": {
    "ExecuteTime": {
     "end_time": "2018-11-09T03:07:00.408954Z",
     "start_time": "2018-11-09T03:06:29.391706Z"
    }
   },
   "outputs": [],
   "source": [
    "final = syn.store(Table(\n",
    "    Schema(\n",
    "            name='V1 Passive Features',\n",
    "            columns=as_table_columns(v1), \n",
    "            parent='syn10848316'),\n",
    "        v1\n",
    "    )\n",
    ")"
   ]
  },
  {
   "cell_type": "code",
   "execution_count": null,
   "metadata": {
    "ExecuteTime": {
     "end_time": "2018-11-09T03:07:01.688384Z",
     "start_time": "2018-11-09T03:07:00.411461Z"
    }
   },
   "outputs": [],
   "source": [
    "final = syn.setProvenance(\n",
    "    'syn17025494',\n",
    "    activity=Activity(\n",
    "        name='Generate V1 Table Data',\n",
    "        description='Process the data collected during study ',\n",
    "        used=[v1sid],\n",
    "        executed=[\n",
    "            dict(\n",
    "                name='IPython Notebook',\n",
    "                url='https://github.com/apratap/BRIGHTEN-Data-Release/blob/master/Create_V1PassiveFeatures_datafiles.ipynb'\n",
    "            )\n",
    "        ]\n",
    "    )\n",
    ")"
   ]
  }
 ],
 "metadata": {
  "kernelspec": {
   "display_name": "Python [conda env:bright]",
   "language": "python",
   "name": "conda-env-bright-py"
  },
  "language_info": {
   "codemirror_mode": {
    "name": "ipython",
    "version": 3
   },
   "file_extension": ".py",
   "mimetype": "text/x-python",
   "name": "python",
   "nbconvert_exporter": "python",
   "pygments_lexer": "ipython3",
   "version": "3.6.6"
  }
 },
 "nbformat": 4,
 "nbformat_minor": 2
}
