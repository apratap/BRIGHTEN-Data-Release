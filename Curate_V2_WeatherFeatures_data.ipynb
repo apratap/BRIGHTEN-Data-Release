{
 "cells": [
  {
   "cell_type": "markdown",
   "metadata": {},
   "source": [
    "# Curate_V2_WeatherFeatures_data"
   ]
  },
  {
   "cell_type": "code",
   "execution_count": 1,
   "metadata": {
    "ExecuteTime": {
     "end_time": "2018-12-28T17:06:25.376218Z",
     "start_time": "2018-12-28T17:06:13.275353Z"
    }
   },
   "outputs": [
    {
     "name": "stdout",
     "output_type": "stream",
     "text": [
      "Welcome, Abhishek Pratap!\n",
      "\n"
     ]
    }
   ],
   "source": [
    "%matplotlib inline\n",
    "\n",
    "import datetime as dt\n",
    "import itertools as it\n",
    "from IPython.core.interactiveshell import InteractiveShell\n",
    "import matplotlib.pyplot as plt\n",
    "import pandas as pd\n",
    "import synapseclient\n",
    "from synapseclient import Activity, Schema, Table, as_table_columns\n",
    "from tabulate import tabulate\n",
    "\n",
    "InteractiveShell.ast_node_interactivity = 'all'\n",
    "syn = synapseclient.Synapse()\n",
    "syn.login()"
   ]
  },
  {
   "cell_type": "code",
   "execution_count": 2,
   "metadata": {},
   "outputs": [],
   "source": [
    "v2sid = 'syn17095978'"
   ]
  },
  {
   "cell_type": "code",
   "execution_count": null,
   "metadata": {
    "ExecuteTime": {
     "end_time": "2018-12-28T17:06:26.100955Z",
     "start_time": "2018-12-28T17:06:25.382208Z"
    }
   },
   "outputs": [],
   "source": [
    "v2r = pd.read_csv(\n",
    "    syn.get(v2sid).path, \n",
    "    parse_dates=['date']\n",
    ")\n",
    "\n",
    "leading = ['dt_passive', 'lat', 'lon', 'zipcode']\n",
    "\n",
    "v2 = v2r.rename(columns={\n",
    "    'date':'dt_passive',\n",
    "    'temp_med':'temp_median'\n",
    "})\n",
    "v2 = v2.reindex(labels=\n",
    "    leading + sorted(list(set(v2.columns)-set(leading))),\n",
    "    axis=1                  \n",
    ")\n",
    "\n",
    "v2.zipcode = v2.zipcode.apply(lambda x: str(int(x)) if not pd.isnull(x) else 'none')\n",
    "\n",
    "# reduce timestamps to dates\n",
    "v2.dt_passive = v2.dt_passive.apply(lambda x: x.date())\n",
    "\n",
    "v2.head()"
   ]
  },
  {
   "cell_type": "markdown",
   "metadata": {},
   "source": [
    "### Upload to Synapse"
   ]
  },
  {
   "cell_type": "code",
   "execution_count": null,
   "metadata": {
    "ExecuteTime": {
     "end_time": "2018-12-28T17:07:29.276621Z",
     "start_time": "2018-12-28T17:06:30.840747Z"
    }
   },
   "outputs": [],
   "source": [
    "t = syn.delete(\n",
    "    syn.tableQuery('select * from syn17061284')\n",
    ")"
   ]
  },
  {
   "cell_type": "code",
   "execution_count": null,
   "metadata": {
    "ExecuteTime": {
     "end_time": "2018-12-28T17:07:44.755900Z",
     "start_time": "2018-12-28T17:07:29.282908Z"
    }
   },
   "outputs": [],
   "source": [
    "final = syn.store(Table(\n",
    "    Schema(\n",
    "            name='Weather Features',\n",
    "            columns=as_table_columns(v2), \n",
    "            parent='syn10848316'),\n",
    "        v2\n",
    "    )\n",
    ")"
   ]
  },
  {
   "cell_type": "code",
   "execution_count": 3,
   "metadata": {
    "ExecuteTime": {
     "end_time": "2018-12-28T17:07:45.966536Z",
     "start_time": "2018-12-28T17:07:44.762223Z"
    }
   },
   "outputs": [],
   "source": [
    "final = syn.setProvenance(\n",
    "    'syn17061284',\n",
    "    activity=Activity(\n",
    "        name='Generate Public Weather Features Table Data',\n",
    "        description='Process the data collected during study ',\n",
    "        used=[v2sid],\n",
    "        executed=[\n",
    "            dict(\n",
    "                name='Curate_V2_WeatherFeatures_data',\n",
    "                url='https://github.com/apratap/BRIGHTEN-Data-Release/blob/master/Curate_V2_WeatherFeatures_data.ipynb'\n",
    "            )\n",
    "        ]\n",
    "    )\n",
    ")"
   ]
  },
  {
   "cell_type": "markdown",
   "metadata": {},
   "source": [
    "### Generate data dictionary"
   ]
  },
  {
   "cell_type": "code",
   "execution_count": null,
   "metadata": {
    "ExecuteTime": {
     "end_time": "2018-12-28T17:07:46.067169Z",
     "start_time": "2018-12-28T17:07:45.973921Z"
    }
   },
   "outputs": [],
   "source": [
    "cheat = []\n",
    "for c in v2.columns:\n",
    "    cheat.append(\n",
    "        (c, str(v2[c].dtype)\\\n",
    "             .replace('object', 'str')\\\n",
    "             .replace('float64', 'float')\\\n",
    "             .replace('int64', 'int')\\\n",
    "             .replace('datetime64[ns]', 'DateTime')\n",
    "        )\n",
    "    )\n",
    "    \n",
    "headers = ['#', 'Variable Name', 'Data Type', 'Description']\n",
    "\n",
    "descriptions = [\n",
    "    'Date of aggregations',\n",
    "    'Latitude in degree-decimal (DD) format',\n",
    "    'Longitude in DD format',\n",
    "    'Closest zipcode to latitude and longitude',\n",
    "    'Interquartile range of hourly cloud cover recordings',\n",
    "    'Mean of hourly cloud cover recordings',\n",
    "    'Median of hourly cloud cover recordings',\n",
    "    'Standard deviation of hourly cloud cover recordings',\n",
    "    'Interquartile range of hourly dew point recordings',\n",
    "    'Mean of hourly dew point recordings',\n",
    "    'Median of hourly dew point recordings',\n",
    "    'Standard Deviation of hourly dew point recordings',\n",
    "    'Interquartile range of humidity recordings',\n",
    "    'Mean of hourly humidity recordings',\n",
    "    'Median of hourly humidity recordings',\n",
    "    'Standard deviation of hourly humidity recordings',\n",
    "    'Total precipitation recording for the day',\n",
    "    'Interquartile range of temperature recordings',\n",
    "    'Mean of temperature recordings',\n",
    "    'Median of temperature recordings',\n",
    "    'Standard deviation of temperature recordings'\n",
    "]\n",
    "\n",
    "cheat = pd.DataFrame(\n",
    "    cheat, \n",
    "    columns=headers[1:-1],\n",
    "    index=list(range(1, len(cheat)+1))\n",
    ")\n",
    "cheat['Description'] = descriptions\n",
    "\n",
    "print(tabulate(\n",
    "    cheat,\n",
    "    headers=headers,\n",
    "    tablefmt='orgtbl'\n",
    ").replace('+', '|'))"
   ]
  }
 ],
 "metadata": {
  "kernelspec": {
   "display_name": "Python 3",
   "language": "python",
   "name": "python3"
  },
  "language_info": {
   "codemirror_mode": {
    "name": "ipython",
    "version": 3
   },
   "file_extension": ".py",
   "mimetype": "text/x-python",
   "name": "python",
   "nbconvert_exporter": "python",
   "pygments_lexer": "ipython3",
   "version": "3.8.8"
  },
  "varInspector": {
   "cols": {
    "lenName": 16,
    "lenType": 16,
    "lenVar": 40
   },
   "kernels_config": {
    "python": {
     "delete_cmd_postfix": "",
     "delete_cmd_prefix": "del ",
     "library": "var_list.py",
     "varRefreshCmd": "print(var_dic_list())"
    },
    "r": {
     "delete_cmd_postfix": ") ",
     "delete_cmd_prefix": "rm(",
     "library": "var_list.r",
     "varRefreshCmd": "cat(var_dic_list()) "
    }
   },
   "types_to_exclude": [
    "module",
    "function",
    "builtin_function_or_method",
    "instance",
    "_Feature"
   ],
   "window_display": false
  }
 },
 "nbformat": 4,
 "nbformat_minor": 2
}
