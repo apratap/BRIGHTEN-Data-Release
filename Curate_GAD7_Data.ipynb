{
 "cells": [
  {
   "cell_type": "markdown",
   "metadata": {},
   "source": [
    "# Curate_GAD7_Data"
   ]
  },
  {
   "cell_type": "code",
   "execution_count": 1,
   "metadata": {
    "ExecuteTime": {
     "end_time": "2018-12-28T19:52:25.598730Z",
     "start_time": "2018-12-28T19:52:25.114512Z"
    }
   },
   "outputs": [],
   "source": [
    "%matplotlib inline"
   ]
  },
  {
   "cell_type": "code",
   "execution_count": 2,
   "metadata": {
    "ExecuteTime": {
     "end_time": "2018-12-28T19:52:33.926230Z",
     "start_time": "2018-12-28T19:52:25.602747Z"
    }
   },
   "outputs": [
    {
     "name": "stdout",
     "output_type": "stream",
     "text": [
      "Welcome, Abhishek Pratap!\n",
      "\n"
     ]
    }
   ],
   "source": [
    "import datetime as dt\n",
    "import os\n",
    "\n",
    "import numpy as np\n",
    "import pandas as pd\n",
    "from IPython.core.interactiveshell import InteractiveShell\n",
    "import matplotlib.pyplot as plt\n",
    "import synapseclient\n",
    "from synapseclient import Activity, File, Schema, Table, as_table_columns\n",
    "from tqdm import tqdm\n",
    "\n",
    "InteractiveShell.ast_node_interactivity = 'all'\n",
    "syn = synapseclient.Synapse()\n",
    "syn.login()\n",
    "\n",
    "tqdm.pandas()"
   ]
  },
  {
   "cell_type": "code",
   "execution_count": 3,
   "metadata": {
    "ExecuteTime": {
     "end_time": "2018-12-28T19:52:36.148199Z",
     "start_time": "2018-12-28T19:52:33.940342Z"
    }
   },
   "outputs": [
    {
     "data": {
      "text/html": [
       "<div>\n",
       "<style scoped>\n",
       "    .dataframe tbody tr th:only-of-type {\n",
       "        vertical-align: middle;\n",
       "    }\n",
       "\n",
       "    .dataframe tbody tr th {\n",
       "        vertical-align: top;\n",
       "    }\n",
       "\n",
       "    .dataframe thead th {\n",
       "        text-align: right;\n",
       "    }\n",
       "</style>\n",
       "<table border=\"1\" class=\"dataframe\">\n",
       "  <thead>\n",
       "    <tr style=\"text-align: right;\">\n",
       "      <th></th>\n",
       "      <th>userid</th>\n",
       "      <th>brightenid</th>\n",
       "      <th>timestamp</th>\n",
       "      <th>timestampUTC</th>\n",
       "      <th>gad7_1</th>\n",
       "      <th>gad7_2</th>\n",
       "      <th>gad7_3</th>\n",
       "      <th>gad7_4</th>\n",
       "      <th>gad7_5</th>\n",
       "      <th>gad7_6</th>\n",
       "      <th>gad7_7</th>\n",
       "      <th>gad7_S</th>\n",
       "    </tr>\n",
       "  </thead>\n",
       "  <tbody>\n",
       "    <tr>\n",
       "      <th>0</th>\n",
       "      <td>10431</td>\n",
       "      <td>BLUE-00048</td>\n",
       "      <td>2014-08-01 06:59:31</td>\n",
       "      <td>2014-08-01 10:59:30</td>\n",
       "      <td>1</td>\n",
       "      <td>0</td>\n",
       "      <td>1</td>\n",
       "      <td>1</td>\n",
       "      <td>0</td>\n",
       "      <td>0</td>\n",
       "      <td>0</td>\n",
       "      <td>0</td>\n",
       "    </tr>\n",
       "    <tr>\n",
       "      <th>1</th>\n",
       "      <td>10470</td>\n",
       "      <td>BLUE-00049</td>\n",
       "      <td>2014-08-01 12:31:14</td>\n",
       "      <td>2014-08-01 16:31:13</td>\n",
       "      <td>1</td>\n",
       "      <td>0</td>\n",
       "      <td>1</td>\n",
       "      <td>1</td>\n",
       "      <td>0</td>\n",
       "      <td>1</td>\n",
       "      <td>1</td>\n",
       "      <td>1</td>\n",
       "    </tr>\n",
       "    <tr>\n",
       "      <th>2</th>\n",
       "      <td>10519</td>\n",
       "      <td>BLUE-00050</td>\n",
       "      <td>2014-08-08 19:30:09</td>\n",
       "      <td>2014-08-09 02:30:10</td>\n",
       "      <td>1</td>\n",
       "      <td>1</td>\n",
       "      <td>1</td>\n",
       "      <td>1</td>\n",
       "      <td>1</td>\n",
       "      <td>1</td>\n",
       "      <td>1</td>\n",
       "      <td>0</td>\n",
       "    </tr>\n",
       "    <tr>\n",
       "      <th>3</th>\n",
       "      <td>10617</td>\n",
       "      <td>BLUE-00051</td>\n",
       "      <td>2014-08-05 13:34:21</td>\n",
       "      <td>2014-08-05 17:34:20</td>\n",
       "      <td>1</td>\n",
       "      <td>1</td>\n",
       "      <td>1</td>\n",
       "      <td>1</td>\n",
       "      <td>1</td>\n",
       "      <td>1</td>\n",
       "      <td>0</td>\n",
       "      <td>1</td>\n",
       "    </tr>\n",
       "    <tr>\n",
       "      <th>4</th>\n",
       "      <td>10672</td>\n",
       "      <td>BLUE-00052</td>\n",
       "      <td>2014-08-04 14:27:28</td>\n",
       "      <td>2014-08-04 21:27:28</td>\n",
       "      <td>3</td>\n",
       "      <td>3</td>\n",
       "      <td>3</td>\n",
       "      <td>3</td>\n",
       "      <td>3</td>\n",
       "      <td>3</td>\n",
       "      <td>3</td>\n",
       "      <td>3</td>\n",
       "    </tr>\n",
       "  </tbody>\n",
       "</table>\n",
       "</div>"
      ],
      "text/plain": [
       "   userid  brightenid           timestamp         timestampUTC  gad7_1  \\\n",
       "0   10431  BLUE-00048 2014-08-01 06:59:31  2014-08-01 10:59:30       1   \n",
       "1   10470  BLUE-00049 2014-08-01 12:31:14  2014-08-01 16:31:13       1   \n",
       "2   10519  BLUE-00050 2014-08-08 19:30:09  2014-08-09 02:30:10       1   \n",
       "3   10617  BLUE-00051 2014-08-05 13:34:21  2014-08-05 17:34:20       1   \n",
       "4   10672  BLUE-00052 2014-08-04 14:27:28  2014-08-04 21:27:28       3   \n",
       "\n",
       "   gad7_2  gad7_3  gad7_4  gad7_5  gad7_6  gad7_7  gad7_S  \n",
       "0       0       1       1       0       0       0       0  \n",
       "1       0       1       1       0       1       1       1  \n",
       "2       1       1       1       1       1       1       0  \n",
       "3       1       1       1       1       1       0       1  \n",
       "4       3       3       3       3       3       3       3  "
      ]
     },
     "execution_count": 3,
     "metadata": {},
     "output_type": "execute_result"
    },
    {
     "data": {
      "text/html": [
       "<div>\n",
       "<style scoped>\n",
       "    .dataframe tbody tr th:only-of-type {\n",
       "        vertical-align: middle;\n",
       "    }\n",
       "\n",
       "    .dataframe tbody tr th {\n",
       "        vertical-align: top;\n",
       "    }\n",
       "\n",
       "    .dataframe thead th {\n",
       "        text-align: right;\n",
       "    }\n",
       "</style>\n",
       "<table border=\"1\" class=\"dataframe\">\n",
       "  <thead>\n",
       "    <tr style=\"text-align: right;\">\n",
       "      <th></th>\n",
       "      <th>username</th>\n",
       "      <th>Over the last 2 weeks, how often have you been bothered by any of the following problems?  Feeling nervous, anxious, or on edge</th>\n",
       "      <th>Over the last 2 weeks, how often have you been bothered by any of the following problems?  Not being able to stop or control worrying</th>\n",
       "      <th>Over the last 2 weeks, how often have you been bothered by any of the following problems? Worrying too much about different things</th>\n",
       "      <th>Over the last 2 weeks, how often have you been bothered by any of the following problems?  Trouble relaxing</th>\n",
       "      <th>Over the last 2 weeks, how often have you been bothered by any of the following problems?  Being so restless that it's hard to sit still</th>\n",
       "      <th>Over the last 2 weeks, how often have you been bothered by any of the following problems?  Becoming easily annoyed or irritable</th>\n",
       "      <th>Over the last 2 weeks, how often have you been bothered by any of the following problems?  Feeling afraid as if something awful might happen</th>\n",
       "      <th>If you checked off any problems, how difficult have these made it for you to do your work, take care of things at home, or get along with other people?</th>\n",
       "      <th>day</th>\n",
       "      <th>createdAt</th>\n",
       "    </tr>\n",
       "  </thead>\n",
       "  <tbody>\n",
       "    <tr>\n",
       "      <th>0</th>\n",
       "      <td>EN00469</td>\n",
       "      <td>0</td>\n",
       "      <td>1</td>\n",
       "      <td>1</td>\n",
       "      <td>1</td>\n",
       "      <td>0</td>\n",
       "      <td>1</td>\n",
       "      <td>0</td>\n",
       "      <td>2</td>\n",
       "      <td>1</td>\n",
       "      <td>2016-11-11 14:03:15</td>\n",
       "    </tr>\n",
       "    <tr>\n",
       "      <th>1</th>\n",
       "      <td>EN05051</td>\n",
       "      <td>0</td>\n",
       "      <td>1</td>\n",
       "      <td>1</td>\n",
       "      <td>1</td>\n",
       "      <td>0</td>\n",
       "      <td>0</td>\n",
       "      <td>0</td>\n",
       "      <td>0</td>\n",
       "      <td>1</td>\n",
       "      <td>2016-09-03 15:53:34</td>\n",
       "    </tr>\n",
       "    <tr>\n",
       "      <th>2</th>\n",
       "      <td>EN05023</td>\n",
       "      <td>2</td>\n",
       "      <td>1</td>\n",
       "      <td>2</td>\n",
       "      <td>3</td>\n",
       "      <td>1</td>\n",
       "      <td>3</td>\n",
       "      <td>1</td>\n",
       "      <td>1</td>\n",
       "      <td>1</td>\n",
       "      <td>2016-09-03 12:51:17</td>\n",
       "    </tr>\n",
       "    <tr>\n",
       "      <th>3</th>\n",
       "      <td>EN05184</td>\n",
       "      <td>3</td>\n",
       "      <td>3</td>\n",
       "      <td>3</td>\n",
       "      <td>3</td>\n",
       "      <td>1</td>\n",
       "      <td>3</td>\n",
       "      <td>2</td>\n",
       "      <td>2</td>\n",
       "      <td>1</td>\n",
       "      <td>2016-11-06 17:57:18</td>\n",
       "    </tr>\n",
       "    <tr>\n",
       "      <th>4</th>\n",
       "      <td>EN00486</td>\n",
       "      <td>2</td>\n",
       "      <td>3</td>\n",
       "      <td>3</td>\n",
       "      <td>2</td>\n",
       "      <td>2</td>\n",
       "      <td>2</td>\n",
       "      <td>1</td>\n",
       "      <td>1</td>\n",
       "      <td>1</td>\n",
       "      <td>2016-11-11 18:22:08</td>\n",
       "    </tr>\n",
       "  </tbody>\n",
       "</table>\n",
       "</div>"
      ],
      "text/plain": [
       "  username  \\\n",
       "0  EN00469   \n",
       "1  EN05051   \n",
       "2  EN05023   \n",
       "3  EN05184   \n",
       "4  EN00486   \n",
       "\n",
       "   Over the last 2 weeks, how often have you been bothered by any of the following problems?  Feeling nervous, anxious, or on edge  \\\n",
       "0                                                  0                                                                                 \n",
       "1                                                  0                                                                                 \n",
       "2                                                  2                                                                                 \n",
       "3                                                  3                                                                                 \n",
       "4                                                  2                                                                                 \n",
       "\n",
       "   Over the last 2 weeks, how often have you been bothered by any of the following problems?  Not being able to stop or control worrying  \\\n",
       "0                                                  1                                                                                       \n",
       "1                                                  1                                                                                       \n",
       "2                                                  1                                                                                       \n",
       "3                                                  3                                                                                       \n",
       "4                                                  3                                                                                       \n",
       "\n",
       "   Over the last 2 weeks, how often have you been bothered by any of the following problems? Worrying too much about different things  \\\n",
       "0                                                  1                                                                                    \n",
       "1                                                  1                                                                                    \n",
       "2                                                  2                                                                                    \n",
       "3                                                  3                                                                                    \n",
       "4                                                  3                                                                                    \n",
       "\n",
       "   Over the last 2 weeks, how often have you been bothered by any of the following problems?  Trouble relaxing  \\\n",
       "0                                                  1                                                             \n",
       "1                                                  1                                                             \n",
       "2                                                  3                                                             \n",
       "3                                                  3                                                             \n",
       "4                                                  2                                                             \n",
       "\n",
       "   Over the last 2 weeks, how often have you been bothered by any of the following problems?  Being so restless that it's hard to sit still  \\\n",
       "0                                                  0                                                                                          \n",
       "1                                                  0                                                                                          \n",
       "2                                                  1                                                                                          \n",
       "3                                                  1                                                                                          \n",
       "4                                                  2                                                                                          \n",
       "\n",
       "   Over the last 2 weeks, how often have you been bothered by any of the following problems?  Becoming easily annoyed or irritable  \\\n",
       "0                                                  1                                                                                 \n",
       "1                                                  0                                                                                 \n",
       "2                                                  3                                                                                 \n",
       "3                                                  3                                                                                 \n",
       "4                                                  2                                                                                 \n",
       "\n",
       "   Over the last 2 weeks, how often have you been bothered by any of the following problems?  Feeling afraid as if something awful might happen  \\\n",
       "0                                                  0                                                                                              \n",
       "1                                                  0                                                                                              \n",
       "2                                                  1                                                                                              \n",
       "3                                                  2                                                                                              \n",
       "4                                                  1                                                                                              \n",
       "\n",
       "   If you checked off any problems, how difficult have these made it for you to do your work, take care of things at home, or get along with other people?  \\\n",
       "0                                                  2                                                                                                         \n",
       "1                                                  0                                                                                                         \n",
       "2                                                  1                                                                                                         \n",
       "3                                                  2                                                                                                         \n",
       "4                                                  1                                                                                                         \n",
       "\n",
       "   day           createdAt  \n",
       "0    1 2016-11-11 14:03:15  \n",
       "1    1 2016-09-03 15:53:34  \n",
       "2    1 2016-09-03 12:51:17  \n",
       "3    1 2016-11-06 17:57:18  \n",
       "4    1 2016-11-11 18:22:08  "
      ]
     },
     "execution_count": 3,
     "metadata": {},
     "output_type": "execute_result"
    }
   ],
   "source": [
    "v1sid, v2sid =  'syn12181331', 'syn9974013'\n",
    "\n",
    "v1r = pd.read_csv(syn.get(v1sid).path, parse_dates=['timestamp'])\n",
    "v2r = pd.read_csv(syn.get(v2sid).path, parse_dates=['createdAt'])\n",
    "\n",
    "v1r.head()\n",
    "v2r.head()"
   ]
  },
  {
   "cell_type": "markdown",
   "metadata": {},
   "source": [
    "### Process V1 data"
   ]
  },
  {
   "cell_type": "code",
   "execution_count": null,
   "metadata": {
    "ExecuteTime": {
     "end_time": "2018-12-28T19:52:36.630323Z",
     "start_time": "2018-12-28T19:52:36.162211Z"
    }
   },
   "outputs": [],
   "source": [
    "# drop the uneeded columns\n",
    "v1 = v1r.drop(columns=[\n",
    "    'userid', 'timestampUTC'\n",
    "]).rename(columns={\n",
    "    'brightenid': 'participant_id',\n",
    "    'gad7_S':'gad7_8',\n",
    "    'timestamp':'dt_response'\n",
    "})\n",
    "\n",
    "v1['gad7_sum'] = [np.sum(t.iloc[2:]) for i, t in v1.iterrows()]\n",
    "v1.head()"
   ]
  },
  {
   "cell_type": "markdown",
   "metadata": {},
   "source": [
    "### Process V2 data"
   ]
  },
  {
   "cell_type": "code",
   "execution_count": null,
   "metadata": {
    "ExecuteTime": {
     "end_time": "2018-12-28T19:52:36.778220Z",
     "start_time": "2018-12-28T19:52:36.637198Z"
    }
   },
   "outputs": [],
   "source": [
    "v2r.columns = ['participant_id', 'gad7_1', 'gad7_2', 'gad7_3', 'gad7_4', 'gad7_5', 'gad7_6', 'gad7_7', 'gad7_8', 'day', 'dt_response']\n",
    "v2 = v2r.drop(columns=['day']).loc[:,  ['participant_id', 'dt_response', 'gad7_1', 'gad7_2', 'gad7_3', 'gad7_4', 'gad7_5', 'gad7_6', 'gad7_7', 'gad7_8'] ]\n",
    "\n",
    "v2['gad7_sum'] = [np.sum(t.iloc[2:]) for i, t in v2.iterrows()]\n",
    "v2.head()"
   ]
  },
  {
   "cell_type": "markdown",
   "metadata": {},
   "source": [
    "### Combine the DataFrames"
   ]
  },
  {
   "cell_type": "code",
   "execution_count": null,
   "metadata": {
    "ExecuteTime": {
     "end_time": "2018-12-28T19:52:36.837428Z",
     "start_time": "2018-12-28T19:52:36.783961Z"
    }
   },
   "outputs": [],
   "source": [
    "combined = pd.concat([v1, v2], sort=False)\n",
    "combined.head()"
   ]
  },
  {
   "cell_type": "code",
   "execution_count": null,
   "metadata": {
    "ExecuteTime": {
     "end_time": "2018-12-28T19:52:36.870886Z",
     "start_time": "2018-12-28T19:52:36.842871Z"
    }
   },
   "outputs": [],
   "source": [
    "sum(combined.duplicated(subset=['participant_id', 'dt_response']))"
   ]
  },
  {
   "cell_type": "markdown",
   "metadata": {},
   "source": [
    "### Add week in study"
   ]
  },
  {
   "cell_type": "code",
   "execution_count": 4,
   "metadata": {},
   "outputs": [],
   "source": [
    "metasid = 'syn27082597'"
   ]
  },
  {
   "cell_type": "code",
   "execution_count": null,
   "metadata": {
    "ExecuteTime": {
     "end_time": "2018-12-28T19:52:37.911495Z",
     "start_time": "2018-12-28T19:52:36.877194Z"
    }
   },
   "outputs": [],
   "source": [
    "metadata = syn.tableQuery(f'SELECT participant_id, startdate FROM {metasid}').asDataFrame(convert_to_datetime=True)\n",
    "metadata.startdate = pd.to_datetime(metadata.startdate)\n",
    "\n",
    "# add in the participants start date as a new column\n",
    "combined = pd.merge(combined, metadata, on='participant_id', how='left')\n",
    "\n",
    "# get the time difference in weeks as a float\n",
    "combined['week'] = [\n",
    "    d.days/7 for d in (\n",
    "        combined.dt_response.apply(\n",
    "            lambda x: dt.datetime(year=x.year, month=x.month, day=x.day))-combined.startdate\n",
    "    )\n",
    "]\n",
    "\n",
    "# convert the week number to an int by taking the floor\n",
    "combined.week = combined.week.progress_apply(lambda x: np.int16(np.floor(x))+1)# if not pd.isnull(x) else np.nan)\n",
    "\n",
    "# remove the start date\n",
    "combined = combined.drop(columns=['startdate'], errors='ignore')\n",
    "\n",
    "# reorder the columns\n",
    "cols = list(combined.columns)\n",
    "cols = cols[0:2] + ['week'] + cols[2:-1]\n",
    "combined = combined.reindex(columns=cols)\n",
    "\n",
    "combined.head()"
   ]
  },
  {
   "cell_type": "markdown",
   "metadata": {},
   "source": [
    "### Loclize timestamps"
   ]
  },
  {
   "cell_type": "code",
   "execution_count": null,
   "metadata": {
    "ExecuteTime": {
     "end_time": "2018-12-28T19:52:38.010958Z",
     "start_time": "2018-12-28T19:52:37.918231Z"
    }
   },
   "outputs": [],
   "source": [
    "# localize timestamps\n",
    "combined['dt_response'] = [\n",
    "    str(t.tz_localize('UTC'))\n",
    "    for t in combined.dt_response\n",
    "]\n",
    "\n",
    "combined.head()"
   ]
  },
  {
   "cell_type": "markdown",
   "metadata": {},
   "source": [
    "### Set provenance and upload to Synapse"
   ]
  },
  {
   "cell_type": "code",
   "execution_count": null,
   "metadata": {
    "ExecuteTime": {
     "end_time": "2018-12-28T19:53:28.106598Z",
     "start_time": "2018-12-28T19:53:14.570202Z"
    }
   },
   "outputs": [],
   "source": [
    "# remove existing rows\n",
    "t = syn.delete(\n",
    "    syn.tableQuery('SELECT * FROM syn17022655')\n",
    ")"
   ]
  },
  {
   "cell_type": "code",
   "execution_count": null,
   "metadata": {
    "ExecuteTime": {
     "end_time": "2018-12-28T19:53:41.613284Z",
     "start_time": "2018-12-28T19:53:28.120172Z"
    }
   },
   "outputs": [],
   "source": [
    "final = syn.store(Table(\n",
    "    Schema(\n",
    "            name='GAD-7',\n",
    "            columns=as_table_columns(combined), \n",
    "            parent='syn10848316'),\n",
    "        combined\n",
    "    )\n",
    ")"
   ]
  },
  {
   "cell_type": "code",
   "execution_count": 5,
   "metadata": {
    "ExecuteTime": {
     "end_time": "2018-12-28T19:53:42.639304Z",
     "start_time": "2018-12-28T19:53:41.620582Z"
    }
   },
   "outputs": [],
   "source": [
    "final = syn.setProvenance(\n",
    "    'syn17022655',\n",
    "    activity=Activity(\n",
    "        name='Combine V1 and V2 data',\n",
    "        description='Process and combine the data collected during study 1 and study 2',\n",
    "        used=[v1sid, v2sid],\n",
    "        executed=[\n",
    "            dict(\n",
    "                name='Curate_GAD7_Data',\n",
    "                url='https://github.com/apratap/BRIGHTEN-Data-Release/blob/master/Curate_GAD7_Data.ipynb'\n",
    "            )\n",
    "        ]\n",
    "    )\n",
    ")"
   ]
  },
  {
   "cell_type": "code",
   "execution_count": null,
   "metadata": {},
   "outputs": [],
   "source": []
  }
 ],
 "metadata": {
  "kernelspec": {
   "display_name": "Python 3",
   "language": "python",
   "name": "python3"
  },
  "language_info": {
   "codemirror_mode": {
    "name": "ipython",
    "version": 3
   },
   "file_extension": ".py",
   "mimetype": "text/x-python",
   "name": "python",
   "nbconvert_exporter": "python",
   "pygments_lexer": "ipython3",
   "version": "3.8.8"
  },
  "varInspector": {
   "cols": {
    "lenName": 16,
    "lenType": 16,
    "lenVar": 40
   },
   "kernels_config": {
    "python": {
     "delete_cmd_postfix": "",
     "delete_cmd_prefix": "del ",
     "library": "var_list.py",
     "varRefreshCmd": "print(var_dic_list())"
    },
    "r": {
     "delete_cmd_postfix": ") ",
     "delete_cmd_prefix": "rm(",
     "library": "var_list.r",
     "varRefreshCmd": "cat(var_dic_list()) "
    }
   },
   "types_to_exclude": [
    "module",
    "function",
    "builtin_function_or_method",
    "instance",
    "_Feature"
   ],
   "window_display": false
  }
 },
 "nbformat": 4,
 "nbformat_minor": 2
}
