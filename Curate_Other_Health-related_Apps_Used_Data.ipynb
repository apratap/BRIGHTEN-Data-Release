{
 "cells": [
  {
   "cell_type": "markdown",
   "metadata": {},
   "source": [
    "# Curate_Other_Health-related_Apps_Used_Data"
   ]
  },
  {
   "cell_type": "code",
   "execution_count": 3,
   "metadata": {
    "ExecuteTime": {
     "end_time": "2018-11-14T02:09:10.864586Z",
     "start_time": "2018-11-14T02:09:06.465154Z"
    }
   },
   "outputs": [
    {
     "name": "stdout",
     "output_type": "stream",
     "text": [
      "Welcome, Abhishek Pratap!\n",
      "\n"
     ]
    }
   ],
   "source": [
    "%matplotlib inline\n",
    "\n",
    "import datetime as dt\n",
    "import itertools as it\n",
    "\n",
    "from IPython.core.interactiveshell import InteractiveShell\n",
    "import matplotlib.pyplot as plt\n",
    "import pandas as pd\n",
    "import synapseclient\n",
    "from synapseclient import Activity, Schema, Table, as_table_columns\n",
    "\n",
    "InteractiveShell.ast_node_interactivity = 'all'\n",
    "syn = synapseclient.Synapse()\n",
    "syn.login()"
   ]
  },
  {
   "cell_type": "code",
   "execution_count": 4,
   "metadata": {
    "ExecuteTime": {
     "end_time": "2018-11-14T02:09:12.401265Z",
     "start_time": "2018-11-14T02:09:10.867587Z"
    }
   },
   "outputs": [],
   "source": [
    "v1sid = 'syn10250483'\n",
    "v1r = pd.read_excel(syn.get(v1sid).path, parse_dates=['response_utc'])"
   ]
  },
  {
   "cell_type": "code",
   "execution_count": null,
   "metadata": {
    "ExecuteTime": {
     "end_time": "2018-11-14T02:09:12.420238Z",
     "start_time": "2018-11-14T02:09:12.403237Z"
    }
   },
   "outputs": [],
   "source": [
    "v1 = v1r.drop(columns=[\n",
    "    'user_id', 'sent_time_local', 'sent_time_utc', 'response_local', 'response_id', 'start'\n",
    "]).rename(columns={\n",
    "    'brightenid':'participant_id',\n",
    "    'response_utc':'dt_response',\n",
    "    'otherapps':'apps'\n",
    "}).loc[:, ['participant_id', 'dt_response', 'week', 'apps']]\n",
    "\n",
    "v1.head()"
   ]
  },
  {
   "cell_type": "code",
   "execution_count": 4,
   "metadata": {
    "ExecuteTime": {
     "end_time": "2018-11-14T02:09:12.433238Z",
     "start_time": "2018-11-14T02:09:12.422244Z"
    }
   },
   "outputs": [
    {
     "name": "stdout",
     "output_type": "stream",
     "text": [
      "Relaxation\n",
      "Exercise / fitness\n",
      "Concentration\n",
      "Weight management\n",
      "Medical\n",
      "Mood\n",
      "Sleep\n",
      "Pain management\n",
      "Alcohol\n"
     ]
    }
   ],
   "source": [
    "def isnum(x):\n",
    "    if x is None:\n",
    "        return False\n",
    "    try:\n",
    "        float(x)\n",
    "        return True\n",
    "    except ValueError:\n",
    "        return False\n",
    "\n",
    "# find all the unique app reasons\n",
    "t = [print(i) for i in pd.unique(list(it.chain.from_iterable([t.split('|') for t in v1.apps if not isnum(t)])))]; del t"
   ]
  },
  {
   "cell_type": "code",
   "execution_count": null,
   "metadata": {
    "ExecuteTime": {
     "end_time": "2018-11-14T02:09:12.519269Z",
     "start_time": "2018-11-14T02:09:12.435236Z"
    }
   },
   "outputs": [],
   "source": [
    "def fx(x, key):\n",
    "        return int(not isnum(x) and x.find(key) > -1)\n",
    "\n",
    "# throw in the indicator variables\n",
    "v1['app_al'] = v1.apps.apply(lambda x: fx(x, 'Alcohol'))\n",
    "v1['app_ct'] = v1.apps.apply(lambda x: fx(x, 'Concentration'))\n",
    "v1['app_ef'] = v1.apps.apply(lambda x: fx(x, 'Exercise / fitness'))\n",
    "v1['app_md'] = v1.apps.apply(lambda x: fx(x, 'Medical'))\n",
    "v1['app_mo'] = v1.apps.apply(lambda x: fx(x, 'Mood'))\n",
    "v1['app_pm'] = v1.apps.apply(lambda x: fx(x, 'Pain management'))\n",
    "v1['app_rx'] = v1.apps.apply(lambda x: fx(x, 'Relaxation'))\n",
    "v1['app_sl'] = v1.apps.apply(lambda x: fx(x, 'Sleep'))\n",
    "v1['app_wm'] = v1.apps.apply(lambda x: fx(x, 'Weight management'))\n",
    "\n",
    "v1 = v1.drop(columns=['apps'])\n",
    "v1.head()"
   ]
  },
  {
   "cell_type": "code",
   "execution_count": 6,
   "metadata": {
    "ExecuteTime": {
     "end_time": "2018-11-14T02:09:21.942807Z",
     "start_time": "2018-11-14T02:09:12.521238Z"
    }
   },
   "outputs": [],
   "source": [
    "final = syn.store(Table(\n",
    "    Schema(\n",
    "            name='Additional Applications',\n",
    "            columns=as_table_columns(v1), \n",
    "            parent='syn10848316'),\n",
    "        v1\n",
    "    )\n",
    ")"
   ]
  },
  {
   "cell_type": "code",
   "execution_count": 7,
   "metadata": {
    "ExecuteTime": {
     "end_time": "2018-11-14T02:09:23.098838Z",
     "start_time": "2018-11-14T02:09:21.943779Z"
    }
   },
   "outputs": [],
   "source": [
    "final = syn.setProvenance(\n",
    "    'syn17025058',\n",
    "    activity=Activity(\n",
    "        name='Clean V1 data',\n",
    "        description='Process and combine the data collected during study 1 and study 2',\n",
    "        used=[v1sid],\n",
    "        executed=[\n",
    "            dict(\n",
    "                name='Curate_Other_Health-related_Apps_Used_Data',\n",
    "                url='https://github.com/apratap/BRIGHTEN-Data-Release/blob/master/Curate_Other_Health-related_Apps_Used_Data.ipynb'\n",
    "            )\n",
    "        ]\n",
    "    )\n",
    ")"
   ]
  }
 ],
 "metadata": {
  "kernelspec": {
   "display_name": "Python 3",
   "language": "python",
   "name": "python3"
  },
  "language_info": {
   "codemirror_mode": {
    "name": "ipython",
    "version": 3
   },
   "file_extension": ".py",
   "mimetype": "text/x-python",
   "name": "python",
   "nbconvert_exporter": "python",
   "pygments_lexer": "ipython3",
   "version": "3.8.8"
  },
  "varInspector": {
   "cols": {
    "lenName": 16,
    "lenType": 16,
    "lenVar": 40
   },
   "kernels_config": {
    "python": {
     "delete_cmd_postfix": "",
     "delete_cmd_prefix": "del ",
     "library": "var_list.py",
     "varRefreshCmd": "print(var_dic_list())"
    },
    "r": {
     "delete_cmd_postfix": ") ",
     "delete_cmd_prefix": "rm(",
     "library": "var_list.r",
     "varRefreshCmd": "cat(var_dic_list()) "
    }
   },
   "types_to_exclude": [
    "module",
    "function",
    "builtin_function_or_method",
    "instance",
    "_Feature"
   ],
   "window_display": false
  }
 },
 "nbformat": 4,
 "nbformat_minor": 2
}
