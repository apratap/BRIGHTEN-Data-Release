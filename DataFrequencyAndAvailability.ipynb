{
 "cells": [
  {
   "cell_type": "code",
   "execution_count": null,
   "metadata": {
    "ExecuteTime": {
     "end_time": "2018-11-29T17:18:44.112348Z",
     "start_time": "2018-11-29T17:18:40.232623Z"
    }
   },
   "outputs": [],
   "source": [
    "%matplotlib inline\n",
    "\n",
    "import matplotlib.pyplot as plt\n",
    "import numpy as np\n",
    "import pandas as pd\n",
    "import synapseclient\n",
    "from tabulate import tabulate\n",
    "from tqdm import tqdm\n",
    "\n",
    "pd.set_option('max_colwidth', 100)\n",
    "\n",
    "syn = synapseclient.Synapse()\n",
    "syn.login()"
   ]
  },
  {
   "cell_type": "code",
   "execution_count": null,
   "metadata": {
    "ExecuteTime": {
     "end_time": "2018-11-29T17:18:44.123576Z",
     "start_time": "2018-11-29T17:18:44.115604Z"
    }
   },
   "outputs": [],
   "source": [
    "sids = {\n",
    "    'AUDIT-C':'syn17021280',\n",
    "    'GAD-7':'syn17022655',\n",
    "    'PHQ-2':'syn17020855',\n",
    "    'PHQ-9':'syn16787460',\n",
    "    'SDS':'syn17022658',\n",
    "    'Other Mobile Apps Used':'syn17025058',\n",
    "    'Application Satisfaction':'syn17025202',\n",
    "    'Baseline Demographics':'syn17023349',\n",
    "    'Existing Treatment':'syn17022660',\n",
    "    'GPS Features - V2':'syn17061218',\n",
    "    'Health Applications':'syn17022426',\n",
    "    'Mental Health Screening':'syn17023316',\n",
    "    'Mood Assessment':'syn17023313',\n",
    "    'Passive Features V1':'syn17025500',\n",
    "    'Passive Features V2':'syn17060502',\n",
    "    'Sleep Quality':'syn17022659',\n",
    "    'Weather Features':'syn17061284'\n",
    "}"
   ]
  },
  {
   "cell_type": "code",
   "execution_count": null,
   "metadata": {
    "ExecuteTime": {
     "end_time": "2018-11-29T17:23:57.066257Z",
     "start_time": "2018-11-29T17:23:49.512867Z"
    },
    "scrolled": false
   },
   "outputs": [],
   "source": [
    "dfs, pbar = [], tqdm(total=len(sids))\n",
    "\n",
    "table_num = 1\n",
    "for k, v in sids.items():\n",
    "    pbar.set_description(k)\n",
    "    \n",
    "    df = syn.tableQuery(f'select * from {v}').asDataFrame()\n",
    "    col = df.columns[-1]\n",
    "    idcol = 'participant_id' if k != 'PHQ-9' else 'brightenid'    \n",
    "    \n",
    "    dfs.append({\n",
    "        '#':table_num,\n",
    "        'Table Name':k,\n",
    "        'Synapse Id':f'[{v}](https://www.synapse.org/#!Synapse:{v}/tables/)',\n",
    "        'Unique Participants':len(df.loc[:, idcol].unique()),\n",
    "        'Observations':len(df.loc[[not b for b in df.loc[:, idcol].isnull()]]),\n",
    "    })\n",
    "    \n",
    "    table_num += 1\n",
    "    pbar.update(1)\n",
    "\n",
    "summary = pd.DataFrame(dfs).set_index('#').loc[:, [\n",
    "    'Table Name', 'Synapse Id', 'Unique Participants', 'Observations'\n",
    "]]"
   ]
  },
  {
   "cell_type": "code",
   "execution_count": null,
   "metadata": {
    "ExecuteTime": {
     "end_time": "2018-11-29T17:23:59.601486Z",
     "start_time": "2018-11-29T17:23:59.591897Z"
    }
   },
   "outputs": [],
   "source": [
    "print(tabulate(summary, headers=summary.columns, tablefmt='pipe'))"
   ]
  }
 ],
 "metadata": {
  "kernelspec": {
   "display_name": "Python [conda env:bright]",
   "language": "python",
   "name": "conda-env-bright-py"
  },
  "language_info": {
   "codemirror_mode": {
    "name": "ipython",
    "version": 3
   },
   "file_extension": ".py",
   "mimetype": "text/x-python",
   "name": "python",
   "nbconvert_exporter": "python",
   "pygments_lexer": "ipython3",
   "version": "3.6.6"
  },
  "varInspector": {
   "cols": {
    "lenName": 16,
    "lenType": 16,
    "lenVar": 40
   },
   "kernels_config": {
    "python": {
     "delete_cmd_postfix": "",
     "delete_cmd_prefix": "del ",
     "library": "var_list.py",
     "varRefreshCmd": "print(var_dic_list())"
    },
    "r": {
     "delete_cmd_postfix": ") ",
     "delete_cmd_prefix": "rm(",
     "library": "var_list.r",
     "varRefreshCmd": "cat(var_dic_list()) "
    }
   },
   "types_to_exclude": [
    "module",
    "function",
    "builtin_function_or_method",
    "instance",
    "_Feature"
   ],
   "window_display": false
  }
 },
 "nbformat": 4,
 "nbformat_minor": 2
}
