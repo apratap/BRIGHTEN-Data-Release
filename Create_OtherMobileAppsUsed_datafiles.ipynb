{
 "cells": [
  {
   "cell_type": "code",
   "execution_count": null,
   "metadata": {
    "ExecuteTime": {
     "end_time": "2018-12-28T17:43:25.172653Z",
     "start_time": "2018-12-28T17:43:09.250813Z"
    }
   },
   "outputs": [],
   "source": [
    "%matplotlib inline\n",
    "\n",
    "import datetime as dt\n",
    "import itertools as it\n",
    "import numpy as np\n",
    "\n",
    "from IPython.core.interactiveshell import InteractiveShell\n",
    "import matplotlib.pyplot as plt\n",
    "import pandas as pd\n",
    "import synapseclient\n",
    "from synapseclient import Activity, Schema, Table, as_table_columns\n",
    "from tqdm import tqdm\n",
    "\n",
    "InteractiveShell.ast_node_interactivity = 'all'\n",
    "syn = synapseclient.Synapse()\n",
    "syn.login()\n",
    "\n",
    "tqdm.pandas()"
   ]
  },
  {
   "cell_type": "code",
   "execution_count": null,
   "metadata": {
    "ExecuteTime": {
     "end_time": "2018-12-28T17:43:26.919706Z",
     "start_time": "2018-12-28T17:43:25.181970Z"
    }
   },
   "outputs": [],
   "source": [
    "v1sid = 'syn10250483'\n",
    "\n",
    "v1r = pd.read_excel(syn.get(v1sid).path, parse_dates=['response_utc'])\n",
    "\n",
    "v1r.head()"
   ]
  },
  {
   "cell_type": "code",
   "execution_count": null,
   "metadata": {
    "ExecuteTime": {
     "end_time": "2018-12-28T17:43:27.064012Z",
     "start_time": "2018-12-28T17:43:26.926230Z"
    }
   },
   "outputs": [],
   "source": [
    "v1 = v1r.drop(columns=[\n",
    "    'user_id', 'sent_time_local', 'sent_time_utc', 'response_local', 'response_id', 'start'\n",
    "]).rename(columns={\n",
    "    'brightenid':'participant_id',\n",
    "    'response_utc':'dt_response',\n",
    "    'otherapps':'apps',\n",
    "}).loc[:, ['participant_id', 'dt_response', 'week', 'apps']]\n",
    "\n",
    "v1.head()"
   ]
  },
  {
   "cell_type": "code",
   "execution_count": null,
   "metadata": {
    "ExecuteTime": {
     "end_time": "2018-12-28T17:43:27.108425Z",
     "start_time": "2018-12-28T17:43:27.069639Z"
    }
   },
   "outputs": [],
   "source": [
    "def isnum(x):\n",
    "    if x is None:\n",
    "        return False\n",
    "    try:\n",
    "        float(x)\n",
    "        return True\n",
    "    except ValueError:\n",
    "        return False\n",
    "\n",
    "# find all the unique app reasons\n",
    "t = [print(i) for i in pd.unique(list(it.chain.from_iterable([t.split('|') for t in v1.apps if not isnum(t)])))]; del t"
   ]
  },
  {
   "cell_type": "code",
   "execution_count": null,
   "metadata": {
    "ExecuteTime": {
     "end_time": "2018-12-28T17:43:27.241363Z",
     "start_time": "2018-12-28T17:43:27.118168Z"
    }
   },
   "outputs": [],
   "source": [
    "def fx(x, key):\n",
    "        return int(not isnum(x) and x.find(key) > -1)\n",
    "\n",
    "# throw in the indicator variables\n",
    "v1['app_al'] = v1.apps.apply(lambda x: fx(x, 'Alcohol'))\n",
    "v1['app_ct'] = v1.apps.apply(lambda x: fx(x, 'Concentration'))\n",
    "v1['app_ef'] = v1.apps.apply(lambda x: fx(x, 'Exercise / fitness'))\n",
    "v1['app_md'] = v1.apps.apply(lambda x: fx(x, 'Medical'))\n",
    "v1['app_mo'] = v1.apps.apply(lambda x: fx(x, 'Mood'))\n",
    "v1['app_pm'] = v1.apps.apply(lambda x: fx(x, 'Pain management'))\n",
    "v1['app_rx'] = v1.apps.apply(lambda x: fx(x, 'Relaxation'))\n",
    "v1['app_sl'] = v1.apps.apply(lambda x: fx(x, 'Sleep'))\n",
    "v1['app_wm'] = v1.apps.apply(lambda x: fx(x, 'Weight management'))\n",
    "\n",
    "v1 = v1.drop(columns=['apps'])\n",
    "v1.head()"
   ]
  },
  {
   "cell_type": "markdown",
   "metadata": {},
   "source": [
    "### Add week into study"
   ]
  },
  {
   "cell_type": "code",
   "execution_count": null,
   "metadata": {
    "ExecuteTime": {
     "end_time": "2018-12-28T17:43:29.843415Z",
     "start_time": "2018-12-28T17:43:27.245726Z"
    }
   },
   "outputs": [],
   "source": [
    "metasid = 'syn17023349'\n",
    "metadata = syn.tableQuery(f'SELECT participant_id, startdate FROM {metasid}').asDataFrame(convert_to_datetime=True)\n",
    "metadata.startdate = pd.to_datetime(metadata.startdate)\n",
    "\n",
    "# add in the participants start date as a new column\n",
    "v1 = pd.merge(v1, metadata, on='participant_id', how='left')\n",
    "\n",
    "# get the time difference in weeks as a float\n",
    "v1['week'] = [\n",
    "    d.days/7 for d in (\n",
    "        v1.dt_response.apply(\n",
    "            lambda x: dt.datetime(year=x.year, month=x.month, day=x.day))-v1.startdate\n",
    "    )\n",
    "]\n",
    "\n",
    "# convert the week number to an int by taking the floor\n",
    "v1.week = v1.week.progress_apply(lambda x: np.int16(np.floor(x))+1)# if not pd.isnull(x) else np.nan)\n",
    "\n",
    "# remove the start date\n",
    "v1 = v1.drop(columns=['startdate'], errors='ignore')"
   ]
  },
  {
   "cell_type": "markdown",
   "metadata": {},
   "source": [
    "### Localize timestamps"
   ]
  },
  {
   "cell_type": "code",
   "execution_count": null,
   "metadata": {
    "ExecuteTime": {
     "end_time": "2018-12-28T17:43:29.920499Z",
     "start_time": "2018-12-28T17:43:29.852623Z"
    }
   },
   "outputs": [],
   "source": [
    "# localize timestamps\n",
    "v1['dt_response'] = [\n",
    "    str(t.tz_localize('UTC'))\n",
    "    for t in v1.dt_response\n",
    "]\n",
    "\n",
    "v1.head()"
   ]
  },
  {
   "cell_type": "markdown",
   "metadata": {},
   "source": [
    "### Upload to Synapse"
   ]
  },
  {
   "cell_type": "code",
   "execution_count": null,
   "metadata": {
    "ExecuteTime": {
     "end_time": "2018-12-28T17:45:41.026779Z",
     "start_time": "2018-12-28T17:45:16.458075Z"
    }
   },
   "outputs": [],
   "source": [
    "t = syn.delete(\n",
    "    syn.tableQuery('select * from syn17025058')\n",
    ")"
   ]
  },
  {
   "cell_type": "code",
   "execution_count": null,
   "metadata": {
    "ExecuteTime": {
     "end_time": "2018-12-28T17:46:04.139471Z",
     "start_time": "2018-12-28T17:45:41.032061Z"
    }
   },
   "outputs": [],
   "source": [
    "final = syn.store(Table(\n",
    "    Schema(\n",
    "            name='Other Mobile Apps Used',\n",
    "            columns=as_table_columns(v1), \n",
    "            parent='syn10848316'),\n",
    "        v1\n",
    "    )\n",
    ")"
   ]
  },
  {
   "cell_type": "code",
   "execution_count": null,
   "metadata": {
    "ExecuteTime": {
     "end_time": "2018-12-28T17:46:06.142423Z",
     "start_time": "2018-12-28T17:46:04.142784Z"
    }
   },
   "outputs": [],
   "source": [
    "final = syn.setProvenance(\n",
    "    'syn17025058',\n",
    "    activity=Activity(\n",
    "        name='Combine V1 and V2 data',\n",
    "        description='Process and combine the data collected during study 1 and study 2',\n",
    "        used=[v1sid],\n",
    "        executed=[\n",
    "            dict(\n",
    "                name='IPython Notebook',\n",
    "                url='https://github.com/apratap/BRIGHTEN-Data-Release/blob/master/Create_AdditionalApplications_datafiles.ipynb'\n",
    "            )\n",
    "        ]\n",
    "    )\n",
    ")"
   ]
  }
 ],
 "metadata": {
  "kernelspec": {
   "display_name": "Python [conda env:bright]",
   "language": "python",
   "name": "conda-env-bright-py"
  },
  "language_info": {
   "codemirror_mode": {
    "name": "ipython",
    "version": 3
   },
   "file_extension": ".py",
   "mimetype": "text/x-python",
   "name": "python",
   "nbconvert_exporter": "python",
   "pygments_lexer": "ipython3",
   "version": "3.6.6"
  },
  "varInspector": {
   "cols": {
    "lenName": 16,
    "lenType": 16,
    "lenVar": 40
   },
   "kernels_config": {
    "python": {
     "delete_cmd_postfix": "",
     "delete_cmd_prefix": "del ",
     "library": "var_list.py",
     "varRefreshCmd": "print(var_dic_list())"
    },
    "r": {
     "delete_cmd_postfix": ") ",
     "delete_cmd_prefix": "rm(",
     "library": "var_list.r",
     "varRefreshCmd": "cat(var_dic_list()) "
    }
   },
   "types_to_exclude": [
    "module",
    "function",
    "builtin_function_or_method",
    "instance",
    "_Feature"
   ],
   "window_display": false
  }
 },
 "nbformat": 4,
 "nbformat_minor": 2
}
