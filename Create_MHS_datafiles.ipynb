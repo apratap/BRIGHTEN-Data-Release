{
 "cells": [
  {
   "cell_type": "markdown",
   "metadata": {},
   "source": [
    "# MHS Final Data Prep"
   ]
  },
  {
   "cell_type": "code",
   "execution_count": null,
   "metadata": {
    "ExecuteTime": {
     "end_time": "2018-11-05T23:30:01.405986Z",
     "start_time": "2018-11-05T23:29:56.470437Z"
    }
   },
   "outputs": [],
   "source": [
    "import datetime as dt\n",
    "import itertools\n",
    "import pandas as pd\n",
    "\n",
    "import matplotlib.pyplot as plt\n",
    "from IPython.core.interactiveshell import InteractiveShell\n",
    "import synapseclient\n",
    "from synapseclient import Activity, File, Schema, Table, as_table_columns\n",
    "\n",
    "InteractiveShell.ast_node_interactivity = 'all'\n",
    "syn = synapseclient.Synapse()\n",
    "syn.login()"
   ]
  },
  {
   "cell_type": "markdown",
   "metadata": {},
   "source": [
    "### Prep V2 data for public release"
   ]
  },
  {
   "cell_type": "code",
   "execution_count": null,
   "metadata": {
    "ExecuteTime": {
     "end_time": "2018-11-05T23:31:26.857300Z",
     "start_time": "2018-11-05T23:31:26.570301Z"
    }
   },
   "outputs": [],
   "source": [
    "v2sid = 'syn9974018'\n",
    "\n",
    "v2r = pd.read_csv(syn.get(v2sid).path, parse_dates=['createdAt'])\n",
    "v2r.head()"
   ]
  },
  {
   "cell_type": "code",
   "execution_count": null,
   "metadata": {
    "ExecuteTime": {
     "end_time": "2018-11-05T23:33:00.935029Z",
     "start_time": "2018-11-05T23:33:00.917037Z"
    }
   },
   "outputs": [],
   "source": [
    "v2r = v2r.rename(columns={\n",
    "    'Did a doctor ever prescribe a medication called Lithium to you?':'screen_1',\n",
    "    'Were you prescribed any medication for having a period of being so excited or irritable that you got into trouble or your family or friends worried about it?':'screen_2',\n",
    "    'Did a doctor ever say you were manic-depressive or had bipolar disorder?':'screen_3',\n",
    "    'Did a doctor ever say that you have schizophrenia or a schizoaffective disorder or psychosis?':'screen_4'\n",
    "})\n",
    "\n",
    "v2r.head()"
   ]
  },
  {
   "cell_type": "code",
   "execution_count": null,
   "metadata": {
    "ExecuteTime": {
     "end_time": "2018-11-05T23:33:09.075884Z",
     "start_time": "2018-11-05T23:33:08.867357Z"
    }
   },
   "outputs": [],
   "source": [
    "v2r.day.hist()"
   ]
  },
  {
   "cell_type": "markdown",
   "metadata": {},
   "source": [
    "### Drop that meaningless column and upload to Synapse"
   ]
  },
  {
   "cell_type": "code",
   "execution_count": null,
   "metadata": {
    "ExecuteTime": {
     "end_time": "2018-11-05T23:36:36.876099Z",
     "start_time": "2018-11-05T23:36:32.524772Z"
    }
   },
   "outputs": [],
   "source": [
    "v2r = v2r.drop(columns=['day'])\n",
    "\n",
    "name = 'V2_MentalHealthScreen.csv'\n",
    "v2r.to_csv(name, index=None)\n",
    "\n",
    "t = syn.setProvenance(\n",
    "    syn.store(File(name=name, path=name, parent='syn10848316')),\n",
    "    activity=Activity(\n",
    "        name='Public Release',\n",
    "        description='Prep data for public release',\n",
    "        used=[v2sid],\n",
    "        executed=[\n",
    "            dict(\n",
    "                name='IPython Notebook',\n",
    "                url='https://github.com/apratap/BRIGHTEN-Data-Release/blob/master/Create_MHS_datafiles.ipynb'\n",
    "            )\n",
    "        ]\n",
    "    )\n",
    "); del t"
   ]
  },
  {
   "cell_type": "markdown",
   "metadata": {},
   "source": [
    "### Prep V1 and V2 for release"
   ]
  },
  {
   "cell_type": "code",
   "execution_count": null,
   "metadata": {
    "ExecuteTime": {
     "end_time": "2018-11-05T23:39:06.661768Z",
     "start_time": "2018-11-05T23:39:06.185721Z"
    }
   },
   "outputs": [],
   "source": [
    "v1sid, v2sid = 'syn12204723', 'syn17023315'\n",
    "\n",
    "v1r = pd.read_csv(syn.get(v1sid).path, parse_dates=['timestamp'])\n",
    "v2r = pd.read_csv(syn.get(v2sid).path, parse_dates=['createdAt'])\n",
    "\n",
    "v1r.head()\n",
    "v2r.head()"
   ]
  },
  {
   "cell_type": "markdown",
   "metadata": {},
   "source": [
    "#### Prep V1 data"
   ]
  },
  {
   "cell_type": "code",
   "execution_count": null,
   "metadata": {
    "ExecuteTime": {
     "end_time": "2018-11-05T23:41:33.146502Z",
     "start_time": "2018-11-05T23:41:33.125522Z"
    }
   },
   "outputs": [],
   "source": [
    "v1 = v1r.drop(columns=[\n",
    "    'userid', 'timestampUTC'\n",
    "]).rename(columns={\n",
    "    'brightenid':'participant_id',\n",
    "    'timestamp':'dt_response'\n",
    "})\n",
    "\n",
    "def fx(x):\n",
    "    if x == 'No':\n",
    "        return 0\n",
    "    elif x == 'Yes':\n",
    "        return 1\n",
    "    else:\n",
    "        raise ValueError(f'encoding not mapped: {x}')\n",
    "\n",
    "v1.screen_1 = v1.screen_1.apply(fx)\n",
    "v1.screen_2 = v1.screen_2.apply(fx)\n",
    "v1.screen_3 = v1.screen_3.apply(fx)\n",
    "v1.screen_4 = v1.screen_4.apply(fx)\n",
    "        \n",
    "v1.head()"
   ]
  },
  {
   "cell_type": "markdown",
   "metadata": {},
   "source": [
    "#### Prep V2 data"
   ]
  },
  {
   "cell_type": "code",
   "execution_count": null,
   "metadata": {
    "ExecuteTime": {
     "end_time": "2018-11-05T23:42:58.832369Z",
     "start_time": "2018-11-05T23:42:58.806343Z"
    }
   },
   "outputs": [],
   "source": [
    "v2 = v2r.rename(columns={\n",
    "    'username':'participant_id',\n",
    "    'createdAt':'dt_response'\n",
    "}).loc[:, ['participant_id', 'dt_response', 'screen_1', 'screen_2', 'screen_3', 'screen_4']]\n",
    "\n",
    "v2.screen_1 = v2.screen_1.apply(fx)\n",
    "v2.screen_2 = v2.screen_2.apply(fx)\n",
    "v2.screen_3 = v2.screen_3.apply(fx)\n",
    "v2.screen_4 = v2.screen_4.apply(fx)\n",
    "        \n",
    "v2.head()"
   ]
  },
  {
   "cell_type": "markdown",
   "metadata": {},
   "source": [
    "### Combine"
   ]
  },
  {
   "cell_type": "code",
   "execution_count": null,
   "metadata": {
    "ExecuteTime": {
     "end_time": "2018-11-05T23:43:26.805875Z",
     "start_time": "2018-11-05T23:43:26.784870Z"
    }
   },
   "outputs": [],
   "source": [
    "combined = pd.concat([v1, v2], sort=False)\n",
    "combined.head()"
   ]
  },
  {
   "cell_type": "markdown",
   "metadata": {},
   "source": [
    "### Upload to Synapse"
   ]
  },
  {
   "cell_type": "code",
   "execution_count": null,
   "metadata": {
    "ExecuteTime": {
     "end_time": "2018-11-05T23:44:07.412604Z",
     "start_time": "2018-11-05T23:44:00.831750Z"
    }
   },
   "outputs": [],
   "source": [
    "final = syn.store(Table(\n",
    "    Schema(\n",
    "            name='Mental Health Screen',\n",
    "            columns=as_table_columns(combined), \n",
    "            parent='syn10848316'),\n",
    "        combined\n",
    "    )\n",
    ")"
   ]
  },
  {
   "cell_type": "code",
   "execution_count": null,
   "metadata": {
    "ExecuteTime": {
     "end_time": "2018-11-05T23:44:31.077173Z",
     "start_time": "2018-11-05T23:44:30.520495Z"
    }
   },
   "outputs": [],
   "source": [
    "final = syn.setProvenance(\n",
    "    'syn17023316',\n",
    "    activity=Activity(\n",
    "        name='Combine V1 and V2 data',\n",
    "        description='Process and combine the data collected during study 1 and study 2',\n",
    "        used=[v1sid, v2sid],\n",
    "        executed=[\n",
    "            dict(\n",
    "                name='IPython Notebook',\n",
    "                url='https://github.com/apratap/BRIGHTEN-Data-Release/blob/master/Create_MHS_datafiles.ipynb'\n",
    "            )\n",
    "        ]\n",
    "    )\n",
    ")"
   ]
  }
 ],
 "metadata": {
  "kernelspec": {
   "display_name": "Python (bright)",
   "language": "python",
   "name": "bright"
  },
  "language_info": {
   "codemirror_mode": {
    "name": "ipython",
    "version": 3
   },
   "file_extension": ".py",
   "mimetype": "text/x-python",
   "name": "python",
   "nbconvert_exporter": "python",
   "pygments_lexer": "ipython3",
   "version": "3.6.6"
  },
  "varInspector": {
   "cols": {
    "lenName": 16,
    "lenType": 16,
    "lenVar": 40
   },
   "kernels_config": {
    "python": {
     "delete_cmd_postfix": "",
     "delete_cmd_prefix": "del ",
     "library": "var_list.py",
     "varRefreshCmd": "print(var_dic_list())"
    },
    "r": {
     "delete_cmd_postfix": ") ",
     "delete_cmd_prefix": "rm(",
     "library": "var_list.r",
     "varRefreshCmd": "cat(var_dic_list()) "
    }
   },
   "types_to_exclude": [
    "module",
    "function",
    "builtin_function_or_method",
    "instance",
    "_Feature"
   ],
   "window_display": false
  }
 },
 "nbformat": 4,
 "nbformat_minor": 2
}
