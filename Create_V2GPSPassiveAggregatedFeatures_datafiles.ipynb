{
 "cells": [
  {
   "cell_type": "code",
   "execution_count": null,
   "metadata": {
    "ExecuteTime": {
     "end_time": "2018-12-28T17:01:39.808792Z",
     "start_time": "2018-12-28T17:01:33.717814Z"
    }
   },
   "outputs": [],
   "source": [
    "%matplotlib inline\n",
    "\n",
    "import datetime as dt\n",
    "import itertools as it\n",
    "\n",
    "from IPython.core.interactiveshell import InteractiveShell\n",
    "import matplotlib.pyplot as plt\n",
    "import numpy as np\n",
    "import pandas as pd\n",
    "import synapseclient\n",
    "from synapseclient import Activity, Schema, Table, as_table_columns\n",
    "from tabulate import tabulate\n",
    "\n",
    "InteractiveShell.ast_node_interactivity = 'all'\n",
    "syn = synapseclient.Synapse()\n",
    "syn.login()"
   ]
  },
  {
   "cell_type": "markdown",
   "metadata": {},
   "source": [
    "### Prep the data"
   ]
  },
  {
   "cell_type": "markdown",
   "metadata": {},
   "source": [
    "https://www.synapse.org/#!Synapse:syn15667977"
   ]
  },
  {
   "cell_type": "code",
   "execution_count": null,
   "metadata": {
    "ExecuteTime": {
     "end_time": "2018-12-28T17:01:40.350663Z",
     "start_time": "2018-12-28T17:01:39.816471Z"
    }
   },
   "outputs": [],
   "source": [
    "v2sid = 'syn15667977'\n",
    "v2 = pd.read_csv(syn.get(v2sid).path, parse_dates=[\n",
    "    'end_date', 'enrollment_date'\n",
    "])\n",
    "\n",
    "v2 = v2.rename(columns={\n",
    "    'username':'participant_id',\n",
    "    'end_date':'dt_end',\n",
    "    'enrollment_date':'dt_enrollment'\n",
    "})\n",
    "\n",
    "v2.head()"
   ]
  },
  {
   "cell_type": "code",
   "execution_count": null,
   "metadata": {
    "ExecuteTime": {
     "end_time": "2018-12-28T17:01:40.383310Z",
     "start_time": "2018-12-28T17:01:40.358437Z"
    }
   },
   "outputs": [],
   "source": [
    "t = [print(c) for c in sorted(v2.columns)]"
   ]
  },
  {
   "cell_type": "code",
   "execution_count": null,
   "metadata": {
    "ExecuteTime": {
     "end_time": "2018-12-28T17:01:40.468675Z",
     "start_time": "2018-12-28T17:01:40.390956Z"
    }
   },
   "outputs": [],
   "source": [
    "# take the features to make public\n",
    "cols = [\n",
    "    'participant_id', 'dt_enrollment', 'dt_end', 'days_in_study',\n",
    "    'days_with_data', 'home_work_distance', 'hours_clustered', 'hours_with_data', \n",
    "    'mti_between_home_visits', 'mti_between_work_visits', 'n_clusters'\n",
    "]\n",
    "v2 = v2.reindex(columns=cols)\n",
    "\n",
    "# round and cast\n",
    "v2.days_in_study = [np.int16(i) if not pd.isnull(i) else np.nan for i in v2.days_in_study]\n",
    "v2.hours_clustered = np.around(v2.hours_clustered, 1)\n",
    "v2.home_work_distance = np.around(v2.home_work_distance, 1)\n",
    "v2.mti_between_home_visits = np.around(v2.mti_between_home_visits, 1)\n",
    "v2.mti_between_work_visits = np.around(v2.mti_between_work_visits, 1)\n",
    "v2.n_clusters = [np.int16(i) if not pd.isnull(i) else np.nan for i in v2.n_clusters]\n",
    "\n",
    "v2.head()"
   ]
  },
  {
   "cell_type": "markdown",
   "metadata": {},
   "source": [
    "### Reduce Timestamps to dates"
   ]
  },
  {
   "cell_type": "code",
   "execution_count": null,
   "metadata": {
    "ExecuteTime": {
     "end_time": "2018-12-28T17:02:51.357224Z",
     "start_time": "2018-12-28T17:02:51.339348Z"
    }
   },
   "outputs": [],
   "source": [
    "v2.dt_enrollment = v2.dt_enrollment.apply(lambda x: x.date())\n",
    "v2.dt_end = v2.dt_end.apply(lambda x: x.date())"
   ]
  },
  {
   "cell_type": "markdown",
   "metadata": {},
   "source": [
    "### Upload to Synapse"
   ]
  },
  {
   "cell_type": "code",
   "execution_count": null,
   "metadata": {
    "ExecuteTime": {
     "end_time": "2018-12-28T17:03:09.934310Z",
     "start_time": "2018-12-28T17:03:00.220037Z"
    }
   },
   "outputs": [],
   "source": [
    "results = syn.tableQuery('select * from syn17097503')\n",
    "a = syn.delete(results)"
   ]
  },
  {
   "cell_type": "code",
   "execution_count": null,
   "metadata": {
    "ExecuteTime": {
     "end_time": "2018-12-28T17:03:17.460775Z",
     "start_time": "2018-12-28T17:03:11.909633Z"
    },
    "code_folding": []
   },
   "outputs": [],
   "source": [
    "final = syn.store(Table(\n",
    "    Schema(\n",
    "            name='Passive GPS Features (v2)',\n",
    "            columns=as_table_columns(v2), \n",
    "            parent='syn10848316'),\n",
    "        v2\n",
    "    )\n",
    ")"
   ]
  },
  {
   "cell_type": "code",
   "execution_count": null,
   "metadata": {
    "ExecuteTime": {
     "end_time": "2018-12-28T17:03:18.224808Z",
     "start_time": "2018-12-28T17:03:17.681675Z"
    },
    "code_folding": []
   },
   "outputs": [],
   "source": [
    "final = syn.setProvenance(\n",
    "    'syn17097503',\n",
    "    activity=Activity(\n",
    "        name='Generate V2 Table Data',\n",
    "        description='Process the data collected during study ',\n",
    "        used=[v2sid],\n",
    "        executed=[\n",
    "            dict(\n",
    "                name='IPython Notebook',\n",
    "                url='https://github.com/apratap/BRIGHTEN-Data-Release/blob/master/Create_V2GPSPassiveAggregatedFeatures_datafiles.ipynb'\n",
    "            )\n",
    "        ]\n",
    "    )\n",
    ")"
   ]
  },
  {
   "cell_type": "markdown",
   "metadata": {},
   "source": [
    "### Make the data dictionary"
   ]
  },
  {
   "cell_type": "code",
   "execution_count": null,
   "metadata": {
    "ExecuteTime": {
     "end_time": "2018-12-20T17:09:06.658844Z",
     "start_time": "2018-12-20T17:09:06.645189Z"
    }
   },
   "outputs": [],
   "source": [
    "cheat = []\n",
    "headers = ['#', 'Variable Name', 'Data Type', 'Description']\n",
    "\n",
    "for c in v2.columns:\n",
    "    cheat.append((c, str(v2[c].dtype)\\\n",
    "          .replace('object', 'str')\\\n",
    "          .replace('float64', 'float')\\\n",
    "          .replace('int16', 'int')\\\n",
    "          .replace('int64', 'int')\\\n",
    "          .replace('datetime64[ns]', 'DateTime')\n",
    "     ))\n",
    "    \n",
    "descriptions = [\n",
    "    'Unique ID',                                                # participant id\n",
    "    'Date for when the participant enrolled in the study',      # dt_enrollment\n",
    "    'Last date of PHQ2 response',                               # dt_end\n",
    "    'Number of days between the end_date and enrollment_date',  # dt_end-dt_enrollment\n",
    "    'Number days with recorded GPS data',                       # days_in_study\n",
    "    'Distance in meters between the home and work clusters',    # home_work_distance\n",
    "    'Number of hours spent in a known cluster',                 # hours_spent_in_a_known_cluster\n",
    "    'Number of unique hours with GPS data present',             # \n",
    "    'Mean time interval between visits to the home cluster',    #\n",
    "    'Mean time interval between visits to the work cluster',    #\n",
    "    'Number of unique clusters identified'\n",
    "]\n",
    "\n",
    "cheat = pd.DataFrame(\n",
    "    cheat, \n",
    "    columns=headers[1:-1],\n",
    "    index=np.arange(1, len(cheat)+1)\n",
    ")\n",
    "\n",
    "cheat['Description'] = descriptions + ['' for i in range(len(descriptions), len(cheat))]\n",
    "\n",
    "print(tabulate(\n",
    "    cheat,\n",
    "    headers=headers,\n",
    "    tablefmt='orgtbl'\n",
    ").replace('+', '|'))"
   ]
  }
 ],
 "metadata": {
  "kernelspec": {
   "display_name": "Python [conda env:bright]",
   "language": "python",
   "name": "conda-env-bright-py"
  },
  "language_info": {
   "codemirror_mode": {
    "name": "ipython",
    "version": 3
   },
   "file_extension": ".py",
   "mimetype": "text/x-python",
   "name": "python",
   "nbconvert_exporter": "python",
   "pygments_lexer": "ipython3",
   "version": "3.6.6"
  },
  "varInspector": {
   "cols": {
    "lenName": 16,
    "lenType": 16,
    "lenVar": 40
   },
   "kernels_config": {
    "python": {
     "delete_cmd_postfix": "",
     "delete_cmd_prefix": "del ",
     "library": "var_list.py",
     "varRefreshCmd": "print(var_dic_list())"
    },
    "r": {
     "delete_cmd_postfix": ") ",
     "delete_cmd_prefix": "rm(",
     "library": "var_list.r",
     "varRefreshCmd": "cat(var_dic_list()) "
    }
   },
   "types_to_exclude": [
    "module",
    "function",
    "builtin_function_or_method",
    "instance",
    "_Feature"
   ],
   "window_display": false
  }
 },
 "nbformat": 4,
 "nbformat_minor": 2
}
