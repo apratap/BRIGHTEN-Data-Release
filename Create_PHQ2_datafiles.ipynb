{
 "cells": [
  {
   "cell_type": "markdown",
   "metadata": {},
   "source": [
    "# PHQ2 Final Data Prep"
   ]
  },
  {
   "cell_type": "code",
   "execution_count": null,
   "metadata": {
    "ExecuteTime": {
     "end_time": "2018-11-01T04:01:29.526816Z",
     "start_time": "2018-11-01T04:01:25.886397Z"
    }
   },
   "outputs": [],
   "source": [
    "import datetime as dt\n",
    "import pandas as pd\n",
    "\n",
    "from IPython.core.interactiveshell import InteractiveShell\n",
    "import synapseclient\n",
    "from synapseclient import Activity, Schema, Table, as_table_columns\n",
    "\n",
    "InteractiveShell.ast_node_interactivity = 'all'\n",
    "syn = synapseclient.Synapse()\n",
    "syn.login()"
   ]
  },
  {
   "cell_type": "markdown",
   "metadata": {},
   "source": [
    "### Get the data"
   ]
  },
  {
   "cell_type": "code",
   "execution_count": null,
   "metadata": {
    "ExecuteTime": {
     "end_time": "2018-11-01T04:01:32.324277Z",
     "start_time": "2018-11-01T04:01:29.529988Z"
    }
   },
   "outputs": [],
   "source": [
    "v1_raw_id, v2_raw_id = 'syn10250486', 'syn9974012'\n",
    "\n",
    "v1r = pd.read_excel(syn.get(v1_raw_id).path)\n",
    "v2r = pd.read_csv(syn.get(v2_raw_id).path, parse_dates=['createdAt'])\n",
    "\n",
    "v1r.head()\n",
    "v2r.head()"
   ]
  },
  {
   "cell_type": "markdown",
   "metadata": {},
   "source": [
    "| field         | data type | description                                                                                                                                                          |\n",
    "|---------------|-----------|----------------------------------------------------------------------------------------------------------------------------------------------------------------------|\n",
    "| particpant_id | str       |                                                                                                                                                                      |\n",
    "| dt_response  | DateTime  | A timestamp representing the time when the survey was completed. Timestamps are local to the survey location.                                                        |\n",
    "| dt_yesterday  | Date      | The date for which the mood of this survey represents                                                                                                                |\n",
    "| day_of_study  | int       | The number of days into the study the participant was when they completed this survey                                                                                |\n",
    "| q1_response   | int       | A response to \"Yesterday, where you feeling down, depressed, or hopeless?\" $\\in {1, 2, 3, 4, 5}$ as an ordinal level of intensity with 5 being the highest           |\n",
    "| q2_response   | int       | A response to \"Yesterday, did you have little interest or pleasure in doing things?\" $\\in {1, 2, 3, 4, 5}$ as an ordinal level of intensity with 5 being the highest |\n",
    "| qsum          | int       | q1_response + q2response                                                                                                                                             |"
   ]
  },
  {
   "cell_type": "markdown",
   "metadata": {},
   "source": [
    "### Process V1 data"
   ]
  },
  {
   "cell_type": "code",
   "execution_count": null,
   "metadata": {
    "ExecuteTime": {
     "end_time": "2018-11-01T04:01:32.980498Z",
     "start_time": "2018-11-01T04:01:32.327137Z"
    }
   },
   "outputs": [],
   "source": [
    "# drop the uneeded columns\n",
    "v1r = v1r.drop(columns=[\n",
    "    'sent_time_local', 'sent_time_utc', 'response_utc', 'response_id', 'user_id', 'start', 'phq2'\n",
    "]).rename(columns={\n",
    "    'brightenid': 'participant_id',\n",
    "    'Feeling down, depressed, or hopeless.': 'q1',\n",
    "    'Little interest or pleasure in doing things.': 'q2',\n",
    "})\n",
    "\n",
    "# add in yesterdays date\n",
    "def dx(x):\n",
    "    t = x-dt.timedelta(days=1)\n",
    "    return dt.date(year=t.year, month=t.month, day=t.day)\n",
    "\n",
    "v1r['dt_yesterday'] = v1r.response_local.apply(dx)\n",
    "\n",
    "# add qsum\n",
    "v1r['qsum'] = [t.q1+t.q2 for t in v1r.itertuples()]"
   ]
  },
  {
   "cell_type": "markdown",
   "metadata": {},
   "source": [
    "### Process V2 Data"
   ]
  },
  {
   "cell_type": "code",
   "execution_count": null,
   "metadata": {
    "ExecuteTime": {
     "end_time": "2018-11-01T04:01:33.088584Z",
     "start_time": "2018-11-01T04:01:32.982491Z"
    }
   },
   "outputs": [],
   "source": [
    "# rename some columns\n",
    "v2r = v2r.rename(columns={\n",
    "    'YESTERDAY, were you bothered by any of the following problems? Feeling down, depressed, or hopeless.':'q1',\n",
    "    'YESTERDAY, were you bothered by any of the following problems? Irritable or Anxious?':'q2',\n",
    "    'username':'participant_id',\n",
    "    'createdAt': 'response_local'\n",
    "})\n",
    "\n",
    "# add yesterdays date\n",
    "v2r['dt_yesterday'] = v2r.response_local.apply(dx)\n",
    "\n",
    "# add qsum\n",
    "v2r['qsum'] = [t.q1+t.q2 for t in v2r.itertuples()]"
   ]
  },
  {
   "cell_type": "markdown",
   "metadata": {},
   "source": [
    "### Combine the DataFrames"
   ]
  },
  {
   "cell_type": "code",
   "execution_count": null,
   "metadata": {
    "ExecuteTime": {
     "end_time": "2018-11-01T04:01:33.128696Z",
     "start_time": "2018-11-01T04:01:33.090461Z"
    }
   },
   "outputs": [],
   "source": [
    "combined = pd.concat([v1r, v2r], sort=False)\n",
    "combined = combined.loc[:,\n",
    "    ['participant_id', 'response_local', 'dt_yesterday', 'day', 'q1', 'q2', 'qsum']\n",
    "].rename(columns={'response_local':'dt_response'})\n",
    "combined.head()"
   ]
  },
  {
   "cell_type": "markdown",
   "metadata": {},
   "source": [
    "### Set provevance and upload to Synapse"
   ]
  },
  {
   "cell_type": "code",
   "execution_count": null,
   "metadata": {
    "ExecuteTime": {
     "end_time": "2018-11-01T04:12:39.976429Z",
     "start_time": "2018-11-01T04:12:24.255771Z"
    }
   },
   "outputs": [],
   "source": [
    "phq2_final = syn.store(Table(\n",
    "    Schema(\n",
    "            name='Daily PHQ2 Survey',\n",
    "            columns=as_table_columns(combined), \n",
    "            parent='syn10848316'),\n",
    "        combined\n",
    "    )\n",
    ")"
   ]
  },
  {
   "cell_type": "code",
   "execution_count": null,
   "metadata": {
    "ExecuteTime": {
     "end_time": "2018-11-01T04:10:46.669526Z",
     "start_time": "2018-11-01T04:10:44.649272Z"
    }
   },
   "outputs": [],
   "source": [
    "phq2_final = syn.setProvenance(\n",
    "    'syn17020587',\n",
    "    activity=Activity(\n",
    "        name='Combine V1 and V2 data',\n",
    "        description='Process and combine the data collected during study 1 and study 2',\n",
    "        used=[v1_raw_id, v2_raw_id],\n",
    "        executed=[\n",
    "            dict(\n",
    "                name='IPython Notebook',\n",
    "                url='https://github.com/apratap/BRIGHTEN-Data-Release/blob/master/Create_PHQ2_datafiles.ipynb'\n",
    "            )\n",
    "        ]\n",
    "    )\n",
    ")"
   ]
  }
 ],
 "metadata": {
  "kernelspec": {
   "display_name": "Python [conda env:bright]",
   "language": "python",
   "name": "conda-env-bright-py"
  },
  "language_info": {
   "codemirror_mode": {
    "name": "ipython",
    "version": 3
   },
   "file_extension": ".py",
   "mimetype": "text/x-python",
   "name": "python",
   "nbconvert_exporter": "python",
   "pygments_lexer": "ipython3",
   "version": "3.6.6"
  }
 },
 "nbformat": 4,
 "nbformat_minor": 2
}
