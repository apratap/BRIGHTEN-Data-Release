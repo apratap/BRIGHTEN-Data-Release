{
 "cells": [
  {
   "cell_type": "code",
   "execution_count": null,
   "metadata": {
    "ExecuteTime": {
     "end_time": "2018-11-13T23:36:55.699909Z",
     "start_time": "2018-11-13T23:36:51.567650Z"
    }
   },
   "outputs": [],
   "source": [
    "%matplotlib inline\n",
    "\n",
    "from IPython.core.interactiveshell import InteractiveShell\n",
    "import matplotlib.pyplot as plt\n",
    "import numpy as np\n",
    "import pandas as pd\n",
    "import synapseclient\n",
    "\n",
    "InteractiveShell.ast_node_interactivity = 'all'\n",
    "\n",
    "syn = synapseclient.Synapse()\n",
    "syn.login()"
   ]
  },
  {
   "cell_type": "code",
   "execution_count": null,
   "metadata": {
    "ExecuteTime": {
     "end_time": "2018-11-13T23:39:17.882573Z",
     "start_time": "2018-11-13T23:39:17.213569Z"
    }
   },
   "outputs": [],
   "source": [
    "df = syn.tableQuery('select * from syn17023349').asDataFrame()\n",
    "df.head()"
   ]
  },
  {
   "cell_type": "code",
   "execution_count": null,
   "metadata": {
    "ExecuteTime": {
     "end_time": "2018-11-13T23:39:19.081236Z",
     "start_time": "2018-11-13T23:39:19.071231Z"
    }
   },
   "outputs": [],
   "source": [
    "# remove all rows outside of the US\n",
    "a = len(df)\n",
    "\n",
    "df = df.loc[df.country == 'United States']\n",
    "print(f'{np.round(len(df)/a*100, 1)}% of the data remains')"
   ]
  },
  {
   "cell_type": "markdown",
   "metadata": {},
   "source": [
    "All states are represented but California has a significant majority with nearly 25% of respondents. I'm surprised to see Washington isn't near the top of the list."
   ]
  },
  {
   "cell_type": "code",
   "execution_count": null,
   "metadata": {
    "ExecuteTime": {
     "end_time": "2018-11-13T23:46:51.839820Z",
     "start_time": "2018-11-13T23:46:51.828822Z"
    }
   },
   "outputs": [],
   "source": [
    "len(pd.unique(df.state))\n",
    "df.state.value_counts(normalize=True).head()"
   ]
  },
  {
   "cell_type": "markdown",
   "metadata": {},
   "source": [
    "The data has a strong bias towards female participants; roughly 74% are female."
   ]
  },
  {
   "cell_type": "code",
   "execution_count": null,
   "metadata": {
    "ExecuteTime": {
     "end_time": "2018-11-13T23:40:32.601195Z",
     "start_time": "2018-11-13T23:40:32.574198Z"
    }
   },
   "outputs": [],
   "source": [
    "df.gender.value_counts(normalize=True)"
   ]
  },
  {
   "cell_type": "markdown",
   "metadata": {},
   "source": [
    "Verify that all zipcodes only contain the first three digits."
   ]
  },
  {
   "cell_type": "code",
   "execution_count": null,
   "metadata": {
    "ExecuteTime": {
     "end_time": "2018-11-13T23:50:10.725998Z",
     "start_time": "2018-11-13T23:50:10.709007Z"
    }
   },
   "outputs": [],
   "source": [
    "df.zipcode.apply(lambda x: len(str(x))).describe()"
   ]
  },
  {
   "cell_type": "code",
   "execution_count": null,
   "metadata": {
    "ExecuteTime": {
     "end_time": "2018-11-13T23:50:56.019980Z",
     "start_time": "2018-11-13T23:50:56.013016Z"
    }
   },
   "outputs": [],
   "source": [
    "df.education.value_counts()"
   ]
  },
  {
   "cell_type": "markdown",
   "metadata": {},
   "source": [
    "A surprising amount of users don't have jobs (~32%). Lets include this in the cluster logic."
   ]
  },
  {
   "cell_type": "code",
   "execution_count": null,
   "metadata": {
    "ExecuteTime": {
     "end_time": "2018-11-14T00:16:29.383650Z",
     "start_time": "2018-11-14T00:16:29.369654Z"
    }
   },
   "outputs": [],
   "source": [
    "df.working.value_counts(normalize=True)\n",
    "sum(pd.isnull(df.participant_id))/len(df)"
   ]
  },
  {
   "cell_type": "code",
   "execution_count": null,
   "metadata": {
    "ExecuteTime": {
     "end_time": "2018-11-14T00:17:47.194975Z",
     "start_time": "2018-11-14T00:17:47.186977Z"
    }
   },
   "outputs": [],
   "source": [
    "df.income_satisfaction.value_counts()"
   ]
  },
  {
   "cell_type": "code",
   "execution_count": null,
   "metadata": {
    "ExecuteTime": {
     "end_time": "2018-11-14T00:21:25.207817Z",
     "start_time": "2018-11-14T00:21:25.201809Z"
    }
   },
   "outputs": [],
   "source": [
    "len(df.loc[(df.income_satisfaction == 'Am comfortable') & (df.working == 'No')])"
   ]
  },
  {
   "cell_type": "markdown",
   "metadata": {},
   "source": [
    "96 people who don't have jobs say they're comfortable with their current income. How are they living?"
   ]
  },
  {
   "cell_type": "code",
   "execution_count": null,
   "metadata": {
    "ExecuteTime": {
     "end_time": "2018-11-14T00:22:29.378600Z",
     "start_time": "2018-11-14T00:22:29.368629Z"
    }
   },
   "outputs": [],
   "source": [
    "df.income_lastyear.value_counts()"
   ]
  },
  {
   "cell_type": "markdown",
   "metadata": {},
   "source": [
    "Over half of participants are single/never been married."
   ]
  },
  {
   "cell_type": "code",
   "execution_count": null,
   "metadata": {
    "ExecuteTime": {
     "end_time": "2018-11-14T00:28:04.207255Z",
     "start_time": "2018-11-14T00:28:04.196290Z"
    }
   },
   "outputs": [],
   "source": [
    "df.marital_status.value_counts(normalize=True)"
   ]
  },
  {
   "cell_type": "code",
   "execution_count": null,
   "metadata": {
    "ExecuteTime": {
     "end_time": "2018-11-14T00:32:11.306602Z",
     "start_time": "2018-11-14T00:32:11.294602Z"
    }
   },
   "outputs": [],
   "source": [
    "df.race.value_counts(normalize=True)\n",
    "', '.join(sorted([f'_{r}_' for r in pd.unique(df.race)]))"
   ]
  },
  {
   "cell_type": "markdown",
   "metadata": {},
   "source": [
    "Participants are mostly in their early twenties but range up to early eighties."
   ]
  },
  {
   "cell_type": "code",
   "execution_count": null,
   "metadata": {
    "ExecuteTime": {
     "end_time": "2018-11-14T00:36:46.368475Z",
     "start_time": "2018-11-14T00:36:46.162475Z"
    }
   },
   "outputs": [],
   "source": [
    "df.loc[df.age < 150].age.hist(bins=15)"
   ]
  },
  {
   "cell_type": "code",
   "execution_count": null,
   "metadata": {
    "ExecuteTime": {
     "end_time": "2018-11-14T00:38:54.622591Z",
     "start_time": "2018-11-14T00:38:54.609593Z"
    }
   },
   "outputs": [],
   "source": [
    "df.heard_about_us.value_counts()\n",
    "', '.join(sorted([f'_{r}_' for r in pd.unique(df.heard_about_us)]))"
   ]
  },
  {
   "cell_type": "markdown",
   "metadata": {},
   "source": [
    "Awkward participant affinity toward the IPhone ~ 63%"
   ]
  },
  {
   "cell_type": "code",
   "execution_count": null,
   "metadata": {
    "ExecuteTime": {
     "end_time": "2018-11-14T00:41:22.063198Z",
     "start_time": "2018-11-14T00:41:22.055193Z"
    }
   },
   "outputs": [],
   "source": [
    "df.device.value_counts(normalize=True)"
   ]
  },
  {
   "cell_type": "markdown",
   "metadata": {},
   "source": [
    "Looks like there were two major recruitment cycles"
   ]
  },
  {
   "cell_type": "code",
   "execution_count": null,
   "metadata": {
    "ExecuteTime": {
     "end_time": "2018-11-14T00:47:18.854013Z",
     "start_time": "2018-11-14T00:47:18.580978Z"
    }
   },
   "outputs": [],
   "source": [
    "df.startdate = pd.to_datetime(df.startdate)\n",
    "x = np.min(df.startdate)\n",
    "\n",
    "df.startdate.apply(lambda t: (t-x).total_seconds()).hist()"
   ]
  },
  {
   "cell_type": "code",
   "execution_count": null,
   "metadata": {
    "ExecuteTime": {
     "end_time": "2018-11-14T00:50:14.799670Z",
     "start_time": "2018-11-14T00:50:14.787668Z"
    }
   },
   "outputs": [],
   "source": [
    "df.status.value_counts(normalize=True)\n",
    "', '.join(sorted([f'_{r}_' for r in pd.unique(df.status)]))"
   ]
  },
  {
   "cell_type": "code",
   "execution_count": null,
   "metadata": {
    "ExecuteTime": {
     "end_time": "2018-11-14T00:51:36.035294Z",
     "start_time": "2018-11-14T00:51:36.025289Z"
    }
   },
   "outputs": [],
   "source": [
    "df.study_arm.value_counts()\n",
    "', '.join(sorted([f'_{r}_' for r in pd.unique(df.study_arm)]))"
   ]
  },
  {
   "cell_type": "code",
   "execution_count": null,
   "metadata": {
    "ExecuteTime": {
     "end_time": "2018-11-14T00:52:44.877716Z",
     "start_time": "2018-11-14T00:52:44.865707Z"
    }
   },
   "outputs": [],
   "source": [
    "df.study.value_counts(normalize=True)"
   ]
  }
 ],
 "metadata": {
  "kernelspec": {
   "display_name": "Python [conda env:bright]",
   "language": "python",
   "name": "conda-env-bright-py"
  },
  "language_info": {
   "codemirror_mode": {
    "name": "ipython",
    "version": 3
   },
   "file_extension": ".py",
   "mimetype": "text/x-python",
   "name": "python",
   "nbconvert_exporter": "python",
   "pygments_lexer": "ipython3",
   "version": "3.6.6"
  },
  "varInspector": {
   "cols": {
    "lenName": 16,
    "lenType": 16,
    "lenVar": 40
   },
   "kernels_config": {
    "python": {
     "delete_cmd_postfix": "",
     "delete_cmd_prefix": "del ",
     "library": "var_list.py",
     "varRefreshCmd": "print(var_dic_list())"
    },
    "r": {
     "delete_cmd_postfix": ") ",
     "delete_cmd_prefix": "rm(",
     "library": "var_list.r",
     "varRefreshCmd": "cat(var_dic_list()) "
    }
   },
   "types_to_exclude": [
    "module",
    "function",
    "builtin_function_or_method",
    "instance",
    "_Feature"
   ],
   "window_display": false
  }
 },
 "nbformat": 4,
 "nbformat_minor": 2
}
