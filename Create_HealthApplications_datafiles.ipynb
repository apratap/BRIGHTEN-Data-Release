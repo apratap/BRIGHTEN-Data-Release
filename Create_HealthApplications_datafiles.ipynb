{
 "cells": [
  {
   "cell_type": "markdown",
   "metadata": {},
   "source": [
    "# Applications Final Data Prep"
   ]
  },
  {
   "cell_type": "code",
   "execution_count": null,
   "metadata": {
    "ExecuteTime": {
     "end_time": "2018-12-27T00:43:52.756909Z",
     "start_time": "2018-12-27T00:43:49.259608Z"
    }
   },
   "outputs": [],
   "source": [
    "%matplotlib inline\n",
    "\n",
    "import datetime as dt\n",
    "import itertools as it\n",
    "import numpy as np\n",
    "import pandas as pd\n",
    "\n",
    "import matplotlib.pyplot as plt\n",
    "from IPython.core.interactiveshell import InteractiveShell\n",
    "import synapseclient\n",
    "from synapseclient import Activity, File, Schema, Table, as_table_columns\n",
    "from tqdm import tqdm\n",
    "\n",
    "InteractiveShell.ast_node_interactivity = 'all'\n",
    "syn = synapseclient.Synapse()\n",
    "syn.login()\n",
    "\n",
    "tqdm.pandas()\n",
    "\n",
    "def isnum(x):\n",
    "    if x is None:\n",
    "        return False\n",
    "    try:\n",
    "        float(x)\n",
    "        return True\n",
    "    except ValueError:\n",
    "        return False"
   ]
  },
  {
   "cell_type": "code",
   "execution_count": null,
   "metadata": {
    "ExecuteTime": {
     "end_time": "2018-12-27T00:43:53.445782Z",
     "start_time": "2018-12-27T00:43:52.759673Z"
    }
   },
   "outputs": [],
   "source": [
    "v1sid, v2sid = 'syn10250489', 'syn17023091'\n",
    "\n",
    "v1r = pd.read_excel(syn.get(v1sid).path)\n",
    "v2r = pd.read_csv(syn.get(v2sid).path, parse_dates=['createdAt'])\n",
    "\n",
    "v1r.head()\n",
    "v2r.head()"
   ]
  },
  {
   "cell_type": "markdown",
   "metadata": {},
   "source": [
    "### V1 Data Prep"
   ]
  },
  {
   "cell_type": "code",
   "execution_count": null,
   "metadata": {
    "ExecuteTime": {
     "end_time": "2018-12-27T00:43:53.544017Z",
     "start_time": "2018-12-27T00:43:53.448424Z"
    }
   },
   "outputs": [],
   "source": [
    "# drop the uneeded columns\n",
    "v1 = v1r.drop(columns=[\n",
    "    'week',\t'user_id',\t'sent_time_local',\t'sent_time_utc', 'response_utc', 'response_id'\n",
    "]).rename(columns={\n",
    "    'brightenid': 'participant_id',\n",
    "    'response_local':'dt_response',\n",
    "    'Why did you download this app?':'apps',\n",
    "    'For \"other\", please type in box':'other_description'\n",
    "})\n",
    "\n",
    "# conver to lowercase for lookups\n",
    "v1.apps = v1.apps.apply(lambda x: x.lower() if not isnum(x) else 'none')\n",
    "\n",
    "# add indicators for different app usage\n",
    "v1['fun'] = v1.apps.apply(lambda x: int(x.find('fun') > -1))\n",
    "v1['mental_health'] =  v1.apps.apply(lambda x: int(x.find('mental health') > -1))\n",
    "v1['mood'] =  v1.apps.apply(lambda x: int(x.find('mood') > -1))\n",
    "v1['managing_daily_issues'] =  v1.apps.apply(lambda x: int(x.find('management of daily ') > -1))\n",
    "v1['improve_work'] =  v1.apps.apply(lambda x: int(x.find('improve work') > -1))\n",
    "v1['brain_health'] =  v1.apps.apply(lambda x: int(x.find('brain health') > -1))\n",
    "v1['improve_relationships'] =  v1.apps.apply(lambda x: int(x.find('improve relationships') > -1))\n",
    "v1['other'] =  v1.apps.apply(lambda x: int(x.find('other') > -1))\n",
    "\n",
    "v1.head()"
   ]
  },
  {
   "cell_type": "code",
   "execution_count": null,
   "metadata": {
    "ExecuteTime": {
     "end_time": "2018-12-27T00:43:53.565566Z",
     "start_time": "2018-12-27T00:43:53.547115Z"
    }
   },
   "outputs": [],
   "source": [
    "# print the unique application reasons\n",
    "t = [print(a) for a in pd.unique(list(it.chain(*[t.split('|') for t in v1.apps])))]; del t"
   ]
  },
  {
   "cell_type": "code",
   "execution_count": null,
   "metadata": {
    "ExecuteTime": {
     "end_time": "2018-12-27T00:43:53.851227Z",
     "start_time": "2018-12-27T00:43:53.569354Z"
    }
   },
   "outputs": [],
   "source": [
    "plt.hist([len(a) for a in v1.other_description if not isnum(a)])"
   ]
  },
  {
   "cell_type": "code",
   "execution_count": null,
   "metadata": {
    "ExecuteTime": {
     "end_time": "2018-12-27T00:43:54.178761Z",
     "start_time": "2018-12-27T00:43:53.861342Z"
    }
   },
   "outputs": [],
   "source": [
    "v1['day'] = [(t.dt_response - t.start).days + 1 for t in v1.itertuples()]\n",
    "v1.day.hist()"
   ]
  },
  {
   "cell_type": "markdown",
   "metadata": {},
   "source": [
    "#### Extract two common topics I saw a quick read through the other descriptions"
   ]
  },
  {
   "cell_type": "code",
   "execution_count": null,
   "metadata": {
    "ExecuteTime": {
     "end_time": "2018-12-27T00:43:54.188558Z",
     "start_time": "2018-12-27T00:43:54.181215Z"
    },
    "scrolled": false
   },
   "outputs": [],
   "source": [
    "incentive_words = [\n",
    "    'paid', 'pay', 'mone', 'compens', 'gift', 'incentive', '$', 'finan', 'incom', 'reimb', 'craigs', 'pd'\n",
    "]\n",
    "\n",
    "def is_incentive(s):\n",
    "    if not isinstance(s, str):\n",
    "        return 0\n",
    "    else:\n",
    "        return int(any(s.find(a) > -1 for a in incentive_words))\n",
    "    \n",
    "v1['happ_inc'] = pd.to_numeric(v1.other_description.apply(is_incentive), downcast='integer')"
   ]
  },
  {
   "cell_type": "code",
   "execution_count": null,
   "metadata": {
    "ExecuteTime": {
     "end_time": "2018-12-27T00:43:54.226644Z",
     "start_time": "2018-12-27T00:43:54.190842Z"
    }
   },
   "outputs": [],
   "source": [
    "for_the_study_words = [\n",
    "    'part', 'require', 'for study', 'told to', 'asked to', 'request', 'to be', 'to do', 'brighten', 'assignment', 'ucsf', 'for a', 'study'\n",
    "]\n",
    "\n",
    "def is_for_the_study(s):\n",
    "    if not isinstance(s, str):\n",
    "        return int(0)\n",
    "    else:\n",
    "        return int(any(s.find(a) > -1 for a in for_the_study_words))\n",
    "    \n",
    "v1['happ_fts'] = v1.other_description.apply(is_for_the_study)"
   ]
  },
  {
   "cell_type": "code",
   "execution_count": null,
   "metadata": {
    "ExecuteTime": {
     "end_time": "2018-12-27T00:43:54.256933Z",
     "start_time": "2018-12-27T00:43:54.228700Z"
    }
   },
   "outputs": [],
   "source": [
    "v1 = v1.drop(columns=['start', 'day'])"
   ]
  },
  {
   "cell_type": "markdown",
   "metadata": {},
   "source": [
    "### V2 Data Prep"
   ]
  },
  {
   "cell_type": "code",
   "execution_count": null,
   "metadata": {
    "ExecuteTime": {
     "end_time": "2018-12-27T00:43:54.300304Z",
     "start_time": "2018-12-27T00:43:54.258976Z"
    }
   },
   "outputs": [],
   "source": [
    "# drop the uneeded columns\n",
    "v2 = v2r.rename(columns={\n",
    "    'username': 'participant_id',\n",
    "    'createdAt':'dt_response',\n",
    "    'Why did you download this app?':'apps'\n",
    "})\n",
    "\n",
    "# conver to lowercase for lookups\n",
    "v2.apps = v2.apps.apply(lambda x: x.lower() if not isnum(x) else 'none')\n",
    "\n",
    "# add indicators for different app usage\n",
    "v2['fun'] = v2.apps.apply(lambda x: int(x.find('fun') > -1))\n",
    "v2['mental_health'] =  v2.apps.apply(lambda x: int(x.find('my mental health') > -1))\n",
    "v2['mood'] =  v2.apps.apply(lambda x: int(x.find('my mood') > -1))\n",
    "v2['managing_daily_issues'] =  v2.apps.apply(lambda x: int(x.find('managing daily issues') > -1))\n",
    "v2['improve_work'] =  v2.apps.apply(lambda x: int(x.find('improve work') > -1))\n",
    "v2['brain_health'] =  v2.apps.apply(lambda x: int(x.find('brain health') > -1))\n",
    "v2['improve_relationships'] =  v2.apps.apply(lambda x: int(x.find('improve relationships') > -1))\n",
    "v2['other'] =  v2.apps.apply(lambda x: int(x.find('other') > -1))\n",
    "\n",
    "# add the study flag\n",
    "v2.head()"
   ]
  },
  {
   "cell_type": "code",
   "execution_count": null,
   "metadata": {
    "ExecuteTime": {
     "end_time": "2018-12-27T00:43:54.330659Z",
     "start_time": "2018-12-27T00:43:54.301937Z"
    }
   },
   "outputs": [],
   "source": [
    "t = [print(a) for a in pd.unique(list(it.chain(*[t.split(',') for t in v2.apps])))]; del t"
   ]
  },
  {
   "cell_type": "markdown",
   "metadata": {},
   "source": [
    "### Combine the DataFrames"
   ]
  },
  {
   "cell_type": "code",
   "execution_count": null,
   "metadata": {
    "ExecuteTime": {
     "end_time": "2018-12-27T00:43:54.379308Z",
     "start_time": "2018-12-27T00:43:54.334038Z"
    }
   },
   "outputs": [],
   "source": [
    "combined = pd.concat([v1, v2], sort=False)\n",
    "\n",
    "combined = combined.drop(columns=['apps']).rename(columns={\n",
    "    'brain_health': 'happ_bh',\n",
    "    'fun': 'happ_f',\n",
    "    'improve_relationships': 'happ_ir',\n",
    "    'improve_work': 'happ_iw',\n",
    "    'managing_daily_issues': 'happ_mdi',\n",
    "    'mental_health': 'happ_mh',\n",
    "    'mood':'happ_m',\n",
    "    'other': 'happ_o',\n",
    "    'other_description':'happ_o_description'\n",
    "}).loc[:, [\n",
    "    'participant_id', 'dt_response', \n",
    "    'happ_bh', 'happ_f', 'happ_fts', 'happ_inc', 'happ_ir', 'happ_iw', 'happ_m', 'happ_mdi', 'happ_mh', 'happ_o',\n",
    "    'happ_o_description'\n",
    "]]\n",
    "\n",
    "combined = combined.fillna(0)\n",
    "\n",
    "# make sure they're all the correct type. for some reason pandas was converting fts and inc to floats\n",
    "# but we don't need that many bits. plus i like consistency\n",
    "for c in combined.columns:\n",
    "    if c.find('description') > -1:\n",
    "        continue \n",
    "        \n",
    "    if c.find('app') > -1:\n",
    "        combined[c] = combined[c].astype(int)\n",
    "\n",
    "combined.head()"
   ]
  },
  {
   "cell_type": "markdown",
   "metadata": {},
   "source": [
    "### Add week into study"
   ]
  },
  {
   "cell_type": "code",
   "execution_count": null,
   "metadata": {
    "ExecuteTime": {
     "end_time": "2018-12-27T00:43:54.970797Z",
     "start_time": "2018-12-27T00:43:54.382395Z"
    }
   },
   "outputs": [],
   "source": [
    "metasid = 'syn17023349'\n",
    "metadata = syn.tableQuery(f'SELECT participant_id, startdate FROM {metasid}').asDataFrame(convert_to_datetime=True)\n",
    "metadata.startdate = pd.to_datetime(metadata.startdate)\n",
    "\n",
    "# add in the participants start date as a new column\n",
    "combined = pd.merge(combined, metadata, on='participant_id', how='left')\n",
    "\n",
    "# get the time difference in weeks as a float\n",
    "combined['week'] = [\n",
    "    d.days/7 for d in (\n",
    "        combined.dt_response.apply(\n",
    "            lambda x: dt.datetime(year=x.year, month=x.month, day=x.day))-combined.startdate\n",
    "    )\n",
    "]\n",
    "\n",
    "# convert the week number to an int by taking the floor\n",
    "combined.week = combined.week.progress_apply(lambda x: np.int16(np.floor(x))+1)# if not pd.isnull(x) else np.nan)\n",
    "\n",
    "# remove the start date\n",
    "combined = combined.drop(columns=['startdate'], errors='ignore')\n",
    "\n",
    "# reorder the columns\n",
    "cols = list(combined.columns)\n",
    "cols = cols[0:2] + ['week'] + cols[2:-1]\n",
    "combined = combined.reindex(columns=cols)\n",
    "\n",
    "combined.head()"
   ]
  },
  {
   "cell_type": "markdown",
   "metadata": {},
   "source": [
    "### Set provenance and upload to Synapse"
   ]
  },
  {
   "cell_type": "code",
   "execution_count": null,
   "metadata": {
    "ExecuteTime": {
     "end_time": "2018-12-27T00:53:57.322487Z",
     "start_time": "2018-12-27T00:53:42.138264Z"
    }
   },
   "outputs": [],
   "source": [
    "t = syn.delete(\n",
    "    syn.tableQuery('select * from syn17022426')\n",
    ")"
   ]
  },
  {
   "cell_type": "code",
   "execution_count": null,
   "metadata": {
    "ExecuteTime": {
     "end_time": "2018-12-27T00:54:07.682062Z",
     "start_time": "2018-12-27T00:53:57.324804Z"
    }
   },
   "outputs": [],
   "source": [
    "final = syn.store(Table(\n",
    "    Schema(\n",
    "            name='Health Applications',\n",
    "            columns=as_table_columns(combined), \n",
    "            parent='syn10848316'),\n",
    "        combined\n",
    "    )\n",
    ")"
   ]
  },
  {
   "cell_type": "code",
   "execution_count": null,
   "metadata": {
    "ExecuteTime": {
     "end_time": "2018-12-27T00:54:08.163298Z",
     "start_time": "2018-12-27T00:54:07.683543Z"
    }
   },
   "outputs": [],
   "source": [
    "final = syn.setProvenance(\n",
    "    'syn17022426',\n",
    "    activity=Activity(\n",
    "        name='Combine V1 and V2 data',\n",
    "        description='Process and combine the data collected during study 1 and study 2',\n",
    "        used=['syn17023091', v1sid, v2sid, 'syn12181332', metasid],\n",
    "        executed=[\n",
    "            dict(\n",
    "                name='IPython Notebook',\n",
    "                url='https://github.com/apratap/BRIGHTEN-Data-Release/blob/master/Create_HealthApplications_datafiles.ipynb'\n",
    "            )\n",
    "        ]\n",
    "    )\n",
    ")"
   ]
  }
 ],
 "metadata": {
  "kernelspec": {
   "display_name": "Python [conda env:bright]",
   "language": "python",
   "name": "conda-env-bright-py"
  },
  "language_info": {
   "codemirror_mode": {
    "name": "ipython",
    "version": 3
   },
   "file_extension": ".py",
   "mimetype": "text/x-python",
   "name": "python",
   "nbconvert_exporter": "python",
   "pygments_lexer": "ipython3",
   "version": "3.6.6"
  },
  "varInspector": {
   "cols": {
    "lenName": 16,
    "lenType": 16,
    "lenVar": 40
   },
   "kernels_config": {
    "python": {
     "delete_cmd_postfix": "",
     "delete_cmd_prefix": "del ",
     "library": "var_list.py",
     "varRefreshCmd": "print(var_dic_list())"
    },
    "r": {
     "delete_cmd_postfix": ") ",
     "delete_cmd_prefix": "rm(",
     "library": "var_list.r",
     "varRefreshCmd": "cat(var_dic_list()) "
    }
   },
   "types_to_exclude": [
    "module",
    "function",
    "builtin_function_or_method",
    "instance",
    "_Feature"
   ],
   "window_display": false
  }
 },
 "nbformat": 4,
 "nbformat_minor": 2
}
