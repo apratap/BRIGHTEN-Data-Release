{
 "cells": [
  {
   "cell_type": "markdown",
   "metadata": {},
   "source": [
    "# Applications Final Data Prep"
   ]
  },
  {
   "cell_type": "code",
   "execution_count": 1,
   "metadata": {
    "ExecuteTime": {
     "end_time": "2018-11-02T20:26:08.845696Z",
     "start_time": "2018-11-02T20:26:08.443733Z"
    }
   },
   "outputs": [],
   "source": [
    "%matplotlib inline"
   ]
  },
  {
   "cell_type": "code",
   "execution_count": null,
   "metadata": {
    "ExecuteTime": {
     "end_time": "2018-11-02T20:26:13.155343Z",
     "start_time": "2018-11-02T20:26:08.848695Z"
    }
   },
   "outputs": [],
   "source": [
    "import datetime as dt\n",
    "import itertools\n",
    "import pandas as pd\n",
    "\n",
    "import matplotlib.pyplot as plt\n",
    "from IPython.core.interactiveshell import InteractiveShell\n",
    "import synapseclient\n",
    "from synapseclient import Activity, Schema, Table, as_table_columns\n",
    "\n",
    "InteractiveShell.ast_node_interactivity = 'all'\n",
    "syn = synapseclient.Synapse()\n",
    "syn.login()\n",
    "\n",
    "def isnum(x):\n",
    "    if x is None:\n",
    "        return False\n",
    "    try:\n",
    "        float(x)\n",
    "        return True\n",
    "    except ValueError:\n",
    "        return False"
   ]
  },
  {
   "cell_type": "code",
   "execution_count": null,
   "metadata": {
    "ExecuteTime": {
     "end_time": "2018-11-02T20:26:13.973333Z",
     "start_time": "2018-11-02T20:26:13.158338Z"
    }
   },
   "outputs": [],
   "source": [
    "v1sid, v2sid = 'syn10250489', 'syn9974014'\n",
    "\n",
    "v1r = pd.read_excel(syn.get(v1sid).path)\n",
    "v2r = pd.read_csv(syn.get(v2sid).path, parse_dates=['createdAt'])\n",
    "\n",
    "v1r.head()\n",
    "v2r.head()"
   ]
  },
  {
   "cell_type": "markdown",
   "metadata": {},
   "source": [
    "### V1 Data Prep"
   ]
  },
  {
   "cell_type": "code",
   "execution_count": null,
   "metadata": {
    "ExecuteTime": {
     "end_time": "2018-11-02T20:26:14.055331Z",
     "start_time": "2018-11-02T20:26:13.975334Z"
    }
   },
   "outputs": [],
   "source": [
    "# drop the uneeded columns\n",
    "v1 = v1r.drop(columns=[\n",
    "    'week',\t'user_id',\t'sent_time_local',\t'sent_time_utc', 'response_utc', 'response_id'\n",
    "]).rename(columns={\n",
    "    'brightenid': 'participant_id',\n",
    "    'response_local':'dt_response',\n",
    "    'Why did you download this app?':'apps',\n",
    "    'For \"other\", please type in box':'other_description'\n",
    "})\n",
    "\n",
    "# conver to lowercase for lookups\n",
    "v1.apps = v1.apps.apply(lambda x: x.lower() if not isnum(x) else 'none')\n",
    "\n",
    "# print the unique application reasons\n",
    "t = [print(a) for a in pd.unique(list(itertools.chain(*[t.split('|') for t in v1.apps])))]; del t\n",
    "\n",
    "# add indicators for different app usage\n",
    "v1['fun'] = v1.apps.apply(lambda x: int(x.find('fun') > -1))\n",
    "v1['mental_health'] =  v1.apps.apply(lambda x: int(x.find('mental health') > -1))\n",
    "v1['mood'] =  v1.apps.apply(lambda x: int(x.find('mood') > -1))\n",
    "v1['managing_daily_issues'] =  v1.apps.apply(lambda x: int(x.find('management of daily ') > -1))\n",
    "v1['improve_work'] =  v1.apps.apply(lambda x: int(x.find('improve work') > -1))\n",
    "v1['brain_health'] =  v1.apps.apply(lambda x: int(x.find('brain health') > -1))\n",
    "v1['improve_relationships'] =  v1.apps.apply(lambda x: int(x.find('improve relationships') > -1))\n",
    "v1['other'] =  v1.apps.apply(lambda x: int(x.find('other') > -1))\n",
    "\n",
    "v1.head()"
   ]
  },
  {
   "cell_type": "code",
   "execution_count": 5,
   "metadata": {
    "ExecuteTime": {
     "end_time": "2018-11-02T20:26:14.384368Z",
     "start_time": "2018-11-02T20:26:14.059334Z"
    }
   },
   "outputs": [
    {
     "data": {
      "text/plain": [
       "<matplotlib.axes._subplots.AxesSubplot at 0x234d6589400>"
      ]
     },
     "execution_count": 5,
     "metadata": {},
     "output_type": "execute_result"
    },
    {
     "data": {
      "image/png": "[encoded data removed]",
      "text/plain": [
       "<Figure size 432x288 with 1 Axes>"
      ]
     },
     "metadata": {
      "needs_background": "light"
     },
     "output_type": "display_data"
    }
   ],
   "source": [
    "v1['day'] = [(t.dt_response - t.start).days + 1 for t in v1.itertuples()]\n",
    "v1.day.hist()"
   ]
  },
  {
   "cell_type": "markdown",
   "metadata": {},
   "source": [
    "There are four very clear modes of this histogram that reflect the times within the study that this survey was distributed. I create a feature to easily identify the time. They are $$\\in { 1, 2, 3, 4 }$$ where 1 is in the initial survey distribution."
   ]
  },
  {
   "cell_type": "code",
   "execution_count": null,
   "metadata": {
    "ExecuteTime": {
     "end_time": "2018-11-02T20:26:14.406366Z",
     "start_time": "2018-11-02T20:26:14.385336Z"
    }
   },
   "outputs": [],
   "source": [
    "def binnd(x):\n",
    "    if x <= 14:\n",
    "        return 1\n",
    "    elif 14 < x <= 40:\n",
    "        return 2\n",
    "    elif 40 < x <= 75:\n",
    "        return 3\n",
    "    else:\n",
    "        return 4\n",
    "\n",
    "v1['survey_phase'] = v1.day.apply(binnd)\n",
    "v1.head()"
   ]
  },
  {
   "cell_type": "markdown",
   "metadata": {},
   "source": [
    "#### Extract two common topics I saw a quick read through the other descriptions"
   ]
  },
  {
   "cell_type": "code",
   "execution_count": 7,
   "metadata": {
    "ExecuteTime": {
     "end_time": "2018-11-02T20:26:14.431377Z",
     "start_time": "2018-11-02T20:26:14.408330Z"
    },
    "scrolled": false
   },
   "outputs": [],
   "source": [
    "incentive_words = [\n",
    "    'paid', 'pay', 'mone', 'compens', 'gift', 'incentive', '$', 'finan', 'incom', 'reimb', 'craigs', 'pd'\n",
    "]\n",
    "\n",
    "def is_incentive(s):\n",
    "    if not isinstance(s, str):\n",
    "        return 0\n",
    "    else:\n",
    "        return int(any(s.find(a) > -1 for a in incentive_words))\n",
    "    \n",
    "v1['app_inc'] = pd.to_numeric(v1.other_description.apply(is_incentive), downcast='integer')"
   ]
  },
  {
   "cell_type": "code",
   "execution_count": 18,
   "metadata": {
    "ExecuteTime": {
     "end_time": "2018-11-02T20:27:06.286835Z",
     "start_time": "2018-11-02T20:27:06.277839Z"
    }
   },
   "outputs": [],
   "source": [
    "for_the_study_words = [\n",
    "    'part', 'require', 'for study', 'told to', 'asked to', 'request', 'to be', 'to do', 'brighten', 'assignment', 'ucsf', 'for a', 'study'\n",
    "]\n",
    "\n",
    "def is_for_the_study(s):\n",
    "    if not isinstance(s, str):\n",
    "        return int(0)\n",
    "    else:\n",
    "        return int(any(s.find(a) > -1 for a in for_the_study_words))\n",
    "    \n",
    "v1['app_fts'] = v1.other_description.apply(is_for_the_study)"
   ]
  },
  {
   "cell_type": "code",
   "execution_count": 9,
   "metadata": {
    "ExecuteTime": {
     "end_time": "2018-11-02T20:26:14.478383Z",
     "start_time": "2018-11-02T20:26:14.458370Z"
    }
   },
   "outputs": [],
   "source": [
    "v1 = v1.drop(columns=['start', 'day'])"
   ]
  },
  {
   "cell_type": "markdown",
   "metadata": {},
   "source": [
    "### V2 Data Prep"
   ]
  },
  {
   "cell_type": "code",
   "execution_count": null,
   "metadata": {
    "ExecuteTime": {
     "end_time": "2018-11-02T20:26:14.536334Z",
     "start_time": "2018-11-02T20:26:14.481333Z"
    }
   },
   "outputs": [],
   "source": [
    "# drop the uneeded columns\n",
    "v2 = v2r.rename(columns={\n",
    "    'username': 'participant_id',\n",
    "    'createdAt':'dt_response',\n",
    "    'Why did you download this app?':'apps'\n",
    "})\n",
    "\n",
    "# conver to lowercase for lookups\n",
    "v2.apps = v2.apps.apply(lambda x: x.lower() if not isnum(x) else 'none')\n",
    "t = [print(a) for a in pd.unique(list(itertools.chain(*[t.split(',') for t in v2.apps])))]; del t\n",
    "\n",
    "# add indicators for different app usage\n",
    "v2['fun'] = v2.apps.apply(lambda x: int(x.find('fun') > -1))\n",
    "v2['mental_health'] =  v2.apps.apply(lambda x: int(x.find('my mental health') > -1))\n",
    "v2['mood'] =  v2.apps.apply(lambda x: int(x.find('my mood') > -1))\n",
    "v2['managing_daily_issues'] =  v2.apps.apply(lambda x: int(x.find('managing daily issues') > -1))\n",
    "v2['improve_work'] =  v2.apps.apply(lambda x: int(x.find('improve work') > -1))\n",
    "v2['brain_health'] =  v2.apps.apply(lambda x: int(x.find('brain health') > -1))\n",
    "v2['improve_relationships'] =  v2.apps.apply(lambda x: int(x.find('improve relationships') > -1))\n",
    "v2['other'] =  v2.apps.apply(lambda x: int(x.find('other') > -1))\n",
    "\n",
    "# add the study flag\n",
    "v2.head()"
   ]
  },
  {
   "cell_type": "code",
   "execution_count": 11,
   "metadata": {
    "ExecuteTime": {
     "end_time": "2018-11-02T20:26:14.749330Z",
     "start_time": "2018-11-02T20:26:14.539331Z"
    }
   },
   "outputs": [
    {
     "data": {
      "text/plain": [
       "<matplotlib.axes._subplots.AxesSubplot at 0x234d85f27f0>"
      ]
     },
     "execution_count": 11,
     "metadata": {},
     "output_type": "execute_result"
    },
    {
     "data": {
      "text/plain": [
       "1    87\n",
       "Name: day, dtype: int64"
      ]
     },
     "execution_count": 11,
     "metadata": {},
     "output_type": "execute_result"
    },
    {
     "data": {
      "image/png": "[encoded data removed]",
      "text/plain": [
       "<Figure size 432x288 with 1 Axes>"
      ]
     },
     "metadata": {
      "needs_background": "light"
     },
     "output_type": "display_data"
    }
   ],
   "source": [
    "v2.day.hist()\n",
    "v2.day.value_counts()"
   ]
  },
  {
   "cell_type": "code",
   "execution_count": 12,
   "metadata": {
    "ExecuteTime": {
     "end_time": "2018-11-02T20:26:14.757328Z",
     "start_time": "2018-11-02T20:26:14.751329Z"
    }
   },
   "outputs": [],
   "source": [
    "v2 = v2.drop(columns=['day'])\n",
    "v2['survey_phase'] = 1"
   ]
  },
  {
   "cell_type": "markdown",
   "metadata": {},
   "source": [
    "### Combine the DataFrames"
   ]
  },
  {
   "cell_type": "code",
   "execution_count": null,
   "metadata": {
    "ExecuteTime": {
     "end_time": "2018-11-02T20:31:36.040665Z",
     "start_time": "2018-11-02T20:31:35.991696Z"
    }
   },
   "outputs": [],
   "source": [
    "combined = pd.concat([v1, v2], sort=False)\n",
    "\n",
    "combined = combined.rename(columns={\n",
    "    'brain_health': 'app_bh',\n",
    "    'fun': 'app_f',\n",
    "    'improve_relationships': 'app_ir',\n",
    "    'improve_work': 'app_iw',\n",
    "    'managing_daily_issues': 'app_mdi',\n",
    "    'mental_health': 'app_mh',\n",
    "    'mood':'app_m',\n",
    "    'other': 'app_o',\n",
    "}).drop(columns=['apps', 'other_description']).loc[:, [\n",
    "    'participant_id', 'dt_response', 'survey_phase',\n",
    "    'app_bh', 'app_f', 'app_fts', 'app_inc', 'app_ir', 'app_iw', 'app_m', 'app_mdi', 'app_mh', 'app_o'\n",
    "]]\n",
    "\n",
    "combined = combined.fillna(0)\n",
    "\n",
    "# make sure they're all the correct type. for some reason pandas was converting fts and inc to floats\n",
    "# but we don't need that many bits. plus i like consistency\n",
    "for c in combined.columns:\n",
    "    if c.find('app') > -1:\n",
    "        combined[c] = combined[c].astype(int)\n",
    "\n",
    "combined.head()"
   ]
  },
  {
   "cell_type": "markdown",
   "metadata": {},
   "source": [
    "### Set provenance and upload to Synapse"
   ]
  },
  {
   "cell_type": "code",
   "execution_count": 27,
   "metadata": {
    "ExecuteTime": {
     "end_time": "2018-11-02T20:32:38.816490Z",
     "start_time": "2018-11-02T20:32:30.526503Z"
    }
   },
   "outputs": [],
   "source": [
    "app_final = syn.store(Table(\n",
    "    Schema(\n",
    "            name='Health Application Use Survey',\n",
    "            columns=as_table_columns(combined), \n",
    "            parent='syn10848316'),\n",
    "        combined\n",
    "    )\n",
    ")"
   ]
  },
  {
   "cell_type": "code",
   "execution_count": 28,
   "metadata": {
    "ExecuteTime": {
     "end_time": "2018-11-02T20:33:28.973911Z",
     "start_time": "2018-11-02T20:33:28.199913Z"
    }
   },
   "outputs": [],
   "source": [
    "phq2_final = syn.setProvenance(\n",
    "    'syn17022400',\n",
    "    activity=Activity(\n",
    "        name='Combine V1 and V2 data',\n",
    "        description='Process and combine the data collected during study 1 and study 2',\n",
    "        used=[v1sid, v2sid],\n",
    "        executed=[\n",
    "            dict(\n",
    "                name='IPython Notebook',\n",
    "                url='https://github.com/apratap/BRIGHTEN-Data-Release/blob/master/Create_HealthApplications_datafiles.ipynb'\n",
    "            )\n",
    "        ]\n",
    "    )\n",
    ")"
   ]
  }
 ],
 "metadata": {
  "kernelspec": {
   "display_name": "Python [conda env:bright]",
   "language": "python",
   "name": "conda-env-bright-py"
  },
  "language_info": {
   "codemirror_mode": {
    "name": "ipython",
    "version": 3
   },
   "file_extension": ".py",
   "mimetype": "text/x-python",
   "name": "python",
   "nbconvert_exporter": "python",
   "pygments_lexer": "ipython3",
   "version": "3.6.6"
  },
  "varInspector": {
   "cols": {
    "lenName": 16,
    "lenType": 16,
    "lenVar": 40
   },
   "kernels_config": {
    "python": {
     "delete_cmd_postfix": "",
     "delete_cmd_prefix": "del ",
     "library": "var_list.py",
     "varRefreshCmd": "print(var_dic_list())"
    },
    "r": {
     "delete_cmd_postfix": ") ",
     "delete_cmd_prefix": "rm(",
     "library": "var_list.r",
     "varRefreshCmd": "cat(var_dic_list()) "
    }
   },
   "types_to_exclude": [
    "module",
    "function",
    "builtin_function_or_method",
    "instance",
    "_Feature"
   ],
   "window_display": false
  }
 },
 "nbformat": 4,
 "nbformat_minor": 2
}
