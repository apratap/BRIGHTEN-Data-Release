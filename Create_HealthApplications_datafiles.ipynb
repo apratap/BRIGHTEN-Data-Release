{
 "cells": [
  {
   "cell_type": "markdown",
   "metadata": {},
   "source": [
    "# Applications Final Data Prep"
   ]
  },
  {
   "cell_type": "code",
   "execution_count": null,
   "metadata": {
    "ExecuteTime": {
     "end_time": "2018-11-09T02:11:38.072364Z",
     "start_time": "2018-11-09T02:11:34.487375Z"
    }
   },
   "outputs": [],
   "source": [
    "%matplotlib inline\n",
    "\n",
    "import datetime as dt\n",
    "import itertools as it\n",
    "import pandas as pd\n",
    "\n",
    "import matplotlib.pyplot as plt\n",
    "from IPython.core.interactiveshell import InteractiveShell\n",
    "import synapseclient\n",
    "from synapseclient import Activity, File, Schema, Table, as_table_columns\n",
    "\n",
    "InteractiveShell.ast_node_interactivity = 'all'\n",
    "syn = synapseclient.Synapse()\n",
    "syn.login()\n",
    "\n",
    "def isnum(x):\n",
    "    if x is None:\n",
    "        return False\n",
    "    try:\n",
    "        float(x)\n",
    "        return True\n",
    "    except ValueError:\n",
    "        return False"
   ]
  },
  {
   "cell_type": "code",
   "execution_count": null,
   "metadata": {
    "ExecuteTime": {
     "end_time": "2018-11-09T02:11:38.724089Z",
     "start_time": "2018-11-09T02:11:38.075726Z"
    }
   },
   "outputs": [],
   "source": [
    "v1sid, v2sid = 'syn10250489', 'syn17023091'\n",
    "\n",
    "v1r = pd.read_excel(syn.get(v1sid).path)\n",
    "v2r = pd.read_csv(syn.get(v2sid).path, parse_dates=['createdAt'])\n",
    "\n",
    "v1r.head()\n",
    "v2r.head()"
   ]
  },
  {
   "cell_type": "markdown",
   "metadata": {},
   "source": [
    "### V1 Data Prep"
   ]
  },
  {
   "cell_type": "code",
   "execution_count": null,
   "metadata": {
    "ExecuteTime": {
     "end_time": "2018-11-09T02:11:38.844014Z",
     "start_time": "2018-11-09T02:11:38.727025Z"
    }
   },
   "outputs": [],
   "source": [
    "# drop the uneeded columns\n",
    "v1 = v1r.drop(columns=[\n",
    "    'week',\t'user_id',\t'sent_time_local',\t'sent_time_utc', 'response_utc', 'response_id'\n",
    "]).rename(columns={\n",
    "    'brightenid': 'participant_id',\n",
    "    'response_local':'dt_response',\n",
    "    'Why did you download this app?':'apps',\n",
    "    'For \"other\", please type in box':'other_description'\n",
    "})\n",
    "\n",
    "# conver to lowercase for lookups\n",
    "v1.apps = v1.apps.apply(lambda x: x.lower() if not isnum(x) else 'none')\n",
    "\n",
    "# add indicators for different app usage\n",
    "v1['fun'] = v1.apps.apply(lambda x: int(x.find('fun') > -1))\n",
    "v1['mental_health'] =  v1.apps.apply(lambda x: int(x.find('mental health') > -1))\n",
    "v1['mood'] =  v1.apps.apply(lambda x: int(x.find('mood') > -1))\n",
    "v1['managing_daily_issues'] =  v1.apps.apply(lambda x: int(x.find('management of daily ') > -1))\n",
    "v1['improve_work'] =  v1.apps.apply(lambda x: int(x.find('improve work') > -1))\n",
    "v1['brain_health'] =  v1.apps.apply(lambda x: int(x.find('brain health') > -1))\n",
    "v1['improve_relationships'] =  v1.apps.apply(lambda x: int(x.find('improve relationships') > -1))\n",
    "v1['other'] =  v1.apps.apply(lambda x: int(x.find('other') > -1))\n",
    "\n",
    "v1.head()"
   ]
  },
  {
   "cell_type": "code",
   "execution_count": 4,
   "metadata": {
    "ExecuteTime": {
     "end_time": "2018-11-09T02:11:38.881792Z",
     "start_time": "2018-11-09T02:11:38.850249Z"
    }
   },
   "outputs": [
    {
     "name": "stdout",
     "output_type": "stream",
     "text": [
      "for fun\n",
      "for mental health reasons [e.g. depression; anxiety; adhd]\n",
      "for brain health [e.g. better memory]\n",
      "to improve work\n",
      "for management of daily problems\n",
      "for mood [e.g. sadness]\n",
      "to improve relationships\n",
      "other\n",
      "none\n"
     ]
    }
   ],
   "source": [
    "# print the unique application reasons\n",
    "t = [print(a) for a in pd.unique(list(it.chain(*[t.split('|') for t in v1.apps])))]; del t"
   ]
  },
  {
   "cell_type": "code",
   "execution_count": 5,
   "metadata": {
    "ExecuteTime": {
     "end_time": "2018-11-09T02:11:40.459279Z",
     "start_time": "2018-11-09T02:11:40.234790Z"
    }
   },
   "outputs": [
    {
     "data": {
      "text/plain": [
       "(array([234.,  45.,  11.,   2.,   3.,   1.,   0.,   0.,   0.,   1.]),\n",
       " array([  1. ,  24.7,  48.4,  72.1,  95.8, 119.5, 143.2, 166.9, 190.6,\n",
       "        214.3, 238. ]),\n",
       " <a list of 10 Patch objects>)"
      ]
     },
     "execution_count": 5,
     "metadata": {},
     "output_type": "execute_result"
    },
    {
     "data": {
      "image/png": "[encoded data removed]",
      "text/plain": [
       "<Figure size 432x288 with 1 Axes>"
      ]
     },
     "metadata": {},
     "output_type": "display_data"
    }
   ],
   "source": [
    "plt.hist([len(a) for a in v1.other_description if not isnum(a)])"
   ]
  },
  {
   "cell_type": "code",
   "execution_count": 6,
   "metadata": {
    "ExecuteTime": {
     "end_time": "2018-11-09T02:11:41.516647Z",
     "start_time": "2018-11-09T02:11:41.258487Z"
    }
   },
   "outputs": [
    {
     "data": {
      "text/plain": [
       "<matplotlib.axes._subplots.AxesSubplot at 0x7ff90ad2d550>"
      ]
     },
     "execution_count": 6,
     "metadata": {},
     "output_type": "execute_result"
    },
    {
     "data": {
      "image/png": "[encoded data removed]",
      "text/plain": [
       "<Figure size 432x288 with 1 Axes>"
      ]
     },
     "metadata": {},
     "output_type": "display_data"
    }
   ],
   "source": [
    "v1['day'] = [(t.dt_response - t.start).days + 1 for t in v1.itertuples()]\n",
    "v1.day.hist()"
   ]
  },
  {
   "cell_type": "markdown",
   "metadata": {},
   "source": [
    "#### Extract two common topics I saw a quick read through the other descriptions"
   ]
  },
  {
   "cell_type": "code",
   "execution_count": 7,
   "metadata": {
    "ExecuteTime": {
     "end_time": "2018-11-09T02:11:42.993797Z",
     "start_time": "2018-11-09T02:11:42.984294Z"
    },
    "scrolled": false
   },
   "outputs": [],
   "source": [
    "incentive_words = [\n",
    "    'paid', 'pay', 'mone', 'compens', 'gift', 'incentive', '$', 'finan', 'incom', 'reimb', 'craigs', 'pd'\n",
    "]\n",
    "\n",
    "def is_incentive(s):\n",
    "    if not isinstance(s, str):\n",
    "        return 0\n",
    "    else:\n",
    "        return int(any(s.find(a) > -1 for a in incentive_words))\n",
    "    \n",
    "v1['happ_inc'] = pd.to_numeric(v1.other_description.apply(is_incentive), downcast='integer')"
   ]
  },
  {
   "cell_type": "code",
   "execution_count": 8,
   "metadata": {
    "ExecuteTime": {
     "end_time": "2018-11-09T02:11:43.838620Z",
     "start_time": "2018-11-09T02:11:43.831067Z"
    }
   },
   "outputs": [],
   "source": [
    "for_the_study_words = [\n",
    "    'part', 'require', 'for study', 'told to', 'asked to', 'request', 'to be', 'to do', 'brighten', 'assignment', 'ucsf', 'for a', 'study'\n",
    "]\n",
    "\n",
    "def is_for_the_study(s):\n",
    "    if not isinstance(s, str):\n",
    "        return int(0)\n",
    "    else:\n",
    "        return int(any(s.find(a) > -1 for a in for_the_study_words))\n",
    "    \n",
    "v1['happ_fts'] = v1.other_description.apply(is_for_the_study)"
   ]
  },
  {
   "cell_type": "code",
   "execution_count": 9,
   "metadata": {
    "ExecuteTime": {
     "end_time": "2018-11-09T02:11:44.355098Z",
     "start_time": "2018-11-09T02:11:44.349367Z"
    }
   },
   "outputs": [],
   "source": [
    "v1 = v1.drop(columns=['start', 'day'])"
   ]
  },
  {
   "cell_type": "markdown",
   "metadata": {},
   "source": [
    "### V2 Data Prep"
   ]
  },
  {
   "cell_type": "code",
   "execution_count": null,
   "metadata": {
    "ExecuteTime": {
     "end_time": "2018-11-09T02:11:45.602685Z",
     "start_time": "2018-11-09T02:11:45.575143Z"
    }
   },
   "outputs": [],
   "source": [
    "# drop the uneeded columns\n",
    "v2 = v2r.rename(columns={\n",
    "    'username': 'participant_id',\n",
    "    'createdAt':'dt_response',\n",
    "    'Why did you download this app?':'apps'\n",
    "})\n",
    "\n",
    "# conver to lowercase for lookups\n",
    "v2.apps = v2.apps.apply(lambda x: x.lower() if not isnum(x) else 'none')\n",
    "\n",
    "# add indicators for different app usage\n",
    "v2['fun'] = v2.apps.apply(lambda x: int(x.find('fun') > -1))\n",
    "v2['mental_health'] =  v2.apps.apply(lambda x: int(x.find('my mental health') > -1))\n",
    "v2['mood'] =  v2.apps.apply(lambda x: int(x.find('my mood') > -1))\n",
    "v2['managing_daily_issues'] =  v2.apps.apply(lambda x: int(x.find('managing daily issues') > -1))\n",
    "v2['improve_work'] =  v2.apps.apply(lambda x: int(x.find('improve work') > -1))\n",
    "v2['brain_health'] =  v2.apps.apply(lambda x: int(x.find('brain health') > -1))\n",
    "v2['improve_relationships'] =  v2.apps.apply(lambda x: int(x.find('improve relationships') > -1))\n",
    "v2['other'] =  v2.apps.apply(lambda x: int(x.find('other') > -1))\n",
    "\n",
    "# add the study flag\n",
    "v2.head()"
   ]
  },
  {
   "cell_type": "code",
   "execution_count": 12,
   "metadata": {
    "ExecuteTime": {
     "end_time": "2018-11-09T02:11:54.487784Z",
     "start_time": "2018-11-09T02:11:54.478987Z"
    }
   },
   "outputs": [
    {
     "name": "stdout",
     "output_type": "stream",
     "text": [
      "fun\n",
      "my mental health\n",
      "my mood\n",
      "managing daily issues\n",
      "improve work\n",
      "brain health\n",
      "improve relationships\n",
      "other\n"
     ]
    }
   ],
   "source": [
    "t = [print(a) for a in pd.unique(list(it.chain(*[t.split(',') for t in v2.apps])))]; del t"
   ]
  },
  {
   "cell_type": "markdown",
   "metadata": {},
   "source": [
    "### Combine the DataFrames"
   ]
  },
  {
   "cell_type": "code",
   "execution_count": null,
   "metadata": {
    "ExecuteTime": {
     "end_time": "2018-11-09T02:11:56.081759Z",
     "start_time": "2018-11-09T02:11:56.011775Z"
    }
   },
   "outputs": [],
   "source": [
    "combined = pd.concat([v1, v2], sort=False)\n",
    "\n",
    "combined = combined.drop(columns=['apps']).rename(columns={\n",
    "    'brain_health': 'happ_bh',\n",
    "    'fun': 'happ_f',\n",
    "    'improve_relationships': 'happ_ir',\n",
    "    'improve_work': 'happ_iw',\n",
    "    'managing_daily_issues': 'happ_mdi',\n",
    "    'mental_health': 'happ_mh',\n",
    "    'mood':'happ_m',\n",
    "    'other': 'happ_o',\n",
    "    'other_description':'happ_o_description'\n",
    "}).loc[:, [\n",
    "    'participant_id', 'dt_response', \n",
    "    'happ_bh', 'happ_f', 'happ_fts', 'happ_inc', 'happ_ir', 'happ_iw', 'happ_m', 'happ_mdi', 'happ_mh', 'happ_o',\n",
    "    'happ_o_description'\n",
    "]]\n",
    "\n",
    "combined = combined.fillna(0)\n",
    "\n",
    "# make sure they're all the correct type. for some reason pandas was converting fts and inc to floats\n",
    "# but we don't need that many bits. plus i like consistency\n",
    "for c in combined.columns:\n",
    "    if c.find('description') > -1:\n",
    "        continue \n",
    "        \n",
    "    if c.find('app') > -1:\n",
    "        combined[c] = combined[c].astype(int)\n",
    "\n",
    "combined.head()"
   ]
  },
  {
   "cell_type": "markdown",
   "metadata": {},
   "source": [
    "### Set provenance and upload to Synapse"
   ]
  },
  {
   "cell_type": "code",
   "execution_count": 14,
   "metadata": {
    "ExecuteTime": {
     "end_time": "2018-11-09T02:12:24.602991Z",
     "start_time": "2018-11-09T02:12:15.377653Z"
    }
   },
   "outputs": [],
   "source": [
    "final = syn.store(Table(\n",
    "    Schema(\n",
    "            name='Health Applications Use',\n",
    "            columns=as_table_columns(combined), \n",
    "            parent='syn10848316'),\n",
    "        combined\n",
    "    )\n",
    ")"
   ]
  },
  {
   "cell_type": "code",
   "execution_count": 15,
   "metadata": {
    "ExecuteTime": {
     "end_time": "2018-11-09T02:12:45.835940Z",
     "start_time": "2018-11-09T02:12:44.796307Z"
    }
   },
   "outputs": [],
   "source": [
    "final = syn.setProvenance(\n",
    "    'syn17022426',\n",
    "    activity=Activity(\n",
    "        name='Combine V1 and V2 data',\n",
    "        description='Process and combine the data collected during study 1 and study 2',\n",
    "        used=['syn17023091', v1sid, v2sid, 'syn12181332'],\n",
    "        executed=[\n",
    "            dict(\n",
    "                name='IPython Notebook',\n",
    "                url='https://github.com/apratap/BRIGHTEN-Data-Release/blob/master/Create_HealthApplications_datafiles.ipynb'\n",
    "            )\n",
    "        ]\n",
    "    )\n",
    ")"
   ]
  }
 ],
 "metadata": {
  "kernelspec": {
   "display_name": "Python [conda env:bright]",
   "language": "python",
   "name": "conda-env-bright-py"
  },
  "language_info": {
   "codemirror_mode": {
    "name": "ipython",
    "version": 3
   },
   "file_extension": ".py",
   "mimetype": "text/x-python",
   "name": "python",
   "nbconvert_exporter": "python",
   "pygments_lexer": "ipython3",
   "version": "3.6.6"
  },
  "varInspector": {
   "cols": {
    "lenName": 16,
    "lenType": 16,
    "lenVar": 40
   },
   "kernels_config": {
    "python": {
     "delete_cmd_postfix": "",
     "delete_cmd_prefix": "del ",
     "library": "var_list.py",
     "varRefreshCmd": "print(var_dic_list())"
    },
    "r": {
     "delete_cmd_postfix": ") ",
     "delete_cmd_prefix": "rm(",
     "library": "var_list.r",
     "varRefreshCmd": "cat(var_dic_list()) "
    }
   },
   "types_to_exclude": [
    "module",
    "function",
    "builtin_function_or_method",
    "instance",
    "_Feature"
   ],
   "window_display": false
  }
 },
 "nbformat": 4,
 "nbformat_minor": 2
}
