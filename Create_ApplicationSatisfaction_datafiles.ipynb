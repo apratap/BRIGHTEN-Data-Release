{
 "cells": [
  {
   "cell_type": "code",
   "execution_count": null,
   "metadata": {
    "ExecuteTime": {
     "end_time": "2018-12-26T21:01:55.128266Z",
     "start_time": "2018-12-26T21:01:51.551632Z"
    }
   },
   "outputs": [],
   "source": [
    "%matplotlib inline\n",
    "\n",
    "import datetime as dt\n",
    "import itertools as it\n",
    "\n",
    "from IPython.core.interactiveshell import InteractiveShell\n",
    "import matplotlib.pyplot as plt\n",
    "import pandas as pd\n",
    "import synapseclient\n",
    "from synapseclient import Activity, Schema, Table, as_table_columns\n",
    "from tqdm import tqdm\n",
    "\n",
    "InteractiveShell.ast_node_interactivity = 'all'\n",
    "syn = synapseclient.Synapse()\n",
    "syn.login()\n",
    "\n",
    "tqdm.pandas()"
   ]
  },
  {
   "cell_type": "code",
   "execution_count": null,
   "metadata": {
    "ExecuteTime": {
     "end_time": "2018-12-26T21:01:55.559075Z",
     "start_time": "2018-12-26T21:01:55.131092Z"
    }
   },
   "outputs": [],
   "source": [
    "v1sid = 'syn10250484'\n",
    "v1r = pd.read_excel(syn.get(v1sid).path, parse_dates=['response_utc'])\n",
    "v1r.head()"
   ]
  },
  {
   "cell_type": "code",
   "execution_count": null,
   "metadata": {
    "ExecuteTime": {
     "end_time": "2018-12-26T21:01:55.592670Z",
     "start_time": "2018-12-26T21:01:55.561405Z"
    }
   },
   "outputs": [],
   "source": [
    "v1 = v1r.drop(columns=[\n",
    "    'start', 'user_id', 'sent_time_local', 'sent_time_utc', 'response_local', 'response_id'\n",
    "]).rename(columns={\n",
    "    'brightenid':'participant_id',\n",
    "    'response_utc':'dt_response',\n",
    "    'What did you hope your assigned study app (Evolution, Problem Solving Therapy, or Ginger.io) would do for you?':'sat_1',\n",
    "    'Did the assigned study app meet your goals?':'sat_2',\n",
    "    'Do you plan to continue using the assigned study app?':'sat_3',\n",
    "    'Would you recommend this assigned study app to others?':'sat_4'\n",
    "}).loc[:, ['participant_id', 'dt_response', 'week', 'sat_1', 'sat_2', 'sat_3', 'sat_4']]\n",
    "\n",
    "\n",
    "def fx(x):\n",
    "    if x == 'Yes':\n",
    "        return 1\n",
    "    elif x == 'No':\n",
    "        return 0\n",
    "    else:\n",
    "        raise ValueError(f'mapping not defined: {x}')\n",
    "        \n",
    "v1.sat_2 = v1.sat_2.apply(fx)\n",
    "v1.sat_3 = v1.sat_3.apply(fx)\n",
    "v1.sat_4 = v1.sat_4.apply(fx)\n",
    "\n",
    "def fx(x):\n",
    "    if isinstance(x, str):\n",
    "        return x\n",
    "    else:\n",
    "        return '<no response>'\n",
    "\n",
    "v1.sat_1 = v1.sat_1.apply(fx)\n",
    "    \n",
    "v1.head()"
   ]
  },
  {
   "cell_type": "markdown",
   "metadata": {},
   "source": [
    "### Recalculate the week into study"
   ]
  },
  {
   "cell_type": "code",
   "execution_count": null,
   "metadata": {
    "ExecuteTime": {
     "end_time": "2018-12-26T21:01:55.621771Z",
     "start_time": "2018-12-26T21:01:55.595436Z"
    }
   },
   "outputs": [],
   "source": [
    "# metadata = syn.tableQuery('SELECT participant_id, startdate FROM syn17023349').asDataFrame(convert_to_datetime=True)\n",
    "# metadata.startdate = pd.to_datetime(metadata.startdate)\n",
    "\n",
    "# v1 = pd.merge(v1, metadata, on='participant_id', how='left')\n",
    "# v1['week'] = [d.days/7 for d in (v1.dt_response-v1.startdate)]\n",
    "# v1['week'] = v1.week.progress_apply(lambda x: np.int16(np.floor(x)) if not pd.isnull(x) else np.nan)\n",
    "# v1 = v1.drop(columns=['startdate'])\n",
    "\n",
    "# v1.head()"
   ]
  },
  {
   "cell_type": "markdown",
   "metadata": {},
   "source": [
    "### Upload to Synapse"
   ]
  },
  {
   "cell_type": "code",
   "execution_count": null,
   "metadata": {
    "ExecuteTime": {
     "end_time": "2018-12-26T21:02:14.997719Z",
     "start_time": "2018-12-26T21:02:09.108370Z"
    }
   },
   "outputs": [],
   "source": [
    "# check for dupes in original\n",
    "t = syn.delete(\n",
    "    syn.tableQuery('SELECT * FROM syn17025202')\n",
    ")"
   ]
  },
  {
   "cell_type": "code",
   "execution_count": null,
   "metadata": {
    "ExecuteTime": {
     "end_time": "2018-12-26T21:02:22.008246Z",
     "start_time": "2018-12-26T21:02:15.143403Z"
    }
   },
   "outputs": [],
   "source": [
    "final = syn.store(Table(\n",
    "    Schema(\n",
    "            name='Application Satisfaction',\n",
    "            columns=as_table_columns(v1), \n",
    "            parent='syn10848316'),\n",
    "        v1\n",
    "    )\n",
    ")"
   ]
  },
  {
   "cell_type": "code",
   "execution_count": null,
   "metadata": {
    "ExecuteTime": {
     "end_time": "2018-12-26T21:02:22.556545Z",
     "start_time": "2018-12-26T21:02:22.177067Z"
    }
   },
   "outputs": [],
   "source": [
    "final = syn.setProvenance(\n",
    "    'syn17025202',\n",
    "    activity=Activity(\n",
    "        name='Combine V1 and V2 data',\n",
    "        description='Process and combine the data collected during study 1 and study 2',\n",
    "        used=[v1sid],\n",
    "        executed=[\n",
    "            dict(\n",
    "                name='IPython Notebook',\n",
    "                url='https://github.com/apratap/BRIGHTEN-Data-Release/blob/master/Create_ApplicationSatisfaction_datafiles.ipynb'\n",
    "            )\n",
    "        ]\n",
    "    )\n",
    ")"
   ]
  }
 ],
 "metadata": {
  "kernelspec": {
   "display_name": "Python [conda env:bright]",
   "language": "python",
   "name": "conda-env-bright-py"
  },
  "language_info": {
   "codemirror_mode": {
    "name": "ipython",
    "version": 3
   },
   "file_extension": ".py",
   "mimetype": "text/x-python",
   "name": "python",
   "nbconvert_exporter": "python",
   "pygments_lexer": "ipython3",
   "version": "3.6.6"
  },
  "varInspector": {
   "cols": {
    "lenName": 16,
    "lenType": 16,
    "lenVar": 40
   },
   "kernels_config": {
    "python": {
     "delete_cmd_postfix": "",
     "delete_cmd_prefix": "del ",
     "library": "var_list.py",
     "varRefreshCmd": "print(var_dic_list())"
    },
    "r": {
     "delete_cmd_postfix": ") ",
     "delete_cmd_prefix": "rm(",
     "library": "var_list.r",
     "varRefreshCmd": "cat(var_dic_list()) "
    }
   },
   "types_to_exclude": [
    "module",
    "function",
    "builtin_function_or_method",
    "instance",
    "_Feature"
   ],
   "window_display": false
  }
 },
 "nbformat": 4,
 "nbformat_minor": 2
}
