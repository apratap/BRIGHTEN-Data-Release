{
 "cells": [
  {
   "cell_type": "code",
   "execution_count": null,
   "metadata": {
    "ExecuteTime": {
     "end_time": "2018-11-14T02:11:25.537629Z",
     "start_time": "2018-11-14T02:11:21.274632Z"
    }
   },
   "outputs": [],
   "source": [
    "%matplotlib inline\n",
    "\n",
    "import datetime as dt\n",
    "import itertools as it\n",
    "\n",
    "from IPython.core.interactiveshell import InteractiveShell\n",
    "import matplotlib.pyplot as plt\n",
    "import pandas as pd\n",
    "import synapseclient\n",
    "from synapseclient import Activity, Schema, Table, as_table_columns\n",
    "\n",
    "InteractiveShell.ast_node_interactivity = 'all'\n",
    "syn = synapseclient.Synapse()\n",
    "syn.login()"
   ]
  },
  {
   "cell_type": "code",
   "execution_count": null,
   "metadata": {
    "ExecuteTime": {
     "end_time": "2018-11-14T02:11:27.062895Z",
     "start_time": "2018-11-14T02:11:25.546635Z"
    }
   },
   "outputs": [],
   "source": [
    "v1sid = 'syn10250484'\n",
    "v1r = pd.read_excel(syn.get(v1sid).path, parse_dates=['response_utc'])\n",
    "v1r.head()"
   ]
  },
  {
   "cell_type": "code",
   "execution_count": null,
   "metadata": {
    "ExecuteTime": {
     "end_time": "2018-11-14T02:11:30.977762Z",
     "start_time": "2018-11-14T02:11:30.946763Z"
    }
   },
   "outputs": [],
   "source": [
    "v1 = v1r.drop(columns=[\n",
    "    'start', 'user_id', 'sent_time_local', 'sent_time_utc', 'response_local', 'response_id'\n",
    "]).rename(columns={\n",
    "    'brightenid':'participant_id',\n",
    "    'response_utc':'dt_response',\n",
    "    'What did you hope your assigned study app (Evolution, Problem Solving Therapy, or Ginger.io) would do for you?':'sat_1',\n",
    "    'Did the assigned study app meet your goals?':'sat_2',\n",
    "    'Do you plan to continue using the assigned study app?':'sat_3',\n",
    "    'Would you recommend this assigned study app to others?':'sat_4'\n",
    "}).loc[:, ['participant_id', 'dt_response', 'week', 'sat_1', 'sat_2', 'sat_3', 'sat_4']]\n",
    "\n",
    "\n",
    "def fx(x):\n",
    "    if x == 'Yes':\n",
    "        return 1\n",
    "    elif x == 'No':\n",
    "        return 0\n",
    "    else:\n",
    "        raise ValueError(f'mapping not defined: {x}')\n",
    "        \n",
    "v1.sat_2 = v1.sat_2.apply(fx)\n",
    "v1.sat_3 = v1.sat_3.apply(fx)\n",
    "v1.sat_4 = v1.sat_4.apply(fx)\n",
    "\n",
    "def fx(x):\n",
    "    if isinstance(x, str):\n",
    "        return x\n",
    "    else:\n",
    "        return '<no response>'\n",
    "\n",
    "v1.sat_1 = v1.sat_1.apply(fx)\n",
    "    \n",
    "v1.head()"
   ]
  },
  {
   "cell_type": "code",
   "execution_count": 4,
   "metadata": {
    "ExecuteTime": {
     "end_time": "2018-11-14T02:11:56.349686Z",
     "start_time": "2018-11-14T02:11:47.390643Z"
    }
   },
   "outputs": [],
   "source": [
    "final = syn.store(Table(\n",
    "    Schema(\n",
    "            name='Application Satisfaction',\n",
    "            columns=as_table_columns(v1), \n",
    "            parent='syn10848316'),\n",
    "        v1\n",
    "    )\n",
    ")"
   ]
  },
  {
   "cell_type": "code",
   "execution_count": 5,
   "metadata": {
    "ExecuteTime": {
     "end_time": "2018-11-14T02:11:57.111359Z",
     "start_time": "2018-11-14T02:11:56.391645Z"
    }
   },
   "outputs": [],
   "source": [
    "final = syn.setProvenance(\n",
    "    'syn17025202',\n",
    "    activity=Activity(\n",
    "        name='Combine V1 and V2 data',\n",
    "        description='Process and combine the data collected during study 1 and study 2',\n",
    "        used=[v1sid],\n",
    "        executed=[\n",
    "            dict(\n",
    "                name='IPython Notebook',\n",
    "                url='https://github.com/apratap/BRIGHTEN-Data-Release/blob/master/Create_ApplicationSatisfaction_datafiles.ipynb'\n",
    "            )\n",
    "        ]\n",
    "    )\n",
    ")"
   ]
  }
 ],
 "metadata": {
  "kernelspec": {
   "display_name": "Python [conda env:bright]",
   "language": "python",
   "name": "conda-env-bright-py"
  },
  "language_info": {
   "codemirror_mode": {
    "name": "ipython",
    "version": 3
   },
   "file_extension": ".py",
   "mimetype": "text/x-python",
   "name": "python",
   "nbconvert_exporter": "python",
   "pygments_lexer": "ipython3",
   "version": "3.6.6"
  },
  "varInspector": {
   "cols": {
    "lenName": 16,
    "lenType": 16,
    "lenVar": 40
   },
   "kernels_config": {
    "python": {
     "delete_cmd_postfix": "",
     "delete_cmd_prefix": "del ",
     "library": "var_list.py",
     "varRefreshCmd": "print(var_dic_list())"
    },
    "r": {
     "delete_cmd_postfix": ") ",
     "delete_cmd_prefix": "rm(",
     "library": "var_list.r",
     "varRefreshCmd": "cat(var_dic_list()) "
    }
   },
   "types_to_exclude": [
    "module",
    "function",
    "builtin_function_or_method",
    "instance",
    "_Feature"
   ],
   "window_display": false
  }
 },
 "nbformat": 4,
 "nbformat_minor": 2
}
