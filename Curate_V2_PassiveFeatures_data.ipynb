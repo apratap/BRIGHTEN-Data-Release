{
 "cells": [
  {
   "cell_type": "markdown",
   "metadata": {},
   "source": [
    "# Curate_V2_PassiveFeatures_data"
   ]
  },
  {
   "cell_type": "code",
   "execution_count": 1,
   "metadata": {
    "ExecuteTime": {
     "end_time": "2018-12-26T22:56:00.565825Z",
     "start_time": "2018-12-26T22:55:56.561335Z"
    }
   },
   "outputs": [
    {
     "name": "stdout",
     "output_type": "stream",
     "text": [
      "Welcome, Abhishek Pratap!\n",
      "\n"
     ]
    }
   ],
   "source": [
    "%matplotlib inline\n",
    "\n",
    "import datetime as dt\n",
    "import itertools as it\n",
    "\n",
    "from IPython.core.interactiveshell import InteractiveShell\n",
    "import matplotlib.pyplot as plt\n",
    "import numpy as np\n",
    "import pandas as pd\n",
    "import synapseclient\n",
    "from synapseclient import Activity, Schema, Table, as_table_columns\n",
    "from tabulate import tabulate\n",
    "from tqdm import tqdm\n",
    "\n",
    "InteractiveShell.ast_node_interactivity = 'all'\n",
    "syn = synapseclient.Synapse()\n",
    "syn.login()\n",
    "\n",
    "tqdm.pandas()"
   ]
  },
  {
   "cell_type": "markdown",
   "metadata": {},
   "source": [
    "## V2 Passive Phone Metrics"
   ]
  },
  {
   "cell_type": "code",
   "execution_count": 2,
   "metadata": {
    "ExecuteTime": {
     "end_time": "2018-12-26T22:56:00.971400Z",
     "start_time": "2018-12-26T22:56:00.568530Z"
    }
   },
   "outputs": [
    {
     "data": {
      "text/html": [
       "<div>\n",
       "<style scoped>\n",
       "    .dataframe tbody tr th:only-of-type {\n",
       "        vertical-align: middle;\n",
       "    }\n",
       "\n",
       "    .dataframe tbody tr th {\n",
       "        vertical-align: top;\n",
       "    }\n",
       "\n",
       "    .dataframe thead th {\n",
       "        text-align: right;\n",
       "    }\n",
       "</style>\n",
       "<table border=\"1\" class=\"dataframe\">\n",
       "  <thead>\n",
       "    <tr style=\"text-align: right;\">\n",
       "      <th></th>\n",
       "      <th>username</th>\n",
       "      <th>passive_date</th>\n",
       "      <th>call_duration_secs-Incoming</th>\n",
       "      <th>call_duration_secs-Missed</th>\n",
       "      <th>call_duration_secs-Outgoing</th>\n",
       "      <th>call_hour_0-Incoming</th>\n",
       "      <th>call_hour_0-Missed</th>\n",
       "      <th>call_hour_0-Outgoing</th>\n",
       "      <th>call_hour_1-Incoming</th>\n",
       "      <th>call_hour_1-Missed</th>\n",
       "      <th>...</th>\n",
       "      <th>text_hour_9-Sent</th>\n",
       "      <th>text_length-</th>\n",
       "      <th>text_length-Received</th>\n",
       "      <th>text_length-Sent</th>\n",
       "      <th>uniqueNumbers-Incoming</th>\n",
       "      <th>uniqueNumbers-Missed</th>\n",
       "      <th>uniqueNumbers-Outgoing</th>\n",
       "      <th>uniqueNumbersTexted-</th>\n",
       "      <th>uniqueNumbersTexted-Received</th>\n",
       "      <th>uniqueNumbersTexted-Sent</th>\n",
       "    </tr>\n",
       "  </thead>\n",
       "  <tbody>\n",
       "    <tr>\n",
       "      <th>0</th>\n",
       "      <td>EN00066</td>\n",
       "      <td>2016-08-24</td>\n",
       "      <td>0</td>\n",
       "      <td>0</td>\n",
       "      <td>0</td>\n",
       "      <td>0</td>\n",
       "      <td>0</td>\n",
       "      <td>0</td>\n",
       "      <td>0</td>\n",
       "      <td>0</td>\n",
       "      <td>...</td>\n",
       "      <td>0</td>\n",
       "      <td>0</td>\n",
       "      <td>2954</td>\n",
       "      <td>2278</td>\n",
       "      <td>0</td>\n",
       "      <td>2</td>\n",
       "      <td>0</td>\n",
       "      <td>0</td>\n",
       "      <td>6</td>\n",
       "      <td>4</td>\n",
       "    </tr>\n",
       "    <tr>\n",
       "      <th>1</th>\n",
       "      <td>EN00066</td>\n",
       "      <td>2016-08-25</td>\n",
       "      <td>340</td>\n",
       "      <td>0</td>\n",
       "      <td>0</td>\n",
       "      <td>0</td>\n",
       "      <td>0</td>\n",
       "      <td>0</td>\n",
       "      <td>0</td>\n",
       "      <td>0</td>\n",
       "      <td>...</td>\n",
       "      <td>0</td>\n",
       "      <td>0</td>\n",
       "      <td>10979</td>\n",
       "      <td>10306</td>\n",
       "      <td>1</td>\n",
       "      <td>0</td>\n",
       "      <td>0</td>\n",
       "      <td>0</td>\n",
       "      <td>15</td>\n",
       "      <td>12</td>\n",
       "    </tr>\n",
       "    <tr>\n",
       "      <th>2</th>\n",
       "      <td>EN00066</td>\n",
       "      <td>2016-08-26</td>\n",
       "      <td>0</td>\n",
       "      <td>0</td>\n",
       "      <td>326</td>\n",
       "      <td>0</td>\n",
       "      <td>0</td>\n",
       "      <td>0</td>\n",
       "      <td>0</td>\n",
       "      <td>0</td>\n",
       "      <td>...</td>\n",
       "      <td>0</td>\n",
       "      <td>0</td>\n",
       "      <td>14748</td>\n",
       "      <td>8056</td>\n",
       "      <td>0</td>\n",
       "      <td>5</td>\n",
       "      <td>3</td>\n",
       "      <td>0</td>\n",
       "      <td>11</td>\n",
       "      <td>8</td>\n",
       "    </tr>\n",
       "    <tr>\n",
       "      <th>3</th>\n",
       "      <td>EN00066</td>\n",
       "      <td>2016-08-27</td>\n",
       "      <td>0</td>\n",
       "      <td>0</td>\n",
       "      <td>1681</td>\n",
       "      <td>0</td>\n",
       "      <td>0</td>\n",
       "      <td>0</td>\n",
       "      <td>0</td>\n",
       "      <td>0</td>\n",
       "      <td>...</td>\n",
       "      <td>0</td>\n",
       "      <td>0</td>\n",
       "      <td>12864</td>\n",
       "      <td>10158</td>\n",
       "      <td>0</td>\n",
       "      <td>1</td>\n",
       "      <td>3</td>\n",
       "      <td>0</td>\n",
       "      <td>13</td>\n",
       "      <td>12</td>\n",
       "    </tr>\n",
       "    <tr>\n",
       "      <th>4</th>\n",
       "      <td>EN00066</td>\n",
       "      <td>2016-08-28</td>\n",
       "      <td>0</td>\n",
       "      <td>0</td>\n",
       "      <td>449</td>\n",
       "      <td>0</td>\n",
       "      <td>0</td>\n",
       "      <td>449</td>\n",
       "      <td>0</td>\n",
       "      <td>0</td>\n",
       "      <td>...</td>\n",
       "      <td>0</td>\n",
       "      <td>0</td>\n",
       "      <td>4019</td>\n",
       "      <td>3194</td>\n",
       "      <td>0</td>\n",
       "      <td>0</td>\n",
       "      <td>1</td>\n",
       "      <td>0</td>\n",
       "      <td>9</td>\n",
       "      <td>10</td>\n",
       "    </tr>\n",
       "  </tbody>\n",
       "</table>\n",
       "<p>5 rows × 164 columns</p>\n",
       "</div>"
      ],
      "text/plain": [
       "  username passive_date  call_duration_secs-Incoming  \\\n",
       "0  EN00066   2016-08-24                            0   \n",
       "1  EN00066   2016-08-25                          340   \n",
       "2  EN00066   2016-08-26                            0   \n",
       "3  EN00066   2016-08-27                            0   \n",
       "4  EN00066   2016-08-28                            0   \n",
       "\n",
       "   call_duration_secs-Missed  call_duration_secs-Outgoing  \\\n",
       "0                          0                            0   \n",
       "1                          0                            0   \n",
       "2                          0                          326   \n",
       "3                          0                         1681   \n",
       "4                          0                          449   \n",
       "\n",
       "   call_hour_0-Incoming  call_hour_0-Missed  call_hour_0-Outgoing  \\\n",
       "0                     0                   0                     0   \n",
       "1                     0                   0                     0   \n",
       "2                     0                   0                     0   \n",
       "3                     0                   0                     0   \n",
       "4                     0                   0                   449   \n",
       "\n",
       "   call_hour_1-Incoming  call_hour_1-Missed  ...  text_hour_9-Sent  \\\n",
       "0                     0                   0  ...                 0   \n",
       "1                     0                   0  ...                 0   \n",
       "2                     0                   0  ...                 0   \n",
       "3                     0                   0  ...                 0   \n",
       "4                     0                   0  ...                 0   \n",
       "\n",
       "   text_length-  text_length-Received  text_length-Sent  \\\n",
       "0             0                  2954              2278   \n",
       "1             0                 10979             10306   \n",
       "2             0                 14748              8056   \n",
       "3             0                 12864             10158   \n",
       "4             0                  4019              3194   \n",
       "\n",
       "   uniqueNumbers-Incoming  uniqueNumbers-Missed  uniqueNumbers-Outgoing  \\\n",
       "0                       0                     2                       0   \n",
       "1                       1                     0                       0   \n",
       "2                       0                     5                       3   \n",
       "3                       0                     1                       3   \n",
       "4                       0                     0                       1   \n",
       "\n",
       "   uniqueNumbersTexted-  uniqueNumbersTexted-Received  \\\n",
       "0                     0                             6   \n",
       "1                     0                            15   \n",
       "2                     0                            11   \n",
       "3                     0                            13   \n",
       "4                     0                             9   \n",
       "\n",
       "   uniqueNumbersTexted-Sent  \n",
       "0                         4  \n",
       "1                        12  \n",
       "2                         8  \n",
       "3                        12  \n",
       "4                        10  \n",
       "\n",
       "[5 rows x 164 columns]"
      ]
     },
     "execution_count": 2,
     "metadata": {},
     "output_type": "execute_result"
    }
   ],
   "source": [
    "v2sid = 'syn10165199'\n",
    "v2r = pd.read_csv(syn.get(v2sid).path, sep='\\t', parse_dates=['passive_date'])\n",
    "v2r.head()"
   ]
  },
  {
   "cell_type": "code",
   "execution_count": null,
   "metadata": {
    "ExecuteTime": {
     "end_time": "2018-12-26T22:56:01.020749Z",
     "start_time": "2018-12-26T22:56:00.973626Z"
    },
    "scrolled": true
   },
   "outputs": [],
   "source": [
    "v2 = v2r.rename(columns={\n",
    "    'username':'participant_id',\n",
    "    'passive_date':'dt_passive'\n",
    "})\n",
    "\n",
    "v2.head()"
   ]
  },
  {
   "cell_type": "markdown",
   "metadata": {},
   "source": [
    "no columns have na values \n",
    "\n",
    "all columns call_hour_i-missed are 0"
   ]
  },
  {
   "cell_type": "code",
   "execution_count": null,
   "metadata": {
    "ExecuteTime": {
     "end_time": "2018-12-26T22:56:01.062755Z",
     "start_time": "2018-12-26T22:56:01.023989Z"
    }
   },
   "outputs": [],
   "source": [
    "labels = [\n",
    "    'participant_id', 'dt_passive',\n",
    "    'call_duration_secs-Incoming', 'call_duration_secs-Outgoing',\n",
    "    'numCalls_Incoming', 'numCalls_Missed', 'numCalls_Outgoing', \n",
    "    'numTexts-', 'numTexts-Received', 'numTexts-Sent',\n",
    "    'text_length-Received', 'text_length-Sent',\n",
    "    'uniqueNumbers-Incoming', 'uniqueNumbers-Missed', 'uniqueNumbers-Outgoing', \n",
    "    'uniqueNumbersTexted-', 'uniqueNumbersTexted-Received', 'uniqueNumbersTexted-Sent'\n",
    "]\n",
    "v2 = v2.reindex(labels, axis=1).fillna(0)\n",
    "\n",
    "v2 = v2.rename(columns={\n",
    "    'call_duration_secs-Incoming':'callDuration_incoming', \n",
    "    'call_duration_secs-Outgoing':'callDuration_outgoing',\n",
    "    'numCalls_Incoming':'callCount_incoming',\n",
    "    'numCalls_Missed':'callCount_missed',\n",
    "    'numCalls_Outgoing':'callCount_outgoing', \n",
    "    'numTexts-':'textCount', \n",
    "    'numTexts-Received':'textCount_received', \n",
    "    'numTexts-Sent':'textCount_sent',\n",
    "    'text_length-Received':'textLength_received', \n",
    "    'text_length-Sent':'textLength_sent',\n",
    "    'uniqueNumbers-Incoming':'uniqueNumbers_calls_incoming', \n",
    "    'uniqueNumbers-Missed':'uniqueNumbers_calls_missed', \n",
    "    'uniqueNumbers-Outgoing':'uniqueNumbers_calls_outgoing', \n",
    "    'uniqueNumbersTexted-':'uniqueNumbers_texts', \n",
    "    'uniqueNumbersTexted-Received':'uniqueNumbers_texts_received',\n",
    "    'uniqueNumbersTexted-Sent':'uniqueNumbers_texts_sent'\n",
    "})\n",
    "\n",
    "v2.head()"
   ]
  },
  {
   "cell_type": "markdown",
   "metadata": {},
   "source": [
    "### Add week in study"
   ]
  },
  {
   "cell_type": "code",
   "execution_count": 4,
   "metadata": {},
   "outputs": [],
   "source": [
    "metasid = 'syn17023349'"
   ]
  },
  {
   "cell_type": "code",
   "execution_count": null,
   "metadata": {
    "ExecuteTime": {
     "end_time": "2018-12-26T22:56:01.502446Z",
     "start_time": "2018-12-26T22:56:01.065661Z"
    }
   },
   "outputs": [],
   "source": [
    "metasid = 'syn17023349'\n",
    "metadata = syn.tableQuery(f'SELECT participant_id, startdate FROM {metasid}').asDataFrame(convert_to_datetime=True)\n",
    "metadata.startdate = pd.to_datetime(metadata.startdate)\n",
    "\n",
    "# add in the participants start date as a new column\n",
    "v2 = pd.merge(v2, metadata, on='participant_id', how='left')\n",
    "\n",
    "# exclude any rows before the start date\n",
    "v2 = v2.loc[v2.dt_passive >= v2.startdate]\n",
    "\n",
    "# get the time difference in weeks as a float\n",
    "v2['week'] = [\n",
    "    d.days/7 for d in (\n",
    "        v2.dt_passive.apply(\n",
    "            lambda x: dt.datetime(year=x.year, month=x.month, day=x.day))-v2.startdate\n",
    "    )\n",
    "]\n",
    "\n",
    "# convert the week number to an int by taking the floor\n",
    "v2.week = v2.week.progress_apply(lambda x: np.int16(np.floor(x))+1 if not pd.isnull(x) else np.nan)\n",
    "\n",
    "# remove the start date\n",
    "v2 = v2.drop(columns=['startdate'], errors='ignore')\n",
    "\n",
    "# reorder the columns\n",
    "cols = list(v2.columns)\n",
    "cols = cols[0:2] + ['week'] + cols[2:-1]\n",
    "v2 = v2.reindex(columns=cols)\n",
    "\n",
    "v2.head()"
   ]
  },
  {
   "cell_type": "markdown",
   "metadata": {},
   "source": [
    "Make sure the date isn't a timestamp."
   ]
  },
  {
   "cell_type": "code",
   "execution_count": null,
   "metadata": {
    "ExecuteTime": {
     "end_time": "2018-12-26T22:56:01.542271Z",
     "start_time": "2018-12-26T22:56:01.513716Z"
    }
   },
   "outputs": [],
   "source": [
    "v2.dt_passive = v2.dt_passive.apply(lambda x: x.date())"
   ]
  },
  {
   "cell_type": "code",
   "execution_count": null,
   "metadata": {
    "ExecuteTime": {
     "end_time": "2018-12-26T22:56:01.838865Z",
     "start_time": "2018-12-26T22:56:01.546133Z"
    }
   },
   "outputs": [],
   "source": [
    "v2.week.hist()"
   ]
  },
  {
   "cell_type": "markdown",
   "metadata": {},
   "source": [
    "### Upload to Synapse"
   ]
  },
  {
   "cell_type": "code",
   "execution_count": null,
   "metadata": {
    "ExecuteTime": {
     "end_time": "2018-12-26T22:56:12.980865Z",
     "start_time": "2018-12-26T22:56:01.841382Z"
    }
   },
   "outputs": [],
   "source": [
    "t = syn.delete(\n",
    "    syn.tableQuery('select * from syn17060502')\n",
    ")"
   ]
  },
  {
   "cell_type": "code",
   "execution_count": null,
   "metadata": {
    "ExecuteTime": {
     "end_time": "2018-12-26T22:56:28.268209Z",
     "start_time": "2018-12-26T22:56:12.987989Z"
    }
   },
   "outputs": [],
   "source": [
    "final = syn.store(Table(\n",
    "    Schema(\n",
    "            name='Passive Features (v2)',\n",
    "            columns=as_table_columns(v2), \n",
    "            parent='syn10848316'),\n",
    "        v2\n",
    "    )\n",
    ")"
   ]
  },
  {
   "cell_type": "code",
   "execution_count": 5,
   "metadata": {
    "ExecuteTime": {
     "end_time": "2018-12-26T22:56:28.656588Z",
     "start_time": "2018-12-26T22:56:28.275354Z"
    }
   },
   "outputs": [],
   "source": [
    "final = syn.setProvenance(\n",
    "    'syn17060502',\n",
    "    activity=Activity(\n",
    "        name='Generate V2 Table Data',\n",
    "        description='Process the data collected during study ',\n",
    "        used=[v2sid, metasid],\n",
    "        executed=[\n",
    "            dict(\n",
    "                name='Curate_V2_PassiveFeatures_data',\n",
    "                url='https://github.com/apratap/BRIGHTEN-Data-Release/blob/master/Curate_V2_PassiveFeatures_data.ipynb'\n",
    "            )\n",
    "        ]\n",
    "    )\n",
    ")"
   ]
  },
  {
   "cell_type": "code",
   "execution_count": null,
   "metadata": {},
   "outputs": [],
   "source": []
  }
 ],
 "metadata": {
  "kernelspec": {
   "display_name": "Python 3",
   "language": "python",
   "name": "python3"
  },
  "language_info": {
   "codemirror_mode": {
    "name": "ipython",
    "version": 3
   },
   "file_extension": ".py",
   "mimetype": "text/x-python",
   "name": "python",
   "nbconvert_exporter": "python",
   "pygments_lexer": "ipython3",
   "version": "3.8.8"
  },
  "varInspector": {
   "cols": {
    "lenName": 16,
    "lenType": 16,
    "lenVar": 40
   },
   "kernels_config": {
    "python": {
     "delete_cmd_postfix": "",
     "delete_cmd_prefix": "del ",
     "library": "var_list.py",
     "varRefreshCmd": "print(var_dic_list())"
    },
    "r": {
     "delete_cmd_postfix": ") ",
     "delete_cmd_prefix": "rm(",
     "library": "var_list.r",
     "varRefreshCmd": "cat(var_dic_list()) "
    }
   },
   "types_to_exclude": [
    "module",
    "function",
    "builtin_function_or_method",
    "instance",
    "_Feature"
   ],
   "window_display": false
  }
 },
 "nbformat": 4,
 "nbformat_minor": 2
}
