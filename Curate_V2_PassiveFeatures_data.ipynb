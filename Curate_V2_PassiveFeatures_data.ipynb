{
 "cells": [
  {
   "cell_type": "markdown",
   "metadata": {},
   "source": [
    "# Curate_V2_PassiveFeatures_data"
   ]
  },
  {
   "cell_type": "code",
   "execution_count": null,
   "metadata": {
    "ExecuteTime": {
     "end_time": "2018-12-26T22:56:00.565825Z",
     "start_time": "2018-12-26T22:55:56.561335Z"
    }
   },
   "outputs": [],
   "source": [
    "%matplotlib inline\n",
    "\n",
    "import datetime as dt\n",
    "import itertools as it\n",
    "\n",
    "from IPython.core.interactiveshell import InteractiveShell\n",
    "import matplotlib.pyplot as plt\n",
    "import numpy as np\n",
    "import pandas as pd\n",
    "import synapseclient\n",
    "from synapseclient import Activity, Schema, Table, as_table_columns\n",
    "from tabulate import tabulate\n",
    "from tqdm import tqdm\n",
    "\n",
    "InteractiveShell.ast_node_interactivity = 'all'\n",
    "syn = synapseclient.Synapse()\n",
    "syn.login()\n",
    "\n",
    "tqdm.pandas()"
   ]
  },
  {
   "cell_type": "markdown",
   "metadata": {},
   "source": [
    "## V2 Passive Phone Metrics"
   ]
  },
  {
   "cell_type": "code",
   "execution_count": null,
   "metadata": {
    "ExecuteTime": {
     "end_time": "2018-12-26T22:56:00.971400Z",
     "start_time": "2018-12-26T22:56:00.568530Z"
    }
   },
   "outputs": [],
   "source": [
    "v2sid = 'syn10165199'\n",
    "v2r = pd.read_csv(syn.get(v2sid).path, sep='\\t', parse_dates=['passive_date'])\n",
    "v2r.head()"
   ]
  },
  {
   "cell_type": "code",
   "execution_count": null,
   "metadata": {
    "ExecuteTime": {
     "end_time": "2018-12-26T22:56:01.020749Z",
     "start_time": "2018-12-26T22:56:00.973626Z"
    },
    "scrolled": true
   },
   "outputs": [],
   "source": [
    "v2 = v2r.rename(columns={\n",
    "    'username':'participant_id',\n",
    "    'passive_date':'dt_passive'\n",
    "})\n",
    "\n",
    "v2.head()"
   ]
  },
  {
   "cell_type": "markdown",
   "metadata": {},
   "source": [
    "no columns have na values \n",
    "\n",
    "all columns call_hour_i-missed are 0"
   ]
  },
  {
   "cell_type": "code",
   "execution_count": null,
   "metadata": {
    "ExecuteTime": {
     "end_time": "2018-12-26T22:56:01.062755Z",
     "start_time": "2018-12-26T22:56:01.023989Z"
    }
   },
   "outputs": [],
   "source": [
    "labels = [\n",
    "    'participant_id', 'dt_passive',\n",
    "    'call_duration_secs-Incoming', 'call_duration_secs-Outgoing',\n",
    "    'numCalls_Incoming', 'numCalls_Missed', 'numCalls_Outgoing', \n",
    "    'numTexts-', 'numTexts-Received', 'numTexts-Sent',\n",
    "    'text_length-Received', 'text_length-Sent',\n",
    "    'uniqueNumbers-Incoming', 'uniqueNumbers-Missed', 'uniqueNumbers-Outgoing', \n",
    "    'uniqueNumbersTexted-', 'uniqueNumbersTexted-Received', 'uniqueNumbersTexted-Sent'\n",
    "]\n",
    "v2 = v2.reindex(labels, axis=1).fillna(0)\n",
    "\n",
    "v2 = v2.rename(columns={\n",
    "    'call_duration_secs-Incoming':'callDuration_incoming', \n",
    "    'call_duration_secs-Outgoing':'callDuration_outgoing',\n",
    "    'numCalls_Incoming':'callCount_incoming',\n",
    "    'numCalls_Missed':'callCount_missed',\n",
    "    'numCalls_Outgoing':'callCount_outgoing', \n",
    "    'numTexts-':'textCount', \n",
    "    'numTexts-Received':'textCount_received', \n",
    "    'numTexts-Sent':'textCount_sent',\n",
    "    'text_length-Received':'textLength_received', \n",
    "    'text_length-Sent':'textLength_sent',\n",
    "    'uniqueNumbers-Incoming':'uniqueNumbers_calls_incoming', \n",
    "    'uniqueNumbers-Missed':'uniqueNumbers_calls_missed', \n",
    "    'uniqueNumbers-Outgoing':'uniqueNumbers_calls_outgoing', \n",
    "    'uniqueNumbersTexted-':'uniqueNumbers_texts', \n",
    "    'uniqueNumbersTexted-Received':'uniqueNumbers_texts_received',\n",
    "    'uniqueNumbersTexted-Sent':'uniqueNumbers_texts_sent'\n",
    "})\n",
    "\n",
    "v2.head()"
   ]
  },
  {
   "cell_type": "markdown",
   "metadata": {},
   "source": [
    "### Add week in study"
   ]
  },
  {
   "cell_type": "code",
   "execution_count": null,
   "metadata": {
    "ExecuteTime": {
     "end_time": "2018-12-26T22:56:01.502446Z",
     "start_time": "2018-12-26T22:56:01.065661Z"
    }
   },
   "outputs": [],
   "source": [
    "metasid = 'syn17023349'\n",
    "metadata = syn.tableQuery(f'SELECT participant_id, startdate FROM {metasid}').asDataFrame(convert_to_datetime=True)\n",
    "metadata.startdate = pd.to_datetime(metadata.startdate)\n",
    "\n",
    "# add in the participants start date as a new column\n",
    "v2 = pd.merge(v2, metadata, on='participant_id', how='left')\n",
    "\n",
    "# exclude any rows before the start date\n",
    "v2 = v2.loc[v2.dt_passive >= v2.startdate]\n",
    "\n",
    "# get the time difference in weeks as a float\n",
    "v2['week'] = [\n",
    "    d.days/7 for d in (\n",
    "        v2.dt_passive.apply(\n",
    "            lambda x: dt.datetime(year=x.year, month=x.month, day=x.day))-v2.startdate\n",
    "    )\n",
    "]\n",
    "\n",
    "# convert the week number to an int by taking the floor\n",
    "v2.week = v2.week.progress_apply(lambda x: np.int16(np.floor(x))+1 if not pd.isnull(x) else np.nan)\n",
    "\n",
    "# remove the start date\n",
    "v2 = v2.drop(columns=['startdate'], errors='ignore')\n",
    "\n",
    "# reorder the columns\n",
    "cols = list(v2.columns)\n",
    "cols = cols[0:2] + ['week'] + cols[2:-1]\n",
    "v2 = v2.reindex(columns=cols)\n",
    "\n",
    "v2.head()"
   ]
  },
  {
   "cell_type": "markdown",
   "metadata": {},
   "source": [
    "Make sure the date isn't a timestamp."
   ]
  },
  {
   "cell_type": "code",
   "execution_count": null,
   "metadata": {
    "ExecuteTime": {
     "end_time": "2018-12-26T22:56:01.542271Z",
     "start_time": "2018-12-26T22:56:01.513716Z"
    }
   },
   "outputs": [],
   "source": [
    "v2.dt_passive = v2.dt_passive.apply(lambda x: x.date())"
   ]
  },
  {
   "cell_type": "code",
   "execution_count": null,
   "metadata": {
    "ExecuteTime": {
     "end_time": "2018-12-26T22:56:01.838865Z",
     "start_time": "2018-12-26T22:56:01.546133Z"
    }
   },
   "outputs": [],
   "source": [
    "v2.week.hist()"
   ]
  },
  {
   "cell_type": "markdown",
   "metadata": {},
   "source": [
    "### Upload to Synapse"
   ]
  },
  {
   "cell_type": "code",
   "execution_count": null,
   "metadata": {
    "ExecuteTime": {
     "end_time": "2018-12-26T22:56:12.980865Z",
     "start_time": "2018-12-26T22:56:01.841382Z"
    }
   },
   "outputs": [],
   "source": [
    "t = syn.delete(\n",
    "    syn.tableQuery('select * from syn17060502')\n",
    ")"
   ]
  },
  {
   "cell_type": "code",
   "execution_count": null,
   "metadata": {
    "ExecuteTime": {
     "end_time": "2018-12-26T22:56:28.268209Z",
     "start_time": "2018-12-26T22:56:12.987989Z"
    }
   },
   "outputs": [],
   "source": [
    "final = syn.store(Table(\n",
    "    Schema(\n",
    "            name='Passive Features (v2)',\n",
    "            columns=as_table_columns(v2), \n",
    "            parent='syn10848316'),\n",
    "        v2\n",
    "    )\n",
    ")"
   ]
  },
  {
   "cell_type": "code",
   "execution_count": null,
   "metadata": {
    "ExecuteTime": {
     "end_time": "2018-12-26T22:56:28.656588Z",
     "start_time": "2018-12-26T22:56:28.275354Z"
    }
   },
   "outputs": [],
   "source": [
    "final = syn.setProvenance(\n",
    "    'syn17060502',\n",
    "    activity=Activity(\n",
    "        name='Generate V2 Table Data',\n",
    "        description='Process the data collected during study ',\n",
    "        used=[v2sid, metasid],\n",
    "        executed=[\n",
    "            dict(\n",
    "                name='IPython Notebook',\n",
    "                url='https://github.com/apratap/BRIGHTEN-Data-Release/blob/master/Create_V2PassiveFeatures_datafiles.ipynb'\n",
    "            )\n",
    "        ]\n",
    "    )\n",
    ")"
   ]
  }
 ],
 "metadata": {
  "kernelspec": {
   "display_name": "Python 3",
   "language": "python",
   "name": "python3"
  },
  "language_info": {
   "codemirror_mode": {
    "name": "ipython",
    "version": 3
   },
   "file_extension": ".py",
   "mimetype": "text/x-python",
   "name": "python",
   "nbconvert_exporter": "python",
   "pygments_lexer": "ipython3",
   "version": "3.8.8"
  },
  "varInspector": {
   "cols": {
    "lenName": 16,
    "lenType": 16,
    "lenVar": 40
   },
   "kernels_config": {
    "python": {
     "delete_cmd_postfix": "",
     "delete_cmd_prefix": "del ",
     "library": "var_list.py",
     "varRefreshCmd": "print(var_dic_list())"
    },
    "r": {
     "delete_cmd_postfix": ") ",
     "delete_cmd_prefix": "rm(",
     "library": "var_list.r",
     "varRefreshCmd": "cat(var_dic_list()) "
    }
   },
   "types_to_exclude": [
    "module",
    "function",
    "builtin_function_or_method",
    "instance",
    "_Feature"
   ],
   "window_display": false
  }
 },
 "nbformat": 4,
 "nbformat_minor": 2
}
