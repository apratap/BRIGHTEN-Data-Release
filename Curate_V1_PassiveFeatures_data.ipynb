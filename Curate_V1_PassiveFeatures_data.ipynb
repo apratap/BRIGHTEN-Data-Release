{
 "cells": [
  {
   "cell_type": "markdown",
   "metadata": {},
   "source": [
    "# Curate_V1_PassiveFeatures_data"
   ]
  },
  {
   "cell_type": "code",
   "execution_count": 1,
   "metadata": {
    "ExecuteTime": {
     "end_time": "2018-11-21T19:48:01.470418Z",
     "start_time": "2018-11-21T19:47:57.962502Z"
    }
   },
   "outputs": [
    {
     "name": "stdout",
     "output_type": "stream",
     "text": [
      "Welcome, Abhishek Pratap!\n",
      "\n"
     ]
    }
   ],
   "source": [
    "%matplotlib inline\n",
    "\n",
    "import datetime as dt\n",
    "import itertools as it\n",
    "\n",
    "from IPython.core.interactiveshell import InteractiveShell\n",
    "import matplotlib.pyplot as plt\n",
    "import numpy as np\n",
    "import pandas as pd\n",
    "import synapseclient\n",
    "from synapseclient import Activity, Schema, Table, as_table_columns\n",
    "\n",
    "InteractiveShell.ast_node_interactivity = 'all'\n",
    "syn = synapseclient.Synapse()\n",
    "syn.login()\n",
    "\n",
    "def isnum(x):\n",
    "    if x is None:\n",
    "        return False\n",
    "    try:\n",
    "        float(x)\n",
    "        return True\n",
    "    except ValueError:\n",
    "        return False\n",
    "\n",
    "def safe_round(x):\n",
    "    if not pd.isnull(x) and isnum(x):\n",
    "        return np.round(x, 3)\n",
    "    else:\n",
    "        return x"
   ]
  },
  {
   "cell_type": "markdown",
   "metadata": {},
   "source": [
    "### Prepare V1 data"
   ]
  },
  {
   "cell_type": "code",
   "execution_count": 2,
   "metadata": {
    "ExecuteTime": {
     "end_time": "2018-11-21T19:48:02.926227Z",
     "start_time": "2018-11-21T19:48:02.501297Z"
    }
   },
   "outputs": [
    {
     "data": {
      "text/html": [
       "<div>\n",
       "<style scoped>\n",
       "    .dataframe tbody tr th:only-of-type {\n",
       "        vertical-align: middle;\n",
       "    }\n",
       "\n",
       "    .dataframe tbody tr th {\n",
       "        vertical-align: top;\n",
       "    }\n",
       "\n",
       "    .dataframe thead th {\n",
       "        text-align: right;\n",
       "    }\n",
       "</style>\n",
       "<table border=\"1\" class=\"dataframe\">\n",
       "  <thead>\n",
       "    <tr style=\"text-align: right;\">\n",
       "      <th></th>\n",
       "      <th>user_id</th>\n",
       "      <th>study_arm</th>\n",
       "      <th>unreturned_calls</th>\n",
       "      <th>mobility</th>\n",
       "      <th>sms_length</th>\n",
       "      <th>call_duration</th>\n",
       "      <th>interaction_diversity</th>\n",
       "      <th>missed_interactions</th>\n",
       "      <th>aggregate_communication</th>\n",
       "      <th>sms_count</th>\n",
       "      <th>mobility_radius</th>\n",
       "      <th>call_count</th>\n",
       "      <th>passive_date_pacific</th>\n",
       "      <th>User_Phone_Type</th>\n",
       "      <th>Cohort</th>\n",
       "      <th>brightenid</th>\n",
       "      <th>day</th>\n",
       "      <th>week</th>\n",
       "      <th>start</th>\n",
       "    </tr>\n",
       "  </thead>\n",
       "  <tbody>\n",
       "    <tr>\n",
       "      <th>0</th>\n",
       "      <td>uid10431</td>\n",
       "      <td>BLUE</td>\n",
       "      <td>NaN</td>\n",
       "      <td>0.112392</td>\n",
       "      <td>NaN</td>\n",
       "      <td>NaN</td>\n",
       "      <td>NaN</td>\n",
       "      <td>NaN</td>\n",
       "      <td>NaN</td>\n",
       "      <td>NaN</td>\n",
       "      <td>3087.887243</td>\n",
       "      <td>NaN</td>\n",
       "      <td>2014-08-05</td>\n",
       "      <td>iPhone</td>\n",
       "      <td>PST</td>\n",
       "      <td>BLUE-00048</td>\n",
       "      <td>5.0</td>\n",
       "      <td>1.0</td>\n",
       "      <td>2014-08-01</td>\n",
       "    </tr>\n",
       "    <tr>\n",
       "      <th>1</th>\n",
       "      <td>uid10431</td>\n",
       "      <td>BLUE</td>\n",
       "      <td>NaN</td>\n",
       "      <td>0.413090</td>\n",
       "      <td>NaN</td>\n",
       "      <td>NaN</td>\n",
       "      <td>NaN</td>\n",
       "      <td>NaN</td>\n",
       "      <td>NaN</td>\n",
       "      <td>NaN</td>\n",
       "      <td>21.643242</td>\n",
       "      <td>NaN</td>\n",
       "      <td>2014-08-03</td>\n",
       "      <td>iPhone</td>\n",
       "      <td>PST</td>\n",
       "      <td>BLUE-00048</td>\n",
       "      <td>3.0</td>\n",
       "      <td>1.0</td>\n",
       "      <td>2014-08-01</td>\n",
       "    </tr>\n",
       "    <tr>\n",
       "      <th>2</th>\n",
       "      <td>uid10431</td>\n",
       "      <td>BLUE</td>\n",
       "      <td>NaN</td>\n",
       "      <td>1.099014</td>\n",
       "      <td>NaN</td>\n",
       "      <td>NaN</td>\n",
       "      <td>NaN</td>\n",
       "      <td>NaN</td>\n",
       "      <td>NaN</td>\n",
       "      <td>NaN</td>\n",
       "      <td>5.894548</td>\n",
       "      <td>NaN</td>\n",
       "      <td>2014-08-12</td>\n",
       "      <td>iPhone</td>\n",
       "      <td>PST</td>\n",
       "      <td>BLUE-00048</td>\n",
       "      <td>12.0</td>\n",
       "      <td>2.0</td>\n",
       "      <td>2014-08-01</td>\n",
       "    </tr>\n",
       "    <tr>\n",
       "      <th>3</th>\n",
       "      <td>uid10431</td>\n",
       "      <td>BLUE</td>\n",
       "      <td>NaN</td>\n",
       "      <td>4.690892</td>\n",
       "      <td>NaN</td>\n",
       "      <td>NaN</td>\n",
       "      <td>NaN</td>\n",
       "      <td>NaN</td>\n",
       "      <td>NaN</td>\n",
       "      <td>NaN</td>\n",
       "      <td>1.453950</td>\n",
       "      <td>NaN</td>\n",
       "      <td>2014-08-02</td>\n",
       "      <td>iPhone</td>\n",
       "      <td>PST</td>\n",
       "      <td>BLUE-00048</td>\n",
       "      <td>2.0</td>\n",
       "      <td>1.0</td>\n",
       "      <td>2014-08-01</td>\n",
       "    </tr>\n",
       "    <tr>\n",
       "      <th>4</th>\n",
       "      <td>uid10431</td>\n",
       "      <td>BLUE</td>\n",
       "      <td>NaN</td>\n",
       "      <td>0.002924</td>\n",
       "      <td>NaN</td>\n",
       "      <td>NaN</td>\n",
       "      <td>NaN</td>\n",
       "      <td>NaN</td>\n",
       "      <td>NaN</td>\n",
       "      <td>NaN</td>\n",
       "      <td>0.001462</td>\n",
       "      <td>NaN</td>\n",
       "      <td>2014-08-06</td>\n",
       "      <td>iPhone</td>\n",
       "      <td>PST</td>\n",
       "      <td>BLUE-00048</td>\n",
       "      <td>6.0</td>\n",
       "      <td>1.0</td>\n",
       "      <td>2014-08-01</td>\n",
       "    </tr>\n",
       "  </tbody>\n",
       "</table>\n",
       "</div>"
      ],
      "text/plain": [
       "    user_id study_arm  unreturned_calls  mobility  sms_length  call_duration  \\\n",
       "0  uid10431      BLUE               NaN  0.112392         NaN            NaN   \n",
       "1  uid10431      BLUE               NaN  0.413090         NaN            NaN   \n",
       "2  uid10431      BLUE               NaN  1.099014         NaN            NaN   \n",
       "3  uid10431      BLUE               NaN  4.690892         NaN            NaN   \n",
       "4  uid10431      BLUE               NaN  0.002924         NaN            NaN   \n",
       "\n",
       "   interaction_diversity  missed_interactions  aggregate_communication  \\\n",
       "0                    NaN                  NaN                      NaN   \n",
       "1                    NaN                  NaN                      NaN   \n",
       "2                    NaN                  NaN                      NaN   \n",
       "3                    NaN                  NaN                      NaN   \n",
       "4                    NaN                  NaN                      NaN   \n",
       "\n",
       "   sms_count  mobility_radius  call_count passive_date_pacific  \\\n",
       "0        NaN      3087.887243         NaN           2014-08-05   \n",
       "1        NaN        21.643242         NaN           2014-08-03   \n",
       "2        NaN         5.894548         NaN           2014-08-12   \n",
       "3        NaN         1.453950         NaN           2014-08-02   \n",
       "4        NaN         0.001462         NaN           2014-08-06   \n",
       "\n",
       "  User_Phone_Type Cohort  brightenid   day  week       start  \n",
       "0          iPhone    PST  BLUE-00048   5.0   1.0  2014-08-01  \n",
       "1          iPhone    PST  BLUE-00048   3.0   1.0  2014-08-01  \n",
       "2          iPhone    PST  BLUE-00048  12.0   2.0  2014-08-01  \n",
       "3          iPhone    PST  BLUE-00048   2.0   1.0  2014-08-01  \n",
       "4          iPhone    PST  BLUE-00048   6.0   1.0  2014-08-01  "
      ]
     },
     "execution_count": 2,
     "metadata": {},
     "output_type": "execute_result"
    }
   ],
   "source": [
    "v1sid = 'syn10236538'\n",
    "v1r = pd.read_csv(syn.get(v1sid).path, sep='\\t')\n",
    "v1r.head()"
   ]
  },
  {
   "cell_type": "code",
   "execution_count": null,
   "metadata": {
    "ExecuteTime": {
     "end_time": "2018-11-21T19:48:05.492246Z",
     "start_time": "2018-11-21T19:48:05.420451Z"
    }
   },
   "outputs": [],
   "source": [
    "v1 = v1r.drop(columns=[\n",
    "    'user_id', 'study_arm', 'start'\n",
    "]).rename(columns={\n",
    "    'brightenid':'participant_id',\n",
    "    'passive_date_pacific':'dt_passive'\n",
    "})\n",
    "\n",
    "v1.columns = [c.lower() for c in v1.columns]\n",
    "\n",
    "v1.head()"
   ]
  },
  {
   "cell_type": "code",
   "execution_count": null,
   "metadata": {
    "ExecuteTime": {
     "end_time": "2018-11-21T19:48:15.667137Z",
     "start_time": "2018-11-21T19:48:13.457051Z"
    }
   },
   "outputs": [],
   "source": [
    "toround = list(set(v1.columns) - {'dt_response', 'user_phone_type', 'cohort', 'participant_id', 'day', 'week'})\n",
    "for c in toround:\n",
    "    v1[c] =v1[c].apply(safe_round)\n",
    "\n",
    "v1.head()"
   ]
  },
  {
   "cell_type": "code",
   "execution_count": null,
   "metadata": {
    "ExecuteTime": {
     "end_time": "2018-11-21T19:48:39.815735Z",
     "start_time": "2018-11-21T19:48:39.776075Z"
    }
   },
   "outputs": [],
   "source": [
    "colorder = ['participant_id', 'dt_passive', 'day', 'week', 'cohort', 'user_phone_type']\n",
    "colorder = colorder + sorted(list(set(v1.columns) - set(colorder)))\n",
    "v1 = v1[colorder]\n",
    "\n",
    "v1.head()"
   ]
  },
  {
   "cell_type": "code",
   "execution_count": null,
   "metadata": {
    "ExecuteTime": {
     "end_time": "2018-11-21T20:03:09.502351Z",
     "start_time": "2018-11-21T20:03:09.215450Z"
    }
   },
   "outputs": [],
   "source": [
    "v1.mobility.hist()\n",
    "v1.mobility.describe()"
   ]
  },
  {
   "cell_type": "code",
   "execution_count": null,
   "metadata": {
    "ExecuteTime": {
     "end_time": "2018-11-21T19:59:02.421014Z",
     "start_time": "2018-11-21T19:59:02.396236Z"
    }
   },
   "outputs": [],
   "source": [
    "'an element $$\\(\\in\\)$$ {' + ', '.join([f'_{c}_' for c in v1.user_phone_type.unique() if str(c) != 'nan']) + '}'"
   ]
  },
  {
   "cell_type": "code",
   "execution_count": null,
   "metadata": {
    "ExecuteTime": {
     "end_time": "2018-11-09T03:07:00.408954Z",
     "start_time": "2018-11-09T03:06:29.391706Z"
    }
   },
   "outputs": [],
   "source": [
    "final = syn.store(Table(\n",
    "    Schema(\n",
    "            name='V1 Passive Features',\n",
    "            columns=as_table_columns(v1), \n",
    "            parent='syn10848316'),\n",
    "        v1\n",
    "    )\n",
    ")"
   ]
  },
  {
   "cell_type": "code",
   "execution_count": 3,
   "metadata": {
    "ExecuteTime": {
     "end_time": "2018-11-09T03:07:01.688384Z",
     "start_time": "2018-11-09T03:07:00.411461Z"
    }
   },
   "outputs": [
    {
     "ename": "SynapseHTTPError",
     "evalue": "404 Client Error: \nThe resource you are attempting to access cannot be found",
     "output_type": "error",
     "traceback": [
      "\u001b[0;31m---------------------------------------------------------------------------\u001b[0m",
      "\u001b[0;31mSynapseHTTPError\u001b[0m                          Traceback (most recent call last)",
      "\u001b[0;32m<ipython-input-3-968381942835>\u001b[0m in \u001b[0;36m<module>\u001b[0;34m\u001b[0m\n\u001b[0;32m----> 1\u001b[0;31m final = syn.setProvenance(\n\u001b[0m\u001b[1;32m      2\u001b[0m     \u001b[0;34m'syn17025494'\u001b[0m\u001b[0;34m,\u001b[0m\u001b[0;34m\u001b[0m\u001b[0;34m\u001b[0m\u001b[0m\n\u001b[1;32m      3\u001b[0m     activity=Activity(\n\u001b[1;32m      4\u001b[0m         \u001b[0mname\u001b[0m\u001b[0;34m=\u001b[0m\u001b[0;34m'Generate V1 Table Data'\u001b[0m\u001b[0;34m,\u001b[0m\u001b[0;34m\u001b[0m\u001b[0;34m\u001b[0m\u001b[0m\n\u001b[1;32m      5\u001b[0m         \u001b[0mdescription\u001b[0m\u001b[0;34m=\u001b[0m\u001b[0;34m'Process the data collected during study '\u001b[0m\u001b[0;34m,\u001b[0m\u001b[0;34m\u001b[0m\u001b[0;34m\u001b[0m\u001b[0m\n",
      "\u001b[0;32m~/opt/anaconda3/lib/python3.8/site-packages/synapseclient/client.py\u001b[0m in \u001b[0;36msetProvenance\u001b[0;34m(self, entity, activity)\u001b[0m\n\u001b[1;32m   1712\u001b[0m         \u001b[0;31m# assert that an entity is generated by an activity\u001b[0m\u001b[0;34m\u001b[0m\u001b[0;34m\u001b[0m\u001b[0;34m\u001b[0m\u001b[0m\n\u001b[1;32m   1713\u001b[0m         \u001b[0muri\u001b[0m \u001b[0;34m=\u001b[0m \u001b[0;34m'/entity/%s/generatedBy?generatedBy=%s'\u001b[0m \u001b[0;34m%\u001b[0m \u001b[0;34m(\u001b[0m\u001b[0mid_of\u001b[0m\u001b[0;34m(\u001b[0m\u001b[0mentity\u001b[0m\u001b[0;34m)\u001b[0m\u001b[0;34m,\u001b[0m \u001b[0mactivity\u001b[0m\u001b[0;34m[\u001b[0m\u001b[0;34m'id'\u001b[0m\u001b[0;34m]\u001b[0m\u001b[0;34m)\u001b[0m\u001b[0;34m\u001b[0m\u001b[0;34m\u001b[0m\u001b[0m\n\u001b[0;32m-> 1714\u001b[0;31m         \u001b[0mactivity\u001b[0m \u001b[0;34m=\u001b[0m \u001b[0mActivity\u001b[0m\u001b[0;34m(\u001b[0m\u001b[0mdata\u001b[0m\u001b[0;34m=\u001b[0m\u001b[0mself\u001b[0m\u001b[0;34m.\u001b[0m\u001b[0mrestPUT\u001b[0m\u001b[0;34m(\u001b[0m\u001b[0muri\u001b[0m\u001b[0;34m)\u001b[0m\u001b[0;34m)\u001b[0m\u001b[0;34m\u001b[0m\u001b[0;34m\u001b[0m\u001b[0m\n\u001b[0m\u001b[1;32m   1715\u001b[0m \u001b[0;34m\u001b[0m\u001b[0m\n\u001b[1;32m   1716\u001b[0m         \u001b[0;32mreturn\u001b[0m \u001b[0mactivity\u001b[0m\u001b[0;34m\u001b[0m\u001b[0;34m\u001b[0m\u001b[0m\n",
      "\u001b[0;32m~/opt/anaconda3/lib/python3.8/site-packages/synapseclient/client.py\u001b[0m in \u001b[0;36mrestPUT\u001b[0;34m(self, uri, body, endpoint, headers, retryPolicy, requests_session, **kwargs)\u001b[0m\n\u001b[1;32m   3919\u001b[0m         \u001b[0;34m:\u001b[0m\u001b[0mreturns\u001b[0m\u001b[0;34m:\u001b[0m \u001b[0mJSON\u001b[0m \u001b[0mencoding\u001b[0m \u001b[0mof\u001b[0m \u001b[0mresponse\u001b[0m\u001b[0;34m\u001b[0m\u001b[0;34m\u001b[0m\u001b[0m\n\u001b[1;32m   3920\u001b[0m         \"\"\"\n\u001b[0;32m-> 3921\u001b[0;31m         \u001b[0mresponse\u001b[0m \u001b[0;34m=\u001b[0m \u001b[0mself\u001b[0m\u001b[0;34m.\u001b[0m\u001b[0m_rest_call\u001b[0m\u001b[0;34m(\u001b[0m\u001b[0;34m'put'\u001b[0m\u001b[0;34m,\u001b[0m \u001b[0muri\u001b[0m\u001b[0;34m,\u001b[0m \u001b[0mbody\u001b[0m\u001b[0;34m,\u001b[0m \u001b[0mendpoint\u001b[0m\u001b[0;34m,\u001b[0m \u001b[0mheaders\u001b[0m\u001b[0;34m,\u001b[0m \u001b[0mretryPolicy\u001b[0m\u001b[0;34m,\u001b[0m \u001b[0mrequests_session\u001b[0m\u001b[0;34m,\u001b[0m \u001b[0;34m**\u001b[0m\u001b[0mkwargs\u001b[0m\u001b[0;34m)\u001b[0m\u001b[0;34m\u001b[0m\u001b[0;34m\u001b[0m\u001b[0m\n\u001b[0m\u001b[1;32m   3922\u001b[0m         \u001b[0;32mreturn\u001b[0m \u001b[0mself\u001b[0m\u001b[0;34m.\u001b[0m\u001b[0m_return_rest_body\u001b[0m\u001b[0;34m(\u001b[0m\u001b[0mresponse\u001b[0m\u001b[0;34m)\u001b[0m\u001b[0;34m\u001b[0m\u001b[0;34m\u001b[0m\u001b[0m\n\u001b[1;32m   3923\u001b[0m \u001b[0;34m\u001b[0m\u001b[0m\n",
      "\u001b[0;32m~/opt/anaconda3/lib/python3.8/site-packages/synapseclient/client.py\u001b[0m in \u001b[0;36m_rest_call\u001b[0;34m(self, method, uri, data, endpoint, headers, retryPolicy, requests_session, **kwargs)\u001b[0m\n\u001b[1;32m   3869\u001b[0m             \u001b[0mverbose\u001b[0m\u001b[0;34m=\u001b[0m\u001b[0mself\u001b[0m\u001b[0;34m.\u001b[0m\u001b[0mdebug\u001b[0m\u001b[0;34m,\u001b[0m \u001b[0;34m**\u001b[0m\u001b[0mretryPolicy\u001b[0m\u001b[0;34m\u001b[0m\u001b[0;34m\u001b[0m\u001b[0m\n\u001b[1;32m   3870\u001b[0m         )\n\u001b[0;32m-> 3871\u001b[0;31m         \u001b[0mself\u001b[0m\u001b[0;34m.\u001b[0m\u001b[0m_handle_synapse_http_error\u001b[0m\u001b[0;34m(\u001b[0m\u001b[0mresponse\u001b[0m\u001b[0;34m)\u001b[0m\u001b[0;34m\u001b[0m\u001b[0;34m\u001b[0m\u001b[0m\n\u001b[0m\u001b[1;32m   3872\u001b[0m         \u001b[0;32mreturn\u001b[0m \u001b[0mresponse\u001b[0m\u001b[0;34m\u001b[0m\u001b[0;34m\u001b[0m\u001b[0m\n\u001b[1;32m   3873\u001b[0m \u001b[0;34m\u001b[0m\u001b[0m\n",
      "\u001b[0;32m~/opt/anaconda3/lib/python3.8/site-packages/synapseclient/client.py\u001b[0m in \u001b[0;36m_handle_synapse_http_error\u001b[0;34m(self, response)\u001b[0m\n\u001b[1;32m   3839\u001b[0m \u001b[0;34m\u001b[0m\u001b[0m\n\u001b[1;32m   3840\u001b[0m         \u001b[0;32mtry\u001b[0m\u001b[0;34m:\u001b[0m\u001b[0;34m\u001b[0m\u001b[0;34m\u001b[0m\u001b[0m\n\u001b[0;32m-> 3841\u001b[0;31m             \u001b[0mexceptions\u001b[0m\u001b[0;34m.\u001b[0m\u001b[0m_raise_for_status\u001b[0m\u001b[0;34m(\u001b[0m\u001b[0mresponse\u001b[0m\u001b[0;34m,\u001b[0m \u001b[0mverbose\u001b[0m\u001b[0;34m=\u001b[0m\u001b[0mself\u001b[0m\u001b[0;34m.\u001b[0m\u001b[0mdebug\u001b[0m\u001b[0;34m)\u001b[0m\u001b[0;34m\u001b[0m\u001b[0;34m\u001b[0m\u001b[0m\n\u001b[0m\u001b[1;32m   3842\u001b[0m         \u001b[0;32mexcept\u001b[0m \u001b[0mexceptions\u001b[0m\u001b[0;34m.\u001b[0m\u001b[0mSynapseHTTPError\u001b[0m \u001b[0;32mas\u001b[0m \u001b[0mex\u001b[0m\u001b[0;34m:\u001b[0m\u001b[0;34m\u001b[0m\u001b[0;34m\u001b[0m\u001b[0m\n\u001b[1;32m   3843\u001b[0m             \u001b[0;31m# if we get a unauthenticated or forbidden error and the user is not logged in\u001b[0m\u001b[0;34m\u001b[0m\u001b[0;34m\u001b[0m\u001b[0;34m\u001b[0m\u001b[0m\n",
      "\u001b[0;32m~/opt/anaconda3/lib/python3.8/site-packages/synapseclient/core/exceptions.py\u001b[0m in \u001b[0;36m_raise_for_status\u001b[0;34m(response, verbose)\u001b[0m\n\u001b[1;32m    158\u001b[0m                 \u001b[0mmessage\u001b[0m \u001b[0;34m+=\u001b[0m \u001b[0;34m\"\\nCould not append all response info\"\u001b[0m\u001b[0;34m\u001b[0m\u001b[0;34m\u001b[0m\u001b[0m\n\u001b[1;32m    159\u001b[0m \u001b[0;34m\u001b[0m\u001b[0m\n\u001b[0;32m--> 160\u001b[0;31m         \u001b[0;32mraise\u001b[0m \u001b[0mSynapseHTTPError\u001b[0m\u001b[0;34m(\u001b[0m\u001b[0mmessage\u001b[0m\u001b[0;34m,\u001b[0m \u001b[0mresponse\u001b[0m\u001b[0;34m=\u001b[0m\u001b[0mresponse\u001b[0m\u001b[0;34m)\u001b[0m\u001b[0;34m\u001b[0m\u001b[0;34m\u001b[0m\u001b[0m\n\u001b[0m",
      "\u001b[0;31mSynapseHTTPError\u001b[0m: 404 Client Error: \nThe resource you are attempting to access cannot be found"
     ]
    }
   ],
   "source": [
    "final = syn.setProvenance(\n",
    "    'syn17025494',\n",
    "    activity=Activity(\n",
    "        name='Generate V1 Table Data',\n",
    "        description='Process the data collected during study ',\n",
    "        used=[v1sid],\n",
    "        executed=[\n",
    "            dict(\n",
    "                name='Curate_V1_PassiveFeatures_data',\n",
    "                url='https://github.com/apratap/BRIGHTEN-Data-Release/blob/master/Curate_V1_PassiveFeatures_data.ipynb'\n",
    "            )\n",
    "        ]\n",
    "    )\n",
    ")"
   ]
  },
  {
   "cell_type": "code",
   "execution_count": null,
   "metadata": {},
   "outputs": [],
   "source": []
  }
 ],
 "metadata": {
  "kernelspec": {
   "display_name": "Python 3",
   "language": "python",
   "name": "python3"
  },
  "language_info": {
   "codemirror_mode": {
    "name": "ipython",
    "version": 3
   },
   "file_extension": ".py",
   "mimetype": "text/x-python",
   "name": "python",
   "nbconvert_exporter": "python",
   "pygments_lexer": "ipython3",
   "version": "3.8.8"
  }
 },
 "nbformat": 4,
 "nbformat_minor": 2
}
