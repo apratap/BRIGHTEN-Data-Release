{
 "cells": [
  {
   "cell_type": "code",
   "execution_count": null,
   "metadata": {
    "ExecuteTime": {
     "end_time": "2018-11-09T01:01:41.353478Z",
     "start_time": "2018-11-09T01:01:37.444195Z"
    }
   },
   "outputs": [],
   "source": [
    "%matplotlib inline\n",
    "\n",
    "import datetime as dt\n",
    "import itertools as it\n",
    "\n",
    "from IPython.core.interactiveshell import InteractiveShell\n",
    "import matplotlib.pyplot as plt\n",
    "import pandas as pd\n",
    "import synapseclient\n",
    "from synapseclient import Activity, Schema, Table, as_table_columns\n",
    "\n",
    "InteractiveShell.ast_node_interactivity = 'all'\n",
    "syn = synapseclient.Synapse()\n",
    "syn.login()"
   ]
  },
  {
   "cell_type": "code",
   "execution_count": null,
   "metadata": {
    "ExecuteTime": {
     "end_time": "2018-11-09T00:59:43.491657Z",
     "start_time": "2018-11-09T00:59:42.811953Z"
    }
   },
   "outputs": [],
   "source": [
    "v1sid = 'syn10250483'\n",
    "\n",
    "v1r = pd.read_excel(syn.get(v1sid).path, parse_dates=['response_local'])\n",
    "\n",
    "v1r.head()"
   ]
  },
  {
   "cell_type": "code",
   "execution_count": null,
   "metadata": {
    "ExecuteTime": {
     "end_time": "2018-11-09T00:59:45.099026Z",
     "start_time": "2018-11-09T00:59:45.083058Z"
    }
   },
   "outputs": [],
   "source": [
    "v1 = v1r.drop(columns=[\n",
    "    'user_id', 'sent_time_local', 'sent_time_utc', 'response_utc', 'response_id', 'start'\n",
    "]).rename(columns={\n",
    "    'brightenid':'participant_id',\n",
    "    'response_local':'dt_response',\n",
    "    'otherapps':'apps'\n",
    "}).loc[:, ['participant_id', 'dt_response', 'week', 'apps']]\n",
    "\n",
    "v1.head()"
   ]
  },
  {
   "cell_type": "code",
   "execution_count": 22,
   "metadata": {
    "ExecuteTime": {
     "end_time": "2018-11-09T01:18:27.172529Z",
     "start_time": "2018-11-09T01:18:27.155223Z"
    }
   },
   "outputs": [
    {
     "name": "stdout",
     "output_type": "stream",
     "text": [
      "Relaxation\n",
      "Exercise / fitness\n",
      "Concentration\n",
      "Weight management\n",
      "Medical\n",
      "Mood\n",
      "Sleep\n",
      "Pain management\n",
      "Alcohol\n"
     ]
    }
   ],
   "source": [
    "def isnum(x):\n",
    "    if x is None:\n",
    "        return False\n",
    "    try:\n",
    "        float(x)\n",
    "        return True\n",
    "    except ValueError:\n",
    "        return False\n",
    "\n",
    "# find all the unique app reasons\n",
    "t = [print(i) for i in pd.unique(list(it.chain.from_iterable([t.split('|') for t in v1.apps if not isnum(t)])))]; del t"
   ]
  },
  {
   "cell_type": "code",
   "execution_count": null,
   "metadata": {
    "ExecuteTime": {
     "end_time": "2018-11-09T01:19:44.896301Z",
     "start_time": "2018-11-09T01:19:44.777797Z"
    }
   },
   "outputs": [],
   "source": [
    "def fx(x, key):\n",
    "        return int(not isnum(x) and x.find(key) > -1)\n",
    "\n",
    "# throw in the indicator variables\n",
    "v1['app_al'] = v1.apps.apply(lambda x: fx(x, 'Alcohol'))\n",
    "v1['app_ct'] = v1.apps.apply(lambda x: fx(x, 'Concentration'))\n",
    "v1['app_ef'] = v1.apps.apply(lambda x: fx(x, 'Exercise / fitness'))\n",
    "v1['app_md'] = v1.apps.apply(lambda x: fx(x, 'Medical'))\n",
    "v1['app_mo'] = v1.apps.apply(lambda x: fx(x, 'Mood'))\n",
    "v1['app_pm'] = v1.apps.apply(lambda x: fx(x, 'Pain management'))\n",
    "v1['app_rx'] = v1.apps.apply(lambda x: fx(x, 'Relaxation'))\n",
    "v1['app_sl'] = v1.apps.apply(lambda x: fx(x, 'Sleep'))\n",
    "v1['app_wm'] = v1.apps.apply(lambda x: fx(x, 'Weight management'))\n",
    "\n",
    "v1 = v1.drop(columns=['apps'])\n",
    "v1.head()"
   ]
  },
  {
   "cell_type": "code",
   "execution_count": 29,
   "metadata": {
    "ExecuteTime": {
     "end_time": "2018-11-09T01:21:34.876739Z",
     "start_time": "2018-11-09T01:21:21.233601Z"
    }
   },
   "outputs": [],
   "source": [
    "final = syn.store(Table(\n",
    "    Schema(\n",
    "            name='Additional Applications',\n",
    "            columns=as_table_columns(v1), \n",
    "            parent='syn10848316'),\n",
    "        v1\n",
    "    )\n",
    ")"
   ]
  },
  {
   "cell_type": "code",
   "execution_count": 31,
   "metadata": {
    "ExecuteTime": {
     "end_time": "2018-11-09T01:22:46.296443Z",
     "start_time": "2018-11-09T01:22:44.779919Z"
    }
   },
   "outputs": [],
   "source": [
    "final = syn.setProvenance(\n",
    "    'syn17025058',\n",
    "    activity=Activity(\n",
    "        name='Combine V1 and V2 data',\n",
    "        description='Process and combine the data collected during study 1 and study 2',\n",
    "        used=[v1sid],\n",
    "        executed=[\n",
    "            dict(\n",
    "                name='IPython Notebook',\n",
    "                url='https://github.com/apratap/BRIGHTEN-Data-Release/blob/master/Create_AdditionalApplications_datafiles.ipynb'\n",
    "            )\n",
    "        ]\n",
    "    )\n",
    ")"
   ]
  }
 ],
 "metadata": {
  "kernelspec": {
   "display_name": "Python [conda env:bright]",
   "language": "python",
   "name": "conda-env-bright-py"
  },
  "language_info": {
   "codemirror_mode": {
    "name": "ipython",
    "version": 3
   },
   "file_extension": ".py",
   "mimetype": "text/x-python",
   "name": "python",
   "nbconvert_exporter": "python",
   "pygments_lexer": "ipython3",
   "version": "3.6.6"
  }
 },
 "nbformat": 4,
 "nbformat_minor": 2
}
