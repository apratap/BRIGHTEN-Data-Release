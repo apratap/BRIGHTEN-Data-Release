{
 "cells": [
  {
   "cell_type": "markdown",
   "metadata": {},
   "source": [
    "# Applications Final Data Prep"
   ]
  },
  {
   "cell_type": "code",
   "execution_count": null,
   "metadata": {
    "ExecuteTime": {
     "end_time": "2018-11-01T21:22:30.125714Z",
     "start_time": "2018-11-01T21:22:27.279495Z"
    }
   },
   "outputs": [],
   "source": [
    "import datetime as dt\n",
    "import itertools\n",
    "import pandas as pd\n",
    "\n",
    "from IPython.core.interactiveshell import InteractiveShell\n",
    "import synapseclient\n",
    "from synapseclient import Activity, Schema, Table, as_table_columns\n",
    "\n",
    "InteractiveShell.ast_node_interactivity = 'all'\n",
    "syn = synapseclient.Synapse()\n",
    "syn.login()\n",
    "\n",
    "def isnum(x):\n",
    "    if x is None:\n",
    "        return False\n",
    "    try:\n",
    "        float(x)\n",
    "        return True\n",
    "    except ValueError:\n",
    "        return False"
   ]
  },
  {
   "cell_type": "code",
   "execution_count": null,
   "metadata": {
    "ExecuteTime": {
     "end_time": "2018-11-01T23:00:56.710080Z",
     "start_time": "2018-11-01T23:00:55.450879Z"
    }
   },
   "outputs": [],
   "source": [
    "v1sid, v2sid = 'syn12181328', 'syn9974014'\n",
    "\n",
    "v1 = pd.read_csv(syn.get(v1sid).path, parse_dates=['timestamp'])\n",
    "v2 = pd.read_csv(syn.get(v2sid).path, parse_dates=['createdAt'])\n",
    "\n",
    "v1.head()\n",
    "v2.head()"
   ]
  },
  {
   "cell_type": "markdown",
   "metadata": {},
   "source": [
    "### V1 Data Prep"
   ]
  },
  {
   "cell_type": "code",
   "execution_count": null,
   "metadata": {
    "ExecuteTime": {
     "end_time": "2018-11-01T23:00:58.441762Z",
     "start_time": "2018-11-01T23:00:58.390928Z"
    }
   },
   "outputs": [],
   "source": [
    "# drop the uneeded columns\n",
    "v1 = v1.drop(columns=[\n",
    "    'timestampUTC', 'userid'\n",
    "]).rename(columns={\n",
    "    'brightenid': 'participant_id',\n",
    "    'timestamp':'dt_response',\n",
    "    'otherapps_1':'apps'\n",
    "})\n",
    "\n",
    "# conver to lowercase for lookups\n",
    "v1.apps = v1.apps.apply(lambda x: x.lower() if not isnum(x) else 'none')\n",
    "\n",
    "# print the unique application reasons\n",
    "t = [print(a) for a in pd.unique(list(itertools.chain(*[t.split('|') for t in v1.apps])))]; del t\n",
    "\n",
    "# add indicators for different app usage\n",
    "v1['weight_management'] = v1.apps.apply(lambda x: int(x.find('weight management') > -1))\n",
    "v1['medical'] =  v1.apps.apply(lambda x: int(x.find('medical') > -1))\n",
    "v1['exercise_and_fitness'] =  v1.apps.apply(lambda x: int(x.find('exercise / fitness') > -1))\n",
    "v1['sleep'] =  v1.apps.apply(lambda x: int(x.find('sleep') > -1))\n",
    "v1['pain_management'] =  v1.apps.apply(lambda x: int(x.find('pain management') > -1))\n",
    "v1['relaxation'] =  v1.apps.apply(lambda x: int(x.find('relaxation') > -1))\n",
    "v1['alcohol'] =  v1.apps.apply(lambda x: int(x.find('alcohol') > -1))\n",
    "v1['mood'] =  v1.apps.apply(lambda x: int(x.find('mood') > -1))\n",
    "v1['concentration'] =  v1.apps.apply(lambda x: int(x.find('concentration') > -1))\n",
    "\n",
    "# add a flag to easily distinguish which study the row originated from\n",
    "v1['study'] = 'V1'\n",
    "\n",
    "v1.head()"
   ]
  },
  {
   "cell_type": "markdown",
   "metadata": {},
   "source": [
    "### V2 Data Prep"
   ]
  },
  {
   "cell_type": "code",
   "execution_count": null,
   "metadata": {
    "ExecuteTime": {
     "end_time": "2018-11-01T23:01:01.175282Z",
     "start_time": "2018-11-01T23:01:01.139974Z"
    }
   },
   "outputs": [],
   "source": [
    "# drop the uneeded columns\n",
    "v2 = v2.drop(columns=[\n",
    "    'day'\n",
    "]).rename(columns={\n",
    "    'username': 'participant_id',\n",
    "    'createdAt':'dt_response',\n",
    "    'Why did you download this app?':'apps'\n",
    "})\n",
    "\n",
    "# conver to lowercase for lookups\n",
    "v2.apps = v2.apps.apply(lambda x: x.lower() if not isnum(x) else 'none')\n",
    "t = [print(a) for a in pd.unique(list(itertools.chain(*[t.split(',') for t in v2.apps])))]; del t\n",
    "\n",
    "# add indicators for different app usage\n",
    "v2['fun'] = v2.apps.apply(lambda x: int(x.find('fun') > -1))\n",
    "v2['mental_health'] =  v2.apps.apply(lambda x: int(x.find('my mental health') > -1))\n",
    "v2['mood'] =  v2.apps.apply(lambda x: int(x.find('my mood') > -1))\n",
    "v2['managing_daily_issues'] =  v2.apps.apply(lambda x: int(x.find('managing daily issues') > -1))\n",
    "v2['improve_work'] =  v2.apps.apply(lambda x: int(x.find('improve work') > -1))\n",
    "v2['brain_health'] =  v2.apps.apply(lambda x: int(x.find('brain health') > -1))\n",
    "v2['improve_relationships'] =  v2.apps.apply(lambda x: int(x.find('improve relationships') > -1))\n",
    "v2['other'] =  v2.apps.apply(lambda x: int(x.find('other') > -1))\n",
    "\n",
    "# add the study flag\n",
    "v2['study'] = 'V2'\n",
    "v2.head()"
   ]
  },
  {
   "cell_type": "markdown",
   "metadata": {},
   "source": [
    "### Combine the DataFrames"
   ]
  },
  {
   "cell_type": "code",
   "execution_count": null,
   "metadata": {
    "ExecuteTime": {
     "end_time": "2018-11-01T23:02:11.476427Z",
     "start_time": "2018-11-01T23:02:11.400732Z"
    }
   },
   "outputs": [],
   "source": [
    "combined = pd.concat([v1, v2], sort=False)\n",
    "combined = combined.fillna(0)\n",
    "\n",
    "combined = combined.rename(columns={\n",
    "    'alcohol':            'app_a',\n",
    "    'brain_health': 'app_bh',\n",
    "    'concentration': 'app_c',\n",
    "    'exercise_and_fitness': 'app_ef',\n",
    "    'fun': 'app_f',\n",
    "    'improve_relationships': 'app_ir',\n",
    "    'improve_work': 'app_iw',\n",
    "    'managing_daily_issues': 'app_mdi',\n",
    "    'medical':'app_m',\n",
    "    'mental_health': 'app_mh',\n",
    "    'other': 'app_o',\n",
    "    'pain_management': 'app_pm',\n",
    "    'relaxation': 'app_r',\n",
    "    'sleep':'app_s',\n",
    "    'weight_management':'app_wm'\n",
    "}).drop(columns='apps').loc[:, [\n",
    "        'participant_id', 'dt_response', 'study', \n",
    "        'app_a', 'app_bh', 'app_c', 'app_ef', 'app_f', 'app_ir', 'app_iw', 'app_mdi', \n",
    "        'app_m', 'app_mh', 'app_o', 'app_pm', 'app_r', 'app_s', 'app_wm'\n",
    "    ]\n",
    "]\n",
    "\n",
    "combined.head()"
   ]
  },
  {
   "cell_type": "markdown",
   "metadata": {},
   "source": [
    "### Set provenance and upload to Synapse"
   ]
  },
  {
   "cell_type": "code",
   "execution_count": null,
   "metadata": {
    "ExecuteTime": {
     "end_time": "2018-11-01T23:06:58.142625Z",
     "start_time": "2018-11-01T23:06:45.977703Z"
    }
   },
   "outputs": [],
   "source": [
    "app_final = syn.store(Table(\n",
    "    Schema(\n",
    "            name='Application Use Survey',\n",
    "            columns=as_table_columns(combined), \n",
    "            parent='syn10848316'),\n",
    "        combined\n",
    "    )\n",
    ")"
   ]
  },
  {
   "cell_type": "code",
   "execution_count": null,
   "metadata": {
    "ExecuteTime": {
     "end_time": "2018-11-01T23:08:42.489877Z",
     "start_time": "2018-11-01T23:08:41.630645Z"
    }
   },
   "outputs": [],
   "source": [
    "phq2_final = syn.setProvenance(\n",
    "    'syn17021581',\n",
    "    activity=Activity(\n",
    "        name='Combine V1 and V2 data',\n",
    "        description='Process and combine the data collected during study 1 and study 2',\n",
    "        used=[v1sid, v2sid],\n",
    "        executed=[\n",
    "            dict(\n",
    "                name='IPython Notebook',\n",
    "                url='https://github.com/apratap/BRIGHTEN-Data-Release/blob/master/Create_AppUsage_datafiles.ipynb'\n",
    "            )\n",
    "        ]\n",
    "    )\n",
    ")"
   ]
  }
 ],
 "metadata": {
  "kernelspec": {
   "display_name": "Python [conda env:bright]",
   "language": "python",
   "name": "conda-env-bright-py"
  },
  "language_info": {
   "codemirror_mode": {
    "name": "ipython",
    "version": 3
   },
   "file_extension": ".py",
   "mimetype": "text/x-python",
   "name": "python",
   "nbconvert_exporter": "python",
   "pygments_lexer": "ipython3",
   "version": "3.6.6"
  }
 },
 "nbformat": 4,
 "nbformat_minor": 2
}
