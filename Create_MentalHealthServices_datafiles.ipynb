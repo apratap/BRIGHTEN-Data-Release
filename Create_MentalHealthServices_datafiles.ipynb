{
 "cells": [
  {
   "cell_type": "markdown",
   "metadata": {},
   "source": [
    "# Mental Health Services Final Data Prep"
   ]
  },
  {
   "cell_type": "code",
   "execution_count": 1,
   "metadata": {
    "ExecuteTime": {
     "end_time": "2018-12-26T23:20:18.877341Z",
     "start_time": "2018-12-26T23:20:14.817592Z"
    }
   },
   "outputs": [
    {
     "name": "stderr",
     "output_type": "stream",
     "text": [
      "/home/luke/anaconda3/envs/bright/lib/python3.6/importlib/_bootstrap.py:219: RuntimeWarning: numpy.dtype size changed, may indicate binary incompatibility. Expected 96, got 88\n",
      "  return f(*args, **kwds)\n",
      "/home/luke/anaconda3/envs/bright/lib/python3.6/importlib/_bootstrap.py:219: RuntimeWarning: numpy.dtype size changed, may indicate binary incompatibility. Expected 96, got 88\n",
      "  return f(*args, **kwds)\n"
     ]
    },
    {
     "name": "stdout",
     "output_type": "stream",
     "text": [
      "Welcome, Luke Waninger!\n",
      "\n"
     ]
    }
   ],
   "source": [
    "import datetime as dt\n",
    "import itertools\n",
    "import numpy as np\n",
    "import pandas as pd\n",
    "\n",
    "import matplotlib.pyplot as plt\n",
    "from IPython.core.interactiveshell import InteractiveShell\n",
    "import synapseclient\n",
    "from synapseclient import Activity, File, Schema, Table, as_table_columns\n",
    "from tqdm import tqdm\n",
    "\n",
    "InteractiveShell.ast_node_interactivity = 'all'\n",
    "syn = synapseclient.Synapse()\n",
    "syn.login()\n",
    "\n",
    "tqdm.pandas()\n",
    "\n",
    "def isnum(x):\n",
    "    if x is None:\n",
    "        return False\n",
    "    try:\n",
    "        float(x)\n",
    "        return True\n",
    "    except ValueError:\n",
    "        return False"
   ]
  },
  {
   "cell_type": "code",
   "execution_count": 3,
   "metadata": {
    "ExecuteTime": {
     "end_time": "2018-12-26T23:20:32.733805Z",
     "start_time": "2018-12-26T23:20:32.150589Z"
    }
   },
   "outputs": [
    {
     "data": {
      "text/html": [
       "<div>\n",
       "<style scoped>\n",
       "    .dataframe tbody tr th:only-of-type {\n",
       "        vertical-align: middle;\n",
       "    }\n",
       "\n",
       "    .dataframe tbody tr th {\n",
       "        vertical-align: top;\n",
       "    }\n",
       "\n",
       "    .dataframe thead th {\n",
       "        text-align: right;\n",
       "    }\n",
       "</style>\n",
       "<table border=\"1\" class=\"dataframe\">\n",
       "  <thead>\n",
       "    <tr style=\"text-align: right;\">\n",
       "      <th></th>\n",
       "      <th>userid</th>\n",
       "      <th>brightenid</th>\n",
       "      <th>timestamp</th>\n",
       "      <th>timestampUTC</th>\n",
       "      <th>mhs_1</th>\n",
       "      <th>mhs_2</th>\n",
       "      <th>mhs_3</th>\n",
       "      <th>mhs_4</th>\n",
       "      <th>mhs_5</th>\n",
       "    </tr>\n",
       "  </thead>\n",
       "  <tbody>\n",
       "    <tr>\n",
       "      <th>0</th>\n",
       "      <td>10431</td>\n",
       "      <td>BLUE-00048</td>\n",
       "      <td>2014-08-01 07:00:47</td>\n",
       "      <td>2014-08-01 11:00:48</td>\n",
       "      <td>No</td>\n",
       "      <td>No</td>\n",
       "      <td>No</td>\n",
       "      <td>No</td>\n",
       "      <td>No</td>\n",
       "    </tr>\n",
       "    <tr>\n",
       "      <th>1</th>\n",
       "      <td>10470</td>\n",
       "      <td>BLUE-00049</td>\n",
       "      <td>2014-08-01 12:32:32</td>\n",
       "      <td>2014-08-01 16:32:31</td>\n",
       "      <td>No</td>\n",
       "      <td>No</td>\n",
       "      <td>No</td>\n",
       "      <td>No</td>\n",
       "      <td>Yes</td>\n",
       "    </tr>\n",
       "    <tr>\n",
       "      <th>2</th>\n",
       "      <td>10519</td>\n",
       "      <td>BLUE-00050</td>\n",
       "      <td>2014-08-08 19:32:57</td>\n",
       "      <td>2014-08-09 02:32:57</td>\n",
       "      <td>No</td>\n",
       "      <td>No</td>\n",
       "      <td>No</td>\n",
       "      <td>No</td>\n",
       "      <td>No</td>\n",
       "    </tr>\n",
       "    <tr>\n",
       "      <th>3</th>\n",
       "      <td>10519</td>\n",
       "      <td>BLUE-00050</td>\n",
       "      <td>2014-09-08 18:23:10</td>\n",
       "      <td>2014-09-09 01:23:09</td>\n",
       "      <td>No</td>\n",
       "      <td>No</td>\n",
       "      <td>No</td>\n",
       "      <td>No</td>\n",
       "      <td>No</td>\n",
       "    </tr>\n",
       "    <tr>\n",
       "      <th>4</th>\n",
       "      <td>10519</td>\n",
       "      <td>BLUE-00050</td>\n",
       "      <td>2014-11-03 08:37:44</td>\n",
       "      <td>2014-11-03 16:37:43</td>\n",
       "      <td>No</td>\n",
       "      <td>No</td>\n",
       "      <td>No</td>\n",
       "      <td>No</td>\n",
       "      <td>No</td>\n",
       "    </tr>\n",
       "  </tbody>\n",
       "</table>\n",
       "</div>"
      ],
      "text/plain": [
       "   userid  brightenid           timestamp         timestampUTC mhs_1 mhs_2  \\\n",
       "0   10431  BLUE-00048 2014-08-01 07:00:47  2014-08-01 11:00:48    No    No   \n",
       "1   10470  BLUE-00049 2014-08-01 12:32:32  2014-08-01 16:32:31    No    No   \n",
       "2   10519  BLUE-00050 2014-08-08 19:32:57  2014-08-09 02:32:57    No    No   \n",
       "3   10519  BLUE-00050 2014-09-08 18:23:10  2014-09-09 01:23:09    No    No   \n",
       "4   10519  BLUE-00050 2014-11-03 08:37:44  2014-11-03 16:37:43    No    No   \n",
       "\n",
       "  mhs_3 mhs_4 mhs_5  \n",
       "0    No    No    No  \n",
       "1    No    No   Yes  \n",
       "2    No    No    No  \n",
       "3    No    No    No  \n",
       "4    No    No    No  "
      ]
     },
     "execution_count": 3,
     "metadata": {},
     "output_type": "execute_result"
    },
    {
     "data": {
      "text/html": [
       "<div>\n",
       "<style scoped>\n",
       "    .dataframe tbody tr th:only-of-type {\n",
       "        vertical-align: middle;\n",
       "    }\n",
       "\n",
       "    .dataframe tbody tr th {\n",
       "        vertical-align: top;\n",
       "    }\n",
       "\n",
       "    .dataframe thead th {\n",
       "        text-align: right;\n",
       "    }\n",
       "</style>\n",
       "<table border=\"1\" class=\"dataframe\">\n",
       "  <thead>\n",
       "    <tr style=\"text-align: right;\">\n",
       "      <th></th>\n",
       "      <th>userid</th>\n",
       "      <th>timestamp</th>\n",
       "      <th>mhs_1</th>\n",
       "      <th>mhs_2</th>\n",
       "      <th>mhs_3</th>\n",
       "      <th>mhs_4</th>\n",
       "      <th>mhs_5</th>\n",
       "    </tr>\n",
       "  </thead>\n",
       "  <tbody>\n",
       "    <tr>\n",
       "      <th>0</th>\n",
       "      <td>EN05337</td>\n",
       "      <td>2017-03-26 17:52:57</td>\n",
       "      <td>No</td>\n",
       "      <td>No</td>\n",
       "      <td>No</td>\n",
       "      <td>No</td>\n",
       "      <td>No</td>\n",
       "    </tr>\n",
       "    <tr>\n",
       "      <th>1</th>\n",
       "      <td>EN00252</td>\n",
       "      <td>2016-09-28 19:56:34</td>\n",
       "      <td>No</td>\n",
       "      <td>No</td>\n",
       "      <td>No</td>\n",
       "      <td>No</td>\n",
       "      <td>Yes</td>\n",
       "    </tr>\n",
       "    <tr>\n",
       "      <th>2</th>\n",
       "      <td>EN00599</td>\n",
       "      <td>2016-12-05 08:12:32</td>\n",
       "      <td>No</td>\n",
       "      <td>No</td>\n",
       "      <td>No</td>\n",
       "      <td>No</td>\n",
       "      <td>No</td>\n",
       "    </tr>\n",
       "    <tr>\n",
       "      <th>3</th>\n",
       "      <td>EN00625</td>\n",
       "      <td>2016-12-19 17:14:09</td>\n",
       "      <td>No</td>\n",
       "      <td>No</td>\n",
       "      <td>No</td>\n",
       "      <td>No</td>\n",
       "      <td>No</td>\n",
       "    </tr>\n",
       "    <tr>\n",
       "      <th>4</th>\n",
       "      <td>EN00150</td>\n",
       "      <td>2016-10-14 01:32:47</td>\n",
       "      <td>No</td>\n",
       "      <td>No</td>\n",
       "      <td>No</td>\n",
       "      <td>No</td>\n",
       "      <td>No</td>\n",
       "    </tr>\n",
       "  </tbody>\n",
       "</table>\n",
       "</div>"
      ],
      "text/plain": [
       "    userid           timestamp mhs_1 mhs_2 mhs_3 mhs_4 mhs_5\n",
       "0  EN05337 2017-03-26 17:52:57    No    No    No    No    No\n",
       "1  EN00252 2016-09-28 19:56:34    No    No    No    No   Yes\n",
       "2  EN00599 2016-12-05 08:12:32    No    No    No    No    No\n",
       "3  EN00625 2016-12-19 17:14:09    No    No    No    No    No\n",
       "4  EN00150 2016-10-14 01:32:47    No    No    No    No    No"
      ]
     },
     "execution_count": 3,
     "metadata": {},
     "output_type": "execute_result"
    }
   ],
   "source": [
    "v1sid, v2sid = 'syn12181333', 'syn12181343'\n",
    "\n",
    "v1r = pd.read_csv(syn.get(v1sid).path, parse_dates=['timestamp'])\n",
    "v2r = pd.read_csv(syn.get(v2sid).path, parse_dates=['timestamp'])\n",
    "\n",
    "v1r.head()\n",
    "v2r.head()"
   ]
  },
  {
   "cell_type": "code",
   "execution_count": null,
   "metadata": {
    "ExecuteTime": {
     "end_time": "2018-12-26T22:59:01.659931Z",
     "start_time": "2018-12-26T22:59:01.656312Z"
    }
   },
   "outputs": [],
   "source": [
    "# # upload v2 to public release portal as csv\n",
    "# v2p = v2r.copy()\n",
    "# name = 'V2_MentalHealthSvc.csv'\n",
    "\n",
    "# v2p.to_csv(name, index=None)\n",
    "# v2p = syn.setProvenance(\n",
    "#     syn.store(File(name=name, path=name, parent='syn10848316')),\n",
    "#     activity=Activity(\n",
    "#         name='Public Release',\n",
    "#         description='Prepare data for public realease',\n",
    "#         used=[v2sid],\n",
    "#         executed=[\n",
    "#             dict(\n",
    "#                 name='IPython Notebook',\n",
    "#                 url='https://github.com/apratap/BRIGHTEN-Data-Release/blob/master/Create_ImpactMHS_datafiles.ipynb'\n",
    "#             )\n",
    "#         ]\n",
    "#     )\n",
    "# )"
   ]
  },
  {
   "cell_type": "code",
   "execution_count": 4,
   "metadata": {
    "ExecuteTime": {
     "end_time": "2018-12-26T23:20:34.826616Z",
     "start_time": "2018-12-26T23:20:34.823860Z"
    }
   },
   "outputs": [],
   "source": [
    "v2sid='syn12181343'"
   ]
  },
  {
   "cell_type": "code",
   "execution_count": null,
   "metadata": {
    "ExecuteTime": {
     "end_time": "2018-12-26T22:59:01.745031Z",
     "start_time": "2018-12-26T22:59:01.690672Z"
    }
   },
   "outputs": [],
   "source": [
    "v1 = v1r.drop(columns=[\n",
    "    'userid', 'timestampUTC'\n",
    "]).rename(columns={\n",
    "    'brightenid':'participant_id',\n",
    "    'timestamp':'dt_response'\n",
    "})\n",
    "\n",
    "# convert the response columns to appropiate indicators\n",
    "def fx(x):\n",
    "    if x == 'No':\n",
    "        return 0\n",
    "    elif x == 'Yes':\n",
    "        return 1\n",
    "    else:\n",
    "        return -1\n",
    "    \n",
    "for i in range(1, 6):\n",
    "    v1[f'mhs_{i}'] = v1[f'mhs_{i}'].apply(fx)\n",
    "\n",
    "v1.head()"
   ]
  },
  {
   "cell_type": "code",
   "execution_count": null,
   "metadata": {
    "ExecuteTime": {
     "end_time": "2018-12-26T22:59:01.779622Z",
     "start_time": "2018-12-26T22:59:01.749246Z"
    }
   },
   "outputs": [],
   "source": [
    "v2 = v2r.rename(columns={\n",
    "    'userid':'participant_id',\n",
    "    'timestamp':'dt_response'\n",
    "})\n",
    "\n",
    "# convert the response columns to appropiate indicators\n",
    "def fx(x):\n",
    "    if x == 'No':\n",
    "        return 0\n",
    "    elif x == 'Yes':\n",
    "        return 1\n",
    "    else:\n",
    "        return -1\n",
    "    \n",
    "for i in range(1, 6):\n",
    "    v2[f'mhs_{i}'] = v2[f'mhs_{i}'].apply(fx)\n",
    "\n",
    "v2.head()"
   ]
  },
  {
   "cell_type": "markdown",
   "metadata": {},
   "source": [
    "### Combine the DataFrames"
   ]
  },
  {
   "cell_type": "code",
   "execution_count": null,
   "metadata": {
    "ExecuteTime": {
     "end_time": "2018-12-26T22:59:01.817745Z",
     "start_time": "2018-12-26T22:59:01.781932Z"
    }
   },
   "outputs": [],
   "source": [
    "combined = pd.concat([v1, v2], sort=False)\n",
    "combined.head()"
   ]
  },
  {
   "cell_type": "markdown",
   "metadata": {},
   "source": [
    "### Add week into study"
   ]
  },
  {
   "cell_type": "code",
   "execution_count": null,
   "metadata": {
    "ExecuteTime": {
     "end_time": "2018-12-26T22:59:02.364618Z",
     "start_time": "2018-12-26T22:59:01.822481Z"
    }
   },
   "outputs": [],
   "source": [
    "metasid = 'syn17023349'\n",
    "metadata = syn.tableQuery(f'SELECT participant_id, startdate FROM {metasid}').asDataFrame(convert_to_datetime=True)\n",
    "metadata.startdate = pd.to_datetime(metadata.startdate)\n",
    "\n",
    "# add in the participants start date as a new column\n",
    "combined = pd.merge(combined, metadata, on='participant_id', how='left')\n",
    "\n",
    "# get the time difference in weeks as a float\n",
    "combined['week'] = [\n",
    "    d.days/7 for d in (\n",
    "        combined.dt_response.apply(\n",
    "            lambda x: dt.datetime(year=x.year, month=x.month, day=x.day))-combined.startdate\n",
    "    )\n",
    "]\n",
    "\n",
    "# convert the week number to an int by taking the floor\n",
    "combined.week = combined.week.progress_apply(lambda x: np.int16(np.floor(x))+1)# if not pd.isnull(x) else np.nan)\n",
    "\n",
    "# remove the start date\n",
    "combined = combined.drop(columns=['startdate'], errors='ignore')\n",
    "\n",
    "# reorder the columns\n",
    "cols = list(combined.columns)\n",
    "cols = cols[0:2] + ['week'] + cols[2:-1]\n",
    "combined = combined.reindex(columns=cols)\n",
    "\n",
    "combined.head()"
   ]
  },
  {
   "cell_type": "code",
   "execution_count": null,
   "metadata": {
    "ExecuteTime": {
     "end_time": "2018-12-26T22:59:02.707298Z",
     "start_time": "2018-12-26T22:59:02.366513Z"
    }
   },
   "outputs": [],
   "source": [
    "combined.week.hist()"
   ]
  },
  {
   "cell_type": "markdown",
   "metadata": {},
   "source": [
    "### Set provenance and upload to Synapse"
   ]
  },
  {
   "cell_type": "code",
   "execution_count": null,
   "metadata": {
    "ExecuteTime": {
     "end_time": "2018-12-26T22:59:10.847199Z",
     "start_time": "2018-12-26T22:59:02.709992Z"
    }
   },
   "outputs": [],
   "source": [
    "t = syn.delete(\n",
    "    syn.tableQuery('select * from syn17022660')\n",
    ")"
   ]
  },
  {
   "cell_type": "code",
   "execution_count": null,
   "metadata": {
    "ExecuteTime": {
     "end_time": "2018-12-26T22:59:17.928166Z",
     "start_time": "2018-12-26T22:59:10.855597Z"
    }
   },
   "outputs": [],
   "source": [
    "final = syn.store(Table(\n",
    "    Schema(\n",
    "            name='Mental Health Services',\n",
    "            columns=as_table_columns(combined), \n",
    "            parent='syn10848316'),\n",
    "        combined\n",
    "    )\n",
    ")"
   ]
  },
  {
   "cell_type": "code",
   "execution_count": 7,
   "metadata": {
    "ExecuteTime": {
     "end_time": "2018-12-26T23:20:47.743461Z",
     "start_time": "2018-12-26T23:20:47.261472Z"
    }
   },
   "outputs": [],
   "source": [
    "final = syn.setProvenance(\n",
    "    'syn17022660',\n",
    "    activity=Activity(\n",
    "        name='Combine V1 and V2 data',\n",
    "        description='Process and combine the data collected during study 1 and study 2',\n",
    "        used=[v1sid, v2sid, metasid],\n",
    "        executed=[\n",
    "            dict(\n",
    "                name='IPython Notebook',\n",
    "                url='https://github.com/apratap/BRIGHTEN-Data-Release/blob/master/Create_MentalHealthServices_datafiles.ipynb'\n",
    "            )\n",
    "        ]\n",
    "    )\n",
    ")"
   ]
  }
 ],
 "metadata": {
  "kernelspec": {
   "display_name": "Python [conda env:bright]",
   "language": "python",
   "name": "conda-env-bright-py"
  },
  "language_info": {
   "codemirror_mode": {
    "name": "ipython",
    "version": 3
   },
   "file_extension": ".py",
   "mimetype": "text/x-python",
   "name": "python",
   "nbconvert_exporter": "python",
   "pygments_lexer": "ipython3",
   "version": "3.6.6"
  },
  "varInspector": {
   "cols": {
    "lenName": 16,
    "lenType": 16,
    "lenVar": 40
   },
   "kernels_config": {
    "python": {
     "delete_cmd_postfix": "",
     "delete_cmd_prefix": "del ",
     "library": "var_list.py",
     "varRefreshCmd": "print(var_dic_list())"
    },
    "r": {
     "delete_cmd_postfix": ") ",
     "delete_cmd_prefix": "rm(",
     "library": "var_list.r",
     "varRefreshCmd": "cat(var_dic_list()) "
    }
   },
   "types_to_exclude": [
    "module",
    "function",
    "builtin_function_or_method",
    "instance",
    "_Feature"
   ],
   "window_display": false
  }
 },
 "nbformat": 4,
 "nbformat_minor": 2
}
