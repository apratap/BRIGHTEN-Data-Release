{
 "cells": [
  {
   "cell_type": "code",
   "execution_count": null,
   "metadata": {
    "ExecuteTime": {
     "end_time": "2018-11-21T21:00:22.096562Z",
     "start_time": "2018-11-21T21:00:18.472567Z"
    }
   },
   "outputs": [],
   "source": [
    "%matplotlib inline\n",
    "\n",
    "import datetime as dt\n",
    "import itertools as it\n",
    "\n",
    "from IPython.core.interactiveshell import InteractiveShell\n",
    "import matplotlib.pyplot as plt\n",
    "import numpy as np\n",
    "import pandas as pd\n",
    "import synapseclient\n",
    "from synapseclient import Activity, Schema, Table, as_table_columns\n",
    "\n",
    "InteractiveShell.ast_node_interactivity = 'all'\n",
    "syn = synapseclient.Synapse()\n",
    "syn.login()"
   ]
  },
  {
   "cell_type": "code",
   "execution_count": null,
   "metadata": {
    "ExecuteTime": {
     "end_time": "2018-11-21T21:00:22.471318Z",
     "start_time": "2018-11-21T21:00:22.102095Z"
    }
   },
   "outputs": [],
   "source": [
    "v2sid = 'syn10165199'\n",
    "v2r = pd.read_csv(syn.get(v2sid).path, sep='\\t')\n",
    "v2r.head()"
   ]
  },
  {
   "cell_type": "code",
   "execution_count": null,
   "metadata": {
    "ExecuteTime": {
     "end_time": "2018-11-21T21:00:22.530926Z",
     "start_time": "2018-11-21T21:00:22.473865Z"
    },
    "scrolled": true
   },
   "outputs": [],
   "source": [
    "v2 = v2r.rename(columns={\n",
    "    'username':'participant_id',\n",
    "    'passive_date':'dt_passive'\n",
    "})\n",
    "\n",
    "v2.head()"
   ]
  },
  {
   "cell_type": "markdown",
   "metadata": {},
   "source": [
    "no columns have na values \n",
    "\n",
    "all columns call_hour_i-missed are 0"
   ]
  },
  {
   "cell_type": "code",
   "execution_count": null,
   "metadata": {
    "ExecuteTime": {
     "end_time": "2018-11-21T21:00:22.574749Z",
     "start_time": "2018-11-21T21:00:22.535594Z"
    }
   },
   "outputs": [],
   "source": [
    "labels = [\n",
    "    'participant_id', 'dt_passive', \n",
    "    'call_duration_secs-Incoming', 'call_duration_secs-Outgoing',\n",
    "    'numCalls_Incoming', 'numCalls_Missed', 'numCalls_Outgoing', \n",
    "    'numTexts-', 'numTexts-Received', 'numTexts-Sent',\n",
    "    'text_length-Received', 'text_length-Sent',\n",
    "    'uniqueNumbers-Incoming', 'uniqueNumbers-Missed', 'uniqueNumbers-Outgoing', \n",
    "    'uniqueNumbersTexted-', 'uniqueNumbersTexted-Received', 'uniqueNumbersTexted-Sent'\n",
    "]\n",
    "v2 = v2.reindex(labels, axis=1).fillna(0)\n",
    "\n",
    "v2 = v2.rename(columns={\n",
    "    'call_duration_secs-Incoming':'callDuration_incoming', \n",
    "    'call_duration_secs-Outgoing':'callDuration_outgoing',\n",
    "    'numCalls_Incoming':'callCount_incoming',\n",
    "    'numCalls_Missed':'callCount_missed',\n",
    "    'numCalls_Outgoing':'callCount_outgoing', \n",
    "    'numTexts-':'textCount', \n",
    "    'numTexts-Received':'textCount_received', \n",
    "    'numTexts-Sent':'textCount_sent',\n",
    "    'text_length-Received':'textLength_received', \n",
    "    'text_length-Sent':'textLength_sent',\n",
    "    'uniqueNumbers-Incoming':'uniqueNumbers_calls_incoming', \n",
    "    'uniqueNumbers-Missed':'uniqueNumbers_calls_missed', \n",
    "    'uniqueNumbers-Outgoing':'uniqueNumbers_calls_outgoing', \n",
    "    'uniqueNumbersTexted-':'uniqueNumbers_texts', \n",
    "    'uniqueNumbersTexted-Received':'uniqueNumbers_texts_received',\n",
    "    'uniqueNumbersTexted-Sent':'uniqueNumbers_texts_sent'\n",
    "})\n",
    "\n",
    "v2.head()"
   ]
  },
  {
   "cell_type": "code",
   "execution_count": 12,
   "metadata": {
    "ExecuteTime": {
     "end_time": "2018-11-21T21:14:56.611853Z",
     "start_time": "2018-11-21T21:14:56.596992Z"
    }
   },
   "outputs": [
    {
     "data": {
      "text/html": [
       "<div>\n",
       "<style scoped>\n",
       "    .dataframe tbody tr th:only-of-type {\n",
       "        vertical-align: middle;\n",
       "    }\n",
       "\n",
       "    .dataframe tbody tr th {\n",
       "        vertical-align: top;\n",
       "    }\n",
       "\n",
       "    .dataframe thead th {\n",
       "        text-align: right;\n",
       "    }\n",
       "</style>\n",
       "<table border=\"1\" class=\"dataframe\">\n",
       "  <thead>\n",
       "    <tr style=\"text-align: right;\">\n",
       "      <th></th>\n",
       "      <th>0</th>\n",
       "      <th>1</th>\n",
       "    </tr>\n",
       "  </thead>\n",
       "  <tbody>\n",
       "    <tr>\n",
       "      <th>0</th>\n",
       "      <td>participant_id</td>\n",
       "      <td>str</td>\n",
       "    </tr>\n",
       "    <tr>\n",
       "      <th>1</th>\n",
       "      <td>dt_passive</td>\n",
       "      <td>str</td>\n",
       "    </tr>\n",
       "    <tr>\n",
       "      <th>2</th>\n",
       "      <td>callDuration_incoming</td>\n",
       "      <td>int</td>\n",
       "    </tr>\n",
       "    <tr>\n",
       "      <th>3</th>\n",
       "      <td>callDuration_outgoing</td>\n",
       "      <td>int</td>\n",
       "    </tr>\n",
       "    <tr>\n",
       "      <th>4</th>\n",
       "      <td>callCount_incoming</td>\n",
       "      <td>float</td>\n",
       "    </tr>\n",
       "    <tr>\n",
       "      <th>5</th>\n",
       "      <td>callCount_missed</td>\n",
       "      <td>float</td>\n",
       "    </tr>\n",
       "    <tr>\n",
       "      <th>6</th>\n",
       "      <td>callCount_outgoing</td>\n",
       "      <td>float</td>\n",
       "    </tr>\n",
       "    <tr>\n",
       "      <th>7</th>\n",
       "      <td>textCount</td>\n",
       "      <td>int</td>\n",
       "    </tr>\n",
       "    <tr>\n",
       "      <th>8</th>\n",
       "      <td>textCount_received</td>\n",
       "      <td>int</td>\n",
       "    </tr>\n",
       "    <tr>\n",
       "      <th>9</th>\n",
       "      <td>textCount_sent</td>\n",
       "      <td>int</td>\n",
       "    </tr>\n",
       "    <tr>\n",
       "      <th>10</th>\n",
       "      <td>textLength_received</td>\n",
       "      <td>int</td>\n",
       "    </tr>\n",
       "    <tr>\n",
       "      <th>11</th>\n",
       "      <td>textLength_sent</td>\n",
       "      <td>int</td>\n",
       "    </tr>\n",
       "    <tr>\n",
       "      <th>12</th>\n",
       "      <td>uniqueNumbers_calls_incoming</td>\n",
       "      <td>int</td>\n",
       "    </tr>\n",
       "    <tr>\n",
       "      <th>13</th>\n",
       "      <td>uniqueNumbers_calls_missed</td>\n",
       "      <td>int</td>\n",
       "    </tr>\n",
       "    <tr>\n",
       "      <th>14</th>\n",
       "      <td>uniqueNumbers_calls_outgoing</td>\n",
       "      <td>int</td>\n",
       "    </tr>\n",
       "    <tr>\n",
       "      <th>15</th>\n",
       "      <td>uniqueNumbers_texts</td>\n",
       "      <td>int</td>\n",
       "    </tr>\n",
       "    <tr>\n",
       "      <th>16</th>\n",
       "      <td>uniqueNumbers_texts_received</td>\n",
       "      <td>int</td>\n",
       "    </tr>\n",
       "    <tr>\n",
       "      <th>17</th>\n",
       "      <td>uniqueNumbers_texts_sent</td>\n",
       "      <td>int</td>\n",
       "    </tr>\n",
       "  </tbody>\n",
       "</table>\n",
       "</div>"
      ],
      "text/plain": [
       "                               0      1\n",
       "0                 participant_id    str\n",
       "1                     dt_passive    str\n",
       "2          callDuration_incoming    int\n",
       "3          callDuration_outgoing    int\n",
       "4             callCount_incoming  float\n",
       "5               callCount_missed  float\n",
       "6             callCount_outgoing  float\n",
       "7                      textCount    int\n",
       "8             textCount_received    int\n",
       "9                 textCount_sent    int\n",
       "10           textLength_received    int\n",
       "11               textLength_sent    int\n",
       "12  uniqueNumbers_calls_incoming    int\n",
       "13    uniqueNumbers_calls_missed    int\n",
       "14  uniqueNumbers_calls_outgoing    int\n",
       "15           uniqueNumbers_texts    int\n",
       "16  uniqueNumbers_texts_received    int\n",
       "17      uniqueNumbers_texts_sent    int"
      ]
     },
     "execution_count": 12,
     "metadata": {},
     "output_type": "execute_result"
    }
   ],
   "source": [
    "cheat = []\n",
    "for c in v2.columns:\n",
    "    cheat.append(\n",
    "        (c, str(v2[c].dtype).replace('object', 'str').replace('float64', 'float').replace('int64', 'int'))\n",
    "    )\n",
    "pd.DataFrame(cheat)"
   ]
  },
  {
   "cell_type": "code",
   "execution_count": 9,
   "metadata": {
    "ExecuteTime": {
     "end_time": "2018-11-21T21:13:49.466455Z",
     "start_time": "2018-11-21T21:13:41.276747Z"
    }
   },
   "outputs": [],
   "source": [
    "final = syn.store(Table(\n",
    "    Schema(\n",
    "            name='Passive Features (v2)',\n",
    "            columns=as_table_columns(v2), \n",
    "            parent='syn10848316'),\n",
    "        v2\n",
    "    )\n",
    ")"
   ]
  },
  {
   "cell_type": "code",
   "execution_count": 10,
   "metadata": {
    "ExecuteTime": {
     "end_time": "2018-11-21T21:13:52.069687Z",
     "start_time": "2018-11-21T21:13:50.759219Z"
    }
   },
   "outputs": [],
   "source": [
    "final = syn.setProvenance(\n",
    "    'syn17060502',\n",
    "    activity=Activity(\n",
    "        name='Generate V2 Table Data',\n",
    "        description='Process the data collected during study ',\n",
    "        used=[v2sid],\n",
    "        executed=[\n",
    "            dict(\n",
    "                name='IPython Notebook',\n",
    "                url='https://github.com/apratap/BRIGHTEN-Data-Release/blob/master/Create_V2PassiveFeatures_datafiles.ipynb'\n",
    "            )\n",
    "        ]\n",
    "    )\n",
    ")"
   ]
  }
 ],
 "metadata": {
  "kernelspec": {
   "display_name": "Python [conda env:bright]",
   "language": "python",
   "name": "conda-env-bright-py"
  },
  "language_info": {
   "codemirror_mode": {
    "name": "ipython",
    "version": 3
   },
   "file_extension": ".py",
   "mimetype": "text/x-python",
   "name": "python",
   "nbconvert_exporter": "python",
   "pygments_lexer": "ipython3",
   "version": "3.6.6"
  },
  "varInspector": {
   "cols": {
    "lenName": 16,
    "lenType": 16,
    "lenVar": 40
   },
   "kernels_config": {
    "python": {
     "delete_cmd_postfix": "",
     "delete_cmd_prefix": "del ",
     "library": "var_list.py",
     "varRefreshCmd": "print(var_dic_list())"
    },
    "r": {
     "delete_cmd_postfix": ") ",
     "delete_cmd_prefix": "rm(",
     "library": "var_list.r",
     "varRefreshCmd": "cat(var_dic_list()) "
    }
   },
   "types_to_exclude": [
    "module",
    "function",
    "builtin_function_or_method",
    "instance",
    "_Feature"
   ],
   "window_display": false
  }
 },
 "nbformat": 4,
 "nbformat_minor": 2
}
